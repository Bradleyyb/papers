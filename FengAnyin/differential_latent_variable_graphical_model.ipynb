{
 "cells": [
  {
   "cell_type": "code",
   "execution_count": 10,
   "metadata": {},
   "outputs": [
    {
     "name": "stdout",
     "output_type": "stream",
     "text": [
      "Collecting nilearn\n",
      "  Downloading nilearn-0.8.1-py3-none-any.whl (10.0 MB)\n",
      "\u001b[K     |████████████████████████████████| 10.0 MB 4.9 MB/s eta 0:00:01\n",
      "\u001b[?25hCollecting nibabel>=2.5\n",
      "  Downloading nibabel-3.2.1-py3-none-any.whl (3.3 MB)\n",
      "\u001b[K     |████████████████████████████████| 3.3 MB 17.9 MB/s eta 0:00:01\n",
      "\u001b[?25hRequirement already satisfied: pandas>=0.24.0 in /Users/fenganyin/opt/anaconda3/lib/python3.7/site-packages (from nilearn) (1.2.3)\n",
      "Requirement already satisfied: requests>=2 in /Users/fenganyin/opt/anaconda3/lib/python3.7/site-packages (from nilearn) (2.22.0)\n",
      "Requirement already satisfied: numpy>=1.16 in /Users/fenganyin/opt/anaconda3/lib/python3.7/site-packages (from nilearn) (1.19.4)\n",
      "Requirement already satisfied: scikit-learn>=0.21 in /Users/fenganyin/opt/anaconda3/lib/python3.7/site-packages (from nilearn) (0.24.1)\n",
      "Requirement already satisfied: scipy>=1.2 in /Users/fenganyin/opt/anaconda3/lib/python3.7/site-packages (from nilearn) (1.6.1)\n",
      "Requirement already satisfied: joblib>=0.12 in /Users/fenganyin/opt/anaconda3/lib/python3.7/site-packages (from nilearn) (0.14.1)\n",
      "Requirement already satisfied: packaging>=14.3 in /Users/fenganyin/opt/anaconda3/lib/python3.7/site-packages (from nibabel>=2.5->nilearn) (20.1)\n",
      "Requirement already satisfied: pyparsing>=2.0.2 in /Users/fenganyin/opt/anaconda3/lib/python3.7/site-packages (from numpy>=1.16->nilearn) (2.4.6)\n",
      "Requirement already satisfied: six in /Users/fenganyin/opt/anaconda3/lib/python3.7/site-packages (from numpy>=1.16->nilearn) (1.15.0)\n",
      "Requirement already satisfied: python-dateutil>=2.7.3 in /Users/fenganyin/opt/anaconda3/lib/python3.7/site-packages (from pandas>=0.24.0->nilearn) (2.8.1)\n",
      "Requirement already satisfied: pytz>=2017.3 in /Users/fenganyin/opt/anaconda3/lib/python3.7/site-packages (from pandas>=0.24.0->nilearn) (2019.3)\n",
      "Requirement already satisfied: urllib3!=1.25.0,!=1.25.1,<1.26,>=1.21.1 in /Users/fenganyin/opt/anaconda3/lib/python3.7/site-packages (from requests>=2->nilearn) (1.25.8)\n",
      "Requirement already satisfied: chardet<3.1.0,>=3.0.2 in /Users/fenganyin/opt/anaconda3/lib/python3.7/site-packages (from requests>=2->nilearn) (3.0.4)\n",
      "Requirement already satisfied: idna<2.9,>=2.5 in /Users/fenganyin/opt/anaconda3/lib/python3.7/site-packages (from requests>=2->nilearn) (2.8)\n",
      "Requirement already satisfied: certifi>=2017.4.17 in /Users/fenganyin/opt/anaconda3/lib/python3.7/site-packages (from requests>=2->nilearn) (2021.10.8)\n",
      "Requirement already satisfied: threadpoolctl>=2.0.0 in /Users/fenganyin/opt/anaconda3/lib/python3.7/site-packages (from scikit-learn>=0.21->nilearn) (2.1.0)\n",
      "Installing collected packages: nibabel, nilearn\n",
      "Successfully installed nibabel-3.2.1 nilearn-0.8.1\n",
      "Note: you may need to restart the kernel to use updated packages.\n"
     ]
    }
   ],
   "source": [
    "pip install nilearn"
   ]
  },
  {
   "cell_type": "code",
   "execution_count": 31,
   "metadata": {},
   "outputs": [
    {
     "name": "stdout",
     "output_type": "stream",
     "text": [
      "\n",
      "PackageNotInstalledError: Package is not installed in prefix.\n",
      "  prefix: /Users/fenganyin/opt/anaconda3\n",
      "  package name: pandas\n",
      "\n",
      "\n",
      "\n",
      "Note: you may need to restart the kernel to use updated packages.\n"
     ]
    }
   ],
   "source": [
    "conda update pandas "
   ]
  },
  {
   "cell_type": "code",
   "execution_count": 2,
   "metadata": {},
   "outputs": [
    {
     "name": "stderr",
     "output_type": "stream",
     "text": [
      "/Users/fenganyin/opt/anaconda3/lib/python3.7/site-packages/nilearn/datasets/__init__.py:96: FutureWarning: Fetchers from the nilearn.datasets module will be updated in version 0.9 to return python strings instead of bytes and Pandas dataframes instead of Numpy arrays.\n",
      "  \"Numpy arrays.\", FutureWarning)\n"
     ]
    }
   ],
   "source": [
    "import pandas as pd\n",
    "from nilearn import datasets\n",
    "from nilearn.input_data import NiftiLabelsMasker\n",
    "import numpy as np\n",
    "import os\n",
    "import glob"
   ]
  },
  {
   "cell_type": "code",
   "execution_count": 12,
   "metadata": {},
   "outputs": [],
   "source": [
    "os.chdir('/Users/fenganyin/Desktop/realdata')"
   ]
  },
  {
   "cell_type": "code",
   "execution_count": 13,
   "metadata": {},
   "outputs": [
    {
     "name": "stdout",
     "output_type": "stream",
     "text": [
      "remove result file, Done!\n"
     ]
    }
   ],
   "source": [
    "filelist = [ f for f in os.listdir(os.getcwd() + '/data/Output')]\n",
    "for f in filelist:\n",
    "    os.remove(os.path.join(os.getcwd() + '/data/Output/', f))\n",
    "print('remove result file, Done!')"
   ]
  },
  {
   "cell_type": "code",
   "execution_count": 14,
   "metadata": {},
   "outputs": [],
   "source": [
    "dataset = datasets.fetch_atlas_harvard_oxford('cort-maxprob-thr25-2mm', os.getcwd() + '/data/Atlas')\n",
    "atlas_filename = dataset.maps\n",
    "labels = dataset.labels\n",
    "df = pd.DataFrame(labels)\n",
    "df.to_csv('data/Output/labels.csv')\n",
    "with open(os.getcwd()+'/data/atlas.txt', 'w+') as f:\n",
    "    print(atlas_filename, file = f)"
   ]
  },
  {
   "cell_type": "code",
   "execution_count": 17,
   "metadata": {},
   "outputs": [
    {
     "name": "stdout",
     "output_type": "stream",
     "text": [
      "\n",
      "Dataset created in /Users/fenganyin/Desktop/realdata/data/COBRE/cobre\n",
      "\n",
      "Downloading data from https://api.figshare.com/v2/articles/4197885 ...\n"
     ]
    },
    {
     "name": "stderr",
     "output_type": "stream",
     "text": [
      " ...done. (2 seconds, 0 min)\n"
     ]
    },
    {
     "name": "stdout",
     "output_type": "stream",
     "text": [
      "Downloading data from https://ndownloader.figshare.com/files/6849063 ...\n"
     ]
    },
    {
     "name": "stderr",
     "output_type": "stream",
     "text": [
      " ...done. (2 seconds, 0 min)\n",
      "Extracting data from /Users/fenganyin/Desktop/realdata/data/COBRE/cobre/bbfb27073f7305ba75f231550ad51673/phenotypic_data.tsv.gz..... done.\n"
     ]
    },
    {
     "name": "stdout",
     "output_type": "stream",
     "text": [
      "Downloading data from https://ndownloader.figshare.com/files/6848454 ...\n"
     ]
    },
    {
     "name": "stderr",
     "output_type": "stream",
     "text": [
      "Downloaded 3678208 of 4575042 bytes (80.4%,    1.1s remaining) ...done. (7 seconds, 0 min)\n"
     ]
    },
    {
     "name": "stdout",
     "output_type": "stream",
     "text": [
      "Downloading data from https://ndownloader.figshare.com/files/6848457 ...\n"
     ]
    },
    {
     "name": "stderr",
     "output_type": "stream",
     "text": [
      " ...done. (1 seconds, 0 min)\n",
      "Extracting data from /Users/fenganyin/Desktop/realdata/data/COBRE/cobre/0cd5e97478f9a8e664a01eb1c6ba17e1/fmri_0040046.tsv.gz..... done.\n"
     ]
    },
    {
     "name": "stdout",
     "output_type": "stream",
     "text": [
      "Downloading data from https://ndownloader.figshare.com/files/6848190 ...\n"
     ]
    },
    {
     "name": "stderr",
     "output_type": "stream",
     "text": [
      "Downloaded 647168 of 4479849 bytes (14.4%,    6.1s remaining) ...done. (4 seconds, 0 min)\n"
     ]
    },
    {
     "name": "stdout",
     "output_type": "stream",
     "text": [
      "Downloading data from https://ndownloader.figshare.com/files/6848193 ...\n"
     ]
    },
    {
     "name": "stderr",
     "output_type": "stream",
     "text": [
      " ...done. (1 seconds, 0 min)\n",
      "Extracting data from /Users/fenganyin/Desktop/realdata/data/COBRE/cobre/0822cabbe39213c28b7a33bea04f0ae9/fmri_0040002.tsv.gz..... done.\n"
     ]
    },
    {
     "name": "stdout",
     "output_type": "stream",
     "text": [
      "Downloading data from https://ndownloader.figshare.com/files/6848868 ...\n"
     ]
    },
    {
     "name": "stderr",
     "output_type": "stream",
     "text": [
      "Downloaded 3891200 of 4446722 bytes (87.5%,    0.3s remaining) ...done. (5 seconds, 0 min)\n"
     ]
    },
    {
     "name": "stdout",
     "output_type": "stream",
     "text": [
      "Downloading data from https://ndownloader.figshare.com/files/6848871 ...\n"
     ]
    },
    {
     "name": "stderr",
     "output_type": "stream",
     "text": [
      " ...done. (1 seconds, 0 min)\n",
      "Extracting data from /Users/fenganyin/Desktop/realdata/data/COBRE/cobre/3ea49b064cdc65d4ac19c58b94369d5a/fmri_0040117.tsv.gz..... done.\n"
     ]
    },
    {
     "name": "stdout",
     "output_type": "stream",
     "text": [
      "Downloading data from https://ndownloader.figshare.com/files/6849036 ...\n"
     ]
    },
    {
     "name": "stderr",
     "output_type": "stream",
     "text": [
      "Downloaded 630784 of 4614105 bytes (13.7%,    7.1s remaining) ...done. (4 seconds, 0 min)\n"
     ]
    },
    {
     "name": "stdout",
     "output_type": "stream",
     "text": [
      "Downloading data from https://ndownloader.figshare.com/files/6849039 ...\n"
     ]
    },
    {
     "name": "stderr",
     "output_type": "stream",
     "text": [
      " ...done. (1 seconds, 0 min)\n",
      "Extracting data from /Users/fenganyin/Desktop/realdata/data/COBRE/cobre/4abc23195f714fbb210d677f34285d5d/fmri_0040145.tsv.gz..... done.\n"
     ]
    },
    {
     "name": "stdout",
     "output_type": "stream",
     "text": [
      "Downloading data from https://ndownloader.figshare.com/files/6848178 ...\n"
     ]
    },
    {
     "name": "stderr",
     "output_type": "stream",
     "text": [
      "Downloaded 4366336 of 4560443 bytes (95.7%,    0.1s remaining) ...done. (4 seconds, 0 min)\n"
     ]
    },
    {
     "name": "stdout",
     "output_type": "stream",
     "text": [
      "Downloading data from https://ndownloader.figshare.com/files/6848181 ...\n"
     ]
    },
    {
     "name": "stderr",
     "output_type": "stream",
     "text": [
      " ...done. (1 seconds, 0 min)\n",
      "Extracting data from /Users/fenganyin/Desktop/realdata/data/COBRE/cobre/a7b5152347d1e56591484acae177b77d/fmri_0040000.tsv.gz..... done.\n"
     ]
    },
    {
     "name": "stdout",
     "output_type": "stream",
     "text": [
      "Downloading data from https://ndownloader.figshare.com/files/6848352 ...\n"
     ]
    },
    {
     "name": "stderr",
     "output_type": "stream",
     "text": [
      "Downloaded 2899968 of 4303893 bytes (67.4%,    1.2s remaining) ...done. (5 seconds, 0 min)\n"
     ]
    },
    {
     "name": "stdout",
     "output_type": "stream",
     "text": [
      "Downloading data from https://ndownloader.figshare.com/files/6848355 ...\n"
     ]
    },
    {
     "name": "stderr",
     "output_type": "stream",
     "text": [
      " ...done. (1 seconds, 0 min)\n",
      "Extracting data from /Users/fenganyin/Desktop/realdata/data/COBRE/cobre/f1549b465246de612b4ab314805d9a4e/fmri_0040029.tsv.gz..... done.\n"
     ]
    },
    {
     "name": "stdout",
     "output_type": "stream",
     "text": [
      "Downloading data from https://ndownloader.figshare.com/files/6848964 ...\n"
     ]
    },
    {
     "name": "stderr",
     "output_type": "stream",
     "text": [
      "Downloaded 3817472 of 4499372 bytes (84.8%,    0.4s remaining) ...done. (5 seconds, 0 min)\n"
     ]
    },
    {
     "name": "stdout",
     "output_type": "stream",
     "text": [
      "Downloading data from https://ndownloader.figshare.com/files/6848967 ...\n"
     ]
    },
    {
     "name": "stderr",
     "output_type": "stream",
     "text": [
      " ...done. (1 seconds, 0 min)\n",
      "Extracting data from /Users/fenganyin/Desktop/realdata/data/COBRE/cobre/c40fbbae26164964a850266b5eab9c1b/fmri_0040133.tsv.gz..... done.\n"
     ]
    },
    {
     "name": "stdout",
     "output_type": "stream",
     "text": [
      "Downloading data from https://ndownloader.figshare.com/files/6848304 ...\n"
     ]
    },
    {
     "name": "stderr",
     "output_type": "stream",
     "text": [
      "Downloaded 630784 of 4514752 bytes (14.0%,    7.0s remaining) ...done. (4 seconds, 0 min)\n"
     ]
    },
    {
     "name": "stdout",
     "output_type": "stream",
     "text": [
      "Downloading data from https://ndownloader.figshare.com/files/6848307 ...\n"
     ]
    },
    {
     "name": "stderr",
     "output_type": "stream",
     "text": [
      " ...done. (1 seconds, 0 min)\n",
      "Extracting data from /Users/fenganyin/Desktop/realdata/data/COBRE/cobre/a93fad3aad3897219b9761fd2b3673c2/fmri_0040021.tsv.gz..... done.\n"
     ]
    },
    {
     "name": "stdout",
     "output_type": "stream",
     "text": [
      "Downloading data from https://ndownloader.figshare.com/files/6848988 ...\n"
     ]
    },
    {
     "name": "stderr",
     "output_type": "stream",
     "text": [
      "Downloaded 2744320 of 4081189 bytes (67.2%,    1.2s remaining) ...done. (6 seconds, 0 min)\n"
     ]
    },
    {
     "name": "stdout",
     "output_type": "stream",
     "text": [
      "Downloading data from https://ndownloader.figshare.com/files/6848991 ...\n"
     ]
    },
    {
     "name": "stderr",
     "output_type": "stream",
     "text": [
      " ...done. (1 seconds, 0 min)\n",
      "Extracting data from /Users/fenganyin/Desktop/realdata/data/COBRE/cobre/074e1a811ce944695346377d70f9971a/fmri_0040137.tsv.gz..... done.\n"
     ]
    },
    {
     "name": "stdout",
     "output_type": "stream",
     "text": [
      "Downloading data from https://ndownloader.figshare.com/files/6848676 ...\n"
     ]
    },
    {
     "name": "stderr",
     "output_type": "stream",
     "text": [
      "Downloaded 4317184 of 4639152 bytes (93.1%,    0.2s remaining) ...done. (5 seconds, 0 min)\n"
     ]
    },
    {
     "name": "stdout",
     "output_type": "stream",
     "text": [
      "Downloading data from https://ndownloader.figshare.com/files/6848679 ...\n"
     ]
    },
    {
     "name": "stderr",
     "output_type": "stream",
     "text": [
      " ...done. (1 seconds, 0 min)\n",
      "Extracting data from /Users/fenganyin/Desktop/realdata/data/COBRE/cobre/9294cb1e05427bb3045d3975619b0890/fmri_0040085.tsv.gz..... done.\n"
     ]
    },
    {
     "name": "stdout",
     "output_type": "stream",
     "text": [
      "Downloading data from https://ndownloader.figshare.com/files/6848742 ...\n"
     ]
    },
    {
     "name": "stderr",
     "output_type": "stream",
     "text": [
      "Downloaded 589824 of 4343132 bytes (13.6%,    6.9s remaining) ...done. (4 seconds, 0 min)\n"
     ]
    },
    {
     "name": "stdout",
     "output_type": "stream",
     "text": [
      "Downloading data from https://ndownloader.figshare.com/files/6848745 ...\n"
     ]
    },
    {
     "name": "stderr",
     "output_type": "stream",
     "text": [
      " ...done. (1 seconds, 0 min)\n",
      "Extracting data from /Users/fenganyin/Desktop/realdata/data/COBRE/cobre/fe30ad948ff3c61ea5a8219012168901/fmri_0040096.tsv.gz..... done.\n"
     ]
    },
    {
     "name": "stdout",
     "output_type": "stream",
     "text": [
      "Downloading data from https://ndownloader.figshare.com/files/6848898 ...\n"
     ]
    },
    {
     "name": "stderr",
     "output_type": "stream",
     "text": [
      "Downloaded 2883584 of 4407737 bytes (65.4%,    1.2s remaining) ...done. (5 seconds, 0 min)\n"
     ]
    },
    {
     "name": "stdout",
     "output_type": "stream",
     "text": [
      "Downloading data from https://ndownloader.figshare.com/files/6848901 ...\n"
     ]
    },
    {
     "name": "stderr",
     "output_type": "stream",
     "text": [
      " ...done. (1 seconds, 0 min)\n",
      "Extracting data from /Users/fenganyin/Desktop/realdata/data/COBRE/cobre/3c999b44ec4999b7d2da82ecd0e749ec/fmri_0040122.tsv.gz..... done.\n"
     ]
    },
    {
     "name": "stdout",
     "output_type": "stream",
     "text": [
      "Downloading data from https://ndownloader.figshare.com/files/6848310 ...\n"
     ]
    },
    {
     "name": "stderr",
     "output_type": "stream",
     "text": [
      "Downloaded 4243456 of 4371608 bytes (97.1%,    0.1s remaining) ...done. (5 seconds, 0 min)\n"
     ]
    },
    {
     "name": "stdout",
     "output_type": "stream",
     "text": [
      "Downloading data from https://ndownloader.figshare.com/files/6848313 ...\n"
     ]
    },
    {
     "name": "stderr",
     "output_type": "stream",
     "text": [
      " ...done. (1 seconds, 0 min)\n",
      "Extracting data from /Users/fenganyin/Desktop/realdata/data/COBRE/cobre/456d859c3569e8f5962b80e096330062/fmri_0040022.tsv.gz..... done.\n"
     ]
    },
    {
     "name": "stdout",
     "output_type": "stream",
     "text": [
      "Downloading data from https://ndownloader.figshare.com/files/6848610 ...\n"
     ]
    },
    {
     "name": "stderr",
     "output_type": "stream",
     "text": [
      "Downloaded 557056 of 4424854 bytes (12.6%,    7.9s remaining) ...done. (4 seconds, 0 min)\n"
     ]
    },
    {
     "name": "stdout",
     "output_type": "stream",
     "text": [
      "Downloading data from https://ndownloader.figshare.com/files/6848613 ...\n"
     ]
    },
    {
     "name": "stderr",
     "output_type": "stream",
     "text": [
      " ...done. (1 seconds, 0 min)\n",
      "Extracting data from /Users/fenganyin/Desktop/realdata/data/COBRE/cobre/2ea61e582fc3521ee2bbc6746f6184f8/fmri_0040073.tsv.gz..... done.\n"
     ]
    },
    {
     "name": "stdout",
     "output_type": "stream",
     "text": [
      "Downloading data from https://ndownloader.figshare.com/files/6849018 ...\n"
     ]
    },
    {
     "name": "stderr",
     "output_type": "stream",
     "text": [
      "Downloaded 2940928 of 4546119 bytes (64.7%,    1.1s remaining) ...done. (5 seconds, 0 min)\n"
     ]
    },
    {
     "name": "stdout",
     "output_type": "stream",
     "text": [
      "Downloading data from https://ndownloader.figshare.com/files/6849021 ...\n"
     ]
    },
    {
     "name": "stderr",
     "output_type": "stream",
     "text": [
      " ...done. (1 seconds, 0 min)\n",
      "Extracting data from /Users/fenganyin/Desktop/realdata/data/COBRE/cobre/c6d5bd48a8b3c543c02e280f636e1c63/fmri_0040142.tsv.gz..... done.\n"
     ]
    },
    {
     "name": "stdout",
     "output_type": "stream",
     "text": [
      "Downloading data from https://ndownloader.figshare.com/files/6848400 ...\n"
     ]
    },
    {
     "name": "stderr",
     "output_type": "stream",
     "text": [
      "Downloaded 3588096 of 4492007 bytes (79.9%,    0.9s remaining) ...done. (6 seconds, 0 min)\n"
     ]
    },
    {
     "name": "stdout",
     "output_type": "stream",
     "text": [
      "Downloading data from https://ndownloader.figshare.com/files/6848403 ...\n"
     ]
    },
    {
     "name": "stderr",
     "output_type": "stream",
     "text": [
      " ...done. (1 seconds, 0 min)\n",
      "Extracting data from /Users/fenganyin/Desktop/realdata/data/COBRE/cobre/4c545e7d237bd26e3e4940de09ac74ce/fmri_0040037.tsv.gz..... done.\n"
     ]
    },
    {
     "name": "stdout",
     "output_type": "stream",
     "text": [
      "Downloading data from https://ndownloader.figshare.com/files/6848532 ...\n"
     ]
    },
    {
     "name": "stderr",
     "output_type": "stream",
     "text": [
      "Downloaded 401408 of 4619945 bytes (8.7%,   10.5s remaining) ...done. (4 seconds, 0 min)\n"
     ]
    },
    {
     "name": "stdout",
     "output_type": "stream",
     "text": [
      "Downloading data from https://ndownloader.figshare.com/files/6848535 ...\n"
     ]
    },
    {
     "name": "stderr",
     "output_type": "stream",
     "text": [
      " ...done. (1 seconds, 0 min)\n",
      "Extracting data from /Users/fenganyin/Desktop/realdata/data/COBRE/cobre/cb2042a760d08af2da4895bec94ba766/fmri_0040059.tsv.gz..... done.\n"
     ]
    },
    {
     "name": "stdout",
     "output_type": "stream",
     "text": [
      "Downloading data from https://ndownloader.figshare.com/files/6848604 ...\n"
     ]
    },
    {
     "name": "stderr",
     "output_type": "stream",
     "text": [
      "Downloaded 3235840 of 4524639 bytes (71.5%,    0.8s remaining) ...done. (5 seconds, 0 min)\n"
     ]
    },
    {
     "name": "stdout",
     "output_type": "stream",
     "text": [
      "Downloading data from https://ndownloader.figshare.com/files/6848607 ...\n"
     ]
    },
    {
     "name": "stderr",
     "output_type": "stream",
     "text": [
      " ...done. (1 seconds, 0 min)\n",
      "Extracting data from /Users/fenganyin/Desktop/realdata/data/COBRE/cobre/8a252244ede345c00c07c732ccb7090d/fmri_0040072.tsv.gz..... done.\n"
     ]
    },
    {
     "name": "stdout",
     "output_type": "stream",
     "text": [
      "Downloading data from https://ndownloader.figshare.com/files/6848646 ...\n"
     ]
    },
    {
     "name": "stderr",
     "output_type": "stream",
     "text": [
      "Downloaded 3170304 of 4410163 bytes (71.9%,    1.0s remaining) ...done. (5 seconds, 0 min)\n"
     ]
    },
    {
     "name": "stdout",
     "output_type": "stream",
     "text": [
      "Downloading data from https://ndownloader.figshare.com/files/6848649 ...\n"
     ]
    },
    {
     "name": "stderr",
     "output_type": "stream",
     "text": [
      " ...done. (1 seconds, 0 min)\n",
      "Extracting data from /Users/fenganyin/Desktop/realdata/data/COBRE/cobre/3ca9612264cca5658926bc6823fec3f3/fmri_0040079.tsv.gz..... done.\n"
     ]
    },
    {
     "name": "stdout",
     "output_type": "stream",
     "text": [
      "Downloading data from https://ndownloader.figshare.com/files/6848652 ...\n"
     ]
    },
    {
     "name": "stderr",
     "output_type": "stream",
     "text": [
      "Downloaded 4259840 of 4446835 bytes (95.8%,    0.1s remaining) ...done. (4 seconds, 0 min)\n"
     ]
    },
    {
     "name": "stdout",
     "output_type": "stream",
     "text": [
      "Downloading data from https://ndownloader.figshare.com/files/6848655 ...\n"
     ]
    },
    {
     "name": "stderr",
     "output_type": "stream",
     "text": [
      " ...done. (1 seconds, 0 min)\n",
      "Extracting data from /Users/fenganyin/Desktop/realdata/data/COBRE/cobre/548b44ab0d8c4b98d75f6b6042327070/fmri_0040080.tsv.gz..... done.\n"
     ]
    },
    {
     "name": "stdout",
     "output_type": "stream",
     "text": [
      "Downloading data from https://ndownloader.figshare.com/files/6848184 ...\n"
     ]
    },
    {
     "name": "stderr",
     "output_type": "stream",
     "text": [
      "Downloaded 598016 of 4697375 bytes (12.7%,    6.9s remaining) ...done. (4 seconds, 0 min)\n"
     ]
    },
    {
     "name": "stdout",
     "output_type": "stream",
     "text": [
      "Downloading data from https://ndownloader.figshare.com/files/6848187 ...\n"
     ]
    },
    {
     "name": "stderr",
     "output_type": "stream",
     "text": [
      " ...done. (1 seconds, 0 min)\n",
      "Extracting data from /Users/fenganyin/Desktop/realdata/data/COBRE/cobre/3b4fb092665591f76d7322a7dcbad5a9/fmri_0040001.tsv.gz..... done.\n"
     ]
    },
    {
     "name": "stdout",
     "output_type": "stream",
     "text": [
      "Downloading data from https://ndownloader.figshare.com/files/6848196 ...\n"
     ]
    },
    {
     "name": "stderr",
     "output_type": "stream",
     "text": [
      "Downloaded 630784 of 4267284 bytes (14.8%,    6.3s remaining) ...done. (4 seconds, 0 min)\n"
     ]
    },
    {
     "name": "stdout",
     "output_type": "stream",
     "text": [
      "Downloading data from https://ndownloader.figshare.com/files/6848199 ...\n"
     ]
    },
    {
     "name": "stderr",
     "output_type": "stream",
     "text": [
      " ...done. (1 seconds, 0 min)\n",
      "Extracting data from /Users/fenganyin/Desktop/realdata/data/COBRE/cobre/9e8009b8fae67a0090292af91199ccb6/fmri_0040003.tsv.gz..... done.\n"
     ]
    },
    {
     "name": "stdout",
     "output_type": "stream",
     "text": [
      "Downloading data from https://ndownloader.figshare.com/files/6848226 ...\n"
     ]
    },
    {
     "name": "stderr",
     "output_type": "stream",
     "text": [
      "Downloaded 2932736 of 4576579 bytes (64.1%,    1.1s remaining) ...done. (5 seconds, 0 min)\n"
     ]
    },
    {
     "name": "stdout",
     "output_type": "stream",
     "text": [
      "Downloading data from https://ndownloader.figshare.com/files/6848229 ...\n"
     ]
    },
    {
     "name": "stderr",
     "output_type": "stream",
     "text": [
      " ...done. (1 seconds, 0 min)\n",
      "Extracting data from /Users/fenganyin/Desktop/realdata/data/COBRE/cobre/e8b526b0c72ce2b076e1951a99637ce1/fmri_0040008.tsv.gz..... done.\n"
     ]
    },
    {
     "name": "stdout",
     "output_type": "stream",
     "text": [
      "Downloading data from https://ndownloader.figshare.com/files/6848244 ...\n"
     ]
    },
    {
     "name": "stderr",
     "output_type": "stream",
     "text": [
      "Downloaded 3473408 of 4598085 bytes (75.5%,    0.7s remaining) ...done. (5 seconds, 0 min)\n"
     ]
    },
    {
     "name": "stdout",
     "output_type": "stream",
     "text": [
      "Downloading data from https://ndownloader.figshare.com/files/6848247 ...\n"
     ]
    },
    {
     "name": "stderr",
     "output_type": "stream",
     "text": [
      " ...done. (1 seconds, 0 min)\n",
      "Extracting data from /Users/fenganyin/Desktop/realdata/data/COBRE/cobre/797f8708de05c78a7ff27b00bdc5652e/fmri_0040011.tsv.gz..... done.\n"
     ]
    },
    {
     "name": "stdout",
     "output_type": "stream",
     "text": [
      "Downloading data from https://ndownloader.figshare.com/files/6848634 ...\n"
     ]
    },
    {
     "name": "stderr",
     "output_type": "stream",
     "text": [
      "Downloaded 3407872 of 4412317 bytes (77.2%,    1.0s remaining) ...done. (6 seconds, 0 min)\n"
     ]
    },
    {
     "name": "stdout",
     "output_type": "stream",
     "text": [
      "Downloading data from https://ndownloader.figshare.com/files/6848637 ...\n"
     ]
    },
    {
     "name": "stderr",
     "output_type": "stream",
     "text": [
      " ...done. (1 seconds, 0 min)\n",
      "Extracting data from /Users/fenganyin/Desktop/realdata/data/COBRE/cobre/7a3179c6afab68083abda20501e6f063/fmri_0040077.tsv.gz..... done.\n"
     ]
    },
    {
     "name": "stdout",
     "output_type": "stream",
     "text": [
      "Downloading data from https://ndownloader.figshare.com/files/6848382 ...\n"
     ]
    },
    {
     "name": "stderr",
     "output_type": "stream",
     "text": [
      "Downloaded 3940352 of 4627634 bytes (85.1%,    0.4s remaining) ...done. (5 seconds, 0 min)\n"
     ]
    },
    {
     "name": "stdout",
     "output_type": "stream",
     "text": [
      "Downloading data from https://ndownloader.figshare.com/files/6848385 ...\n"
     ]
    },
    {
     "name": "stderr",
     "output_type": "stream",
     "text": [
      " ...done. (1 seconds, 0 min)\n",
      "Extracting data from /Users/fenganyin/Desktop/realdata/data/COBRE/cobre/559fc4fa1df118bc63c511e2c75f04fc/fmri_0040034.tsv.gz..... done.\n"
     ]
    },
    {
     "name": "stdout",
     "output_type": "stream",
     "text": [
      "Downloading data from https://ndownloader.figshare.com/files/6848814 ...\n"
     ]
    },
    {
     "name": "stderr",
     "output_type": "stream",
     "text": [
      "Downloaded 3817472 of 4325032 bytes (88.3%,    0.3s remaining) ...done. (4 seconds, 0 min)\n"
     ]
    },
    {
     "name": "stdout",
     "output_type": "stream",
     "text": [
      "Downloading data from https://ndownloader.figshare.com/files/6848817 ...\n"
     ]
    },
    {
     "name": "stderr",
     "output_type": "stream",
     "text": [
      " ...done. (1 seconds, 0 min)\n",
      "Extracting data from /Users/fenganyin/Desktop/realdata/data/COBRE/cobre/cf2f8fe2b25bb0181d915e1873ac9044/fmri_0040108.tsv.gz..... done.\n"
     ]
    },
    {
     "name": "stdout",
     "output_type": "stream",
     "text": [
      "Downloading data from https://ndownloader.figshare.com/files/6848232 ...\n"
     ]
    },
    {
     "name": "stderr",
     "output_type": "stream",
     "text": [
      "Downloaded 3833856 of 4409707 bytes (86.9%,    0.3s remaining) ...done. (4 seconds, 0 min)\n"
     ]
    },
    {
     "name": "stdout",
     "output_type": "stream",
     "text": [
      "Downloading data from https://ndownloader.figshare.com/files/6848235 ...\n"
     ]
    },
    {
     "name": "stderr",
     "output_type": "stream",
     "text": [
      " ...done. (1 seconds, 0 min)\n",
      "Extracting data from /Users/fenganyin/Desktop/realdata/data/COBRE/cobre/eb260aa2c2d4f7c43344b8364a0a28c2/fmri_0040009.tsv.gz..... done.\n"
     ]
    },
    {
     "name": "stdout",
     "output_type": "stream",
     "text": [
      "Downloading data from https://ndownloader.figshare.com/files/6848370 ...\n"
     ]
    },
    {
     "name": "stderr",
     "output_type": "stream",
     "text": [
      "Downloaded 4218880 of 4595193 bytes (91.8%,    0.2s remaining) ...done. (4 seconds, 0 min)\n"
     ]
    },
    {
     "name": "stdout",
     "output_type": "stream",
     "text": [
      "Downloading data from https://ndownloader.figshare.com/files/6848373 ...\n"
     ]
    },
    {
     "name": "stderr",
     "output_type": "stream",
     "text": [
      " ...done. (1 seconds, 0 min)\n",
      "Extracting data from /Users/fenganyin/Desktop/realdata/data/COBRE/cobre/bc34c1c0e4d9d261c457b6dca10a73e7/fmri_0040032.tsv.gz..... done.\n"
     ]
    },
    {
     "name": "stdout",
     "output_type": "stream",
     "text": [
      "Downloading data from https://ndownloader.figshare.com/files/6848250 ...\n"
     ]
    },
    {
     "name": "stderr",
     "output_type": "stream",
     "text": [
      "Downloaded 598016 of 4572039 bytes (13.1%,    7.4s remaining) ...done. (4 seconds, 0 min)\n"
     ]
    },
    {
     "name": "stdout",
     "output_type": "stream",
     "text": [
      "Downloading data from https://ndownloader.figshare.com/files/6848253 ...\n"
     ]
    },
    {
     "name": "stderr",
     "output_type": "stream",
     "text": [
      " ...done. (1 seconds, 0 min)\n",
      "Extracting data from /Users/fenganyin/Desktop/realdata/data/COBRE/cobre/18475aebea226bd7e99061db888d8b52/fmri_0040012.tsv.gz..... done.\n"
     ]
    },
    {
     "name": "stdout",
     "output_type": "stream",
     "text": [
      "Downloading data from https://ndownloader.figshare.com/files/6848328 ...\n"
     ]
    },
    {
     "name": "stderr",
     "output_type": "stream",
     "text": [
      "Downloaded 622592 of 4305576 bytes (14.5%,    6.6s remaining) ...done. (4 seconds, 0 min)\n"
     ]
    },
    {
     "name": "stdout",
     "output_type": "stream",
     "text": [
      "Downloading data from https://ndownloader.figshare.com/files/6848331 ...\n"
     ]
    },
    {
     "name": "stderr",
     "output_type": "stream",
     "text": [
      " ...done. (1 seconds, 0 min)\n",
      "Extracting data from /Users/fenganyin/Desktop/realdata/data/COBRE/cobre/46e722967eb6e70e092da8c89ece2f64/fmri_0040025.tsv.gz..... done.\n"
     ]
    },
    {
     "name": "stdout",
     "output_type": "stream",
     "text": [
      "Downloading data from https://ndownloader.figshare.com/files/6848694 ...\n"
     ]
    },
    {
     "name": "stderr",
     "output_type": "stream",
     "text": [
      "Downloaded 622592 of 4415744 bytes (14.1%,    6.8s remaining) ...done. (4 seconds, 0 min)\n"
     ]
    },
    {
     "name": "stdout",
     "output_type": "stream",
     "text": [
      "Downloading data from https://ndownloader.figshare.com/files/6848697 ...\n"
     ]
    },
    {
     "name": "stderr",
     "output_type": "stream",
     "text": [
      " ...done. (1 seconds, 0 min)\n",
      "Extracting data from /Users/fenganyin/Desktop/realdata/data/COBRE/cobre/262b9678efb7738453b841979345b737/fmri_0040088.tsv.gz..... done.\n"
     ]
    },
    {
     "name": "stdout",
     "output_type": "stream",
     "text": [
      "Downloading data from https://ndownloader.figshare.com/files/6848820 ...\n"
     ]
    },
    {
     "name": "stderr",
     "output_type": "stream",
     "text": [
      "Downloaded 581632 of 4498069 bytes (12.9%,    7.7s remaining) ...done. (4 seconds, 0 min)\n"
     ]
    },
    {
     "name": "stdout",
     "output_type": "stream",
     "text": [
      "Downloading data from https://ndownloader.figshare.com/files/6848823 ...\n"
     ]
    },
    {
     "name": "stderr",
     "output_type": "stream",
     "text": [
      " ...done. (1 seconds, 0 min)\n",
      "Extracting data from /Users/fenganyin/Desktop/realdata/data/COBRE/cobre/1a39bb37a2ad86ae337ff7ad9dd19633/fmri_0040109.tsv.gz..... done.\n"
     ]
    },
    {
     "name": "stdout",
     "output_type": "stream",
     "text": [
      "Downloading data from https://ndownloader.figshare.com/files/6848754 ...\n"
     ]
    },
    {
     "name": "stderr",
     "output_type": "stream",
     "text": [
      "Downloaded 630784 of 4310726 bytes (14.6%,    6.6s remaining) ...done. (4 seconds, 0 min)\n"
     ]
    },
    {
     "name": "stdout",
     "output_type": "stream",
     "text": [
      "Downloading data from https://ndownloader.figshare.com/files/6848757 ...\n"
     ]
    },
    {
     "name": "stderr",
     "output_type": "stream",
     "text": [
      " ...done. (1 seconds, 0 min)\n",
      "Extracting data from /Users/fenganyin/Desktop/realdata/data/COBRE/cobre/1a05462fa223fa90bf0c2191b765c773/fmri_0040098.tsv.gz..... done.\n"
     ]
    },
    {
     "name": "stdout",
     "output_type": "stream",
     "text": [
      "Downloading data from https://ndownloader.figshare.com/files/6848766 ...\n"
     ]
    },
    {
     "name": "stderr",
     "output_type": "stream",
     "text": [
      "Downloaded 2686976 of 4580313 bytes (58.7%,    1.6s remaining) ...done. (5 seconds, 0 min)\n"
     ]
    },
    {
     "name": "stdout",
     "output_type": "stream",
     "text": [
      "Downloading data from https://ndownloader.figshare.com/files/6848769 ...\n"
     ]
    },
    {
     "name": "stderr",
     "output_type": "stream",
     "text": [
      " ...done. (1 seconds, 0 min)\n",
      "Extracting data from /Users/fenganyin/Desktop/realdata/data/COBRE/cobre/be49f8d6fbda9610118341d2b3824cc8/fmri_0040100.tsv.gz..... done.\n"
     ]
    },
    {
     "name": "stdout",
     "output_type": "stream",
     "text": [
      "Downloading data from https://ndownloader.figshare.com/files/6848460 ...\n"
     ]
    },
    {
     "name": "stderr",
     "output_type": "stream",
     "text": [
      "Downloaded 638976 of 4332199 bytes (14.7%,    6.6s remaining) ...done. (4 seconds, 0 min)\n"
     ]
    },
    {
     "name": "stdout",
     "output_type": "stream",
     "text": [
      "Downloading data from https://ndownloader.figshare.com/files/6848463 ...\n"
     ]
    },
    {
     "name": "stderr",
     "output_type": "stream",
     "text": [
      " ...done. (1 seconds, 0 min)\n",
      "Extracting data from /Users/fenganyin/Desktop/realdata/data/COBRE/cobre/464fa45d7a4e5648989426e01cedba5c/fmri_0040047.tsv.gz..... done.\n"
     ]
    },
    {
     "name": "stdout",
     "output_type": "stream",
     "text": [
      "Downloading data from https://ndownloader.figshare.com/files/6848760 ...\n"
     ]
    },
    {
     "name": "stderr",
     "output_type": "stream",
     "text": [
      "Downloaded 622592 of 4586801 bytes (13.6%,    6.9s remaining) ...done. (5 seconds, 0 min)\n"
     ]
    },
    {
     "name": "stdout",
     "output_type": "stream",
     "text": [
      "Downloading data from https://ndownloader.figshare.com/files/6848763 ...\n"
     ]
    },
    {
     "name": "stderr",
     "output_type": "stream",
     "text": [
      " ...done. (1 seconds, 0 min)\n",
      "Extracting data from /Users/fenganyin/Desktop/realdata/data/COBRE/cobre/38f589110f71c6738d4594f0ac1ad7a7/fmri_0040099.tsv.gz..... done.\n"
     ]
    },
    {
     "name": "stdout",
     "output_type": "stream",
     "text": [
      "Downloading data from https://ndownloader.figshare.com/files/6848430 ...\n"
     ]
    },
    {
     "name": "stderr",
     "output_type": "stream",
     "text": [
      "Downloaded 598016 of 4402140 bytes (13.6%,    7.2s remaining) ...done. (4 seconds, 0 min)\n"
     ]
    },
    {
     "name": "stdout",
     "output_type": "stream",
     "text": [
      "Downloading data from https://ndownloader.figshare.com/files/6848433 ...\n"
     ]
    },
    {
     "name": "stderr",
     "output_type": "stream",
     "text": [
      " ...done. (1 seconds, 0 min)\n",
      "Extracting data from /Users/fenganyin/Desktop/realdata/data/COBRE/cobre/629039eb91b668ba9180f122d202a99a/fmri_0040042.tsv.gz..... done.\n"
     ]
    },
    {
     "name": "stdout",
     "output_type": "stream",
     "text": [
      "Downloading data from https://ndownloader.figshare.com/files/6848622 ...\n"
     ]
    },
    {
     "name": "stderr",
     "output_type": "stream",
     "text": [
      "Downloaded 622592 of 2023514 bytes (30.8%,    2.6s remaining) ...done. (4 seconds, 0 min)\n"
     ]
    },
    {
     "name": "stdout",
     "output_type": "stream",
     "text": [
      "Downloading data from https://ndownloader.figshare.com/files/6848625 ...\n"
     ]
    },
    {
     "name": "stderr",
     "output_type": "stream",
     "text": [
      " ...done. (1 seconds, 0 min)\n",
      "Extracting data from /Users/fenganyin/Desktop/realdata/data/COBRE/cobre/fa6dddf3186a4435575f7a1ed297faae/fmri_0040075.tsv.gz..... done.\n"
     ]
    },
    {
     "name": "stdout",
     "output_type": "stream",
     "text": [
      "Downloading data from https://ndownloader.figshare.com/files/6848784 ...\n"
     ]
    },
    {
     "name": "stderr",
     "output_type": "stream",
     "text": [
      "Downloaded 630784 of 4635847 bytes (13.6%,    7.1s remaining) ...done. (4 seconds, 0 min)\n"
     ]
    },
    {
     "name": "stdout",
     "output_type": "stream",
     "text": [
      "Downloading data from https://ndownloader.figshare.com/files/6848787 ...\n"
     ]
    },
    {
     "name": "stderr",
     "output_type": "stream",
     "text": [
      " ...done. (0 seconds, 0 min)\n",
      "Extracting data from /Users/fenganyin/Desktop/realdata/data/COBRE/cobre/321185bd10831a3701afef181ed4273e/fmri_0040103.tsv.gz..... done.\n"
     ]
    },
    {
     "name": "stdout",
     "output_type": "stream",
     "text": [
      "Downloading data from https://ndownloader.figshare.com/files/6848538 ...\n"
     ]
    },
    {
     "name": "stderr",
     "output_type": "stream",
     "text": [
      "Downloaded 630784 of 4337046 bytes (14.5%,    6.4s remaining) ...done. (4 seconds, 0 min)\n"
     ]
    },
    {
     "name": "stdout",
     "output_type": "stream",
     "text": [
      "Downloading data from https://ndownloader.figshare.com/files/6848541 ...\n"
     ]
    },
    {
     "name": "stderr",
     "output_type": "stream",
     "text": [
      " ...done. (1 seconds, 0 min)\n",
      "Extracting data from /Users/fenganyin/Desktop/realdata/data/COBRE/cobre/32154f247e90cba41e3c35a59788ac90/fmri_0040060.tsv.gz..... done.\n"
     ]
    },
    {
     "name": "stdout",
     "output_type": "stream",
     "text": [
      "Downloading data from https://ndownloader.figshare.com/files/6848922 ...\n"
     ]
    },
    {
     "name": "stderr",
     "output_type": "stream",
     "text": [
      "Downloaded 3850240 of 4623949 bytes (83.3%,    0.4s remaining) ...done. (5 seconds, 0 min)\n"
     ]
    },
    {
     "name": "stdout",
     "output_type": "stream",
     "text": [
      "Downloading data from https://ndownloader.figshare.com/files/6848925 ...\n"
     ]
    },
    {
     "name": "stderr",
     "output_type": "stream",
     "text": [
      " ...done. (1 seconds, 0 min)\n",
      "Extracting data from /Users/fenganyin/Desktop/realdata/data/COBRE/cobre/0c8a546a37188a64b3df92c363a37c75/fmri_0040126.tsv.gz..... done.\n"
     ]
    },
    {
     "name": "stdout",
     "output_type": "stream",
     "text": [
      "Downloading data from https://ndownloader.figshare.com/files/6848838 ...\n"
     ]
    },
    {
     "name": "stderr",
     "output_type": "stream",
     "text": [
      "Downloaded 614400 of 4647206 bytes (13.2%,    7.3s remaining) ...done. (4 seconds, 0 min)\n"
     ]
    },
    {
     "name": "stdout",
     "output_type": "stream",
     "text": [
      "Downloading data from https://ndownloader.figshare.com/files/6848841 ...\n"
     ]
    },
    {
     "name": "stderr",
     "output_type": "stream",
     "text": [
      " ...done. (1 seconds, 0 min)\n",
      "Extracting data from /Users/fenganyin/Desktop/realdata/data/COBRE/cobre/223535a3d0f5536a8098fa4146d78f96/fmri_0040112.tsv.gz..... done.\n"
     ]
    },
    {
     "name": "stdout",
     "output_type": "stream",
     "text": [
      "Downloading data from https://ndownloader.figshare.com/files/6848658 ...\n"
     ]
    },
    {
     "name": "stderr",
     "output_type": "stream",
     "text": [
      "Downloaded 630784 of 4547973 bytes (13.9%,    7.0s remaining) ...done. (4 seconds, 0 min)\n"
     ]
    },
    {
     "name": "stdout",
     "output_type": "stream",
     "text": [
      "Downloading data from https://ndownloader.figshare.com/files/6848661 ...\n"
     ]
    },
    {
     "name": "stderr",
     "output_type": "stream",
     "text": [
      " ...done. (1 seconds, 0 min)\n",
      "Extracting data from /Users/fenganyin/Desktop/realdata/data/COBRE/cobre/4a04a4cc2fb08af93d922a9da72793a1/fmri_0040081.tsv.gz..... done.\n"
     ]
    },
    {
     "name": "stdout",
     "output_type": "stream",
     "text": [
      "Downloading data from https://ndownloader.figshare.com/files/6848826 ...\n"
     ]
    },
    {
     "name": "stderr",
     "output_type": "stream",
     "text": [
      "Downloaded 630784 of 4393147 bytes (14.4%,    6.5s remaining) ...done. (4 seconds, 0 min)\n"
     ]
    },
    {
     "name": "stdout",
     "output_type": "stream",
     "text": [
      "Downloading data from https://ndownloader.figshare.com/files/6848829 ...\n"
     ]
    },
    {
     "name": "stderr",
     "output_type": "stream",
     "text": [
      " ...done. (1 seconds, 0 min)\n",
      "Extracting data from /Users/fenganyin/Desktop/realdata/data/COBRE/cobre/1a7a95d2dddc00b6dc8ea8f1c9a3a7ef/fmri_0040110.tsv.gz..... done.\n"
     ]
    },
    {
     "name": "stdout",
     "output_type": "stream",
     "text": [
      "Downloading data from https://ndownloader.figshare.com/files/6848472 ...\n"
     ]
    },
    {
     "name": "stderr",
     "output_type": "stream",
     "text": [
      "Downloaded 630784 of 4610293 bytes (13.7%,    6.9s remaining) ...done. (4 seconds, 0 min)\n"
     ]
    },
    {
     "name": "stdout",
     "output_type": "stream",
     "text": [
      "Downloading data from https://ndownloader.figshare.com/files/6848475 ...\n"
     ]
    },
    {
     "name": "stderr",
     "output_type": "stream",
     "text": [
      " ...done. (1 seconds, 0 min)\n",
      "Extracting data from /Users/fenganyin/Desktop/realdata/data/COBRE/cobre/a653a53f44e3a36017e48112481b799f/fmri_0040049.tsv.gz..... done.\n"
     ]
    },
    {
     "name": "stdout",
     "output_type": "stream",
     "text": [
      "Downloading data from https://ndownloader.figshare.com/files/6848802 ...\n"
     ]
    },
    {
     "name": "stderr",
     "output_type": "stream",
     "text": [
      "Downloaded 4153344 of 4542026 bytes (91.4%,    0.2s remaining) ...done. (4 seconds, 0 min)\n"
     ]
    },
    {
     "name": "stdout",
     "output_type": "stream",
     "text": [
      "Downloading data from https://ndownloader.figshare.com/files/6848805 ...\n"
     ]
    },
    {
     "name": "stderr",
     "output_type": "stream",
     "text": [
      " ...done. (1 seconds, 0 min)\n",
      "Extracting data from /Users/fenganyin/Desktop/realdata/data/COBRE/cobre/fbe7932b931e7aac276b73713f2b48f7/fmri_0040106.tsv.gz..... done.\n"
     ]
    },
    {
     "name": "stdout",
     "output_type": "stream",
     "text": [
      "Downloading data from https://ndownloader.figshare.com/files/6848268 ...\n"
     ]
    },
    {
     "name": "stderr",
     "output_type": "stream",
     "text": [
      "Downloaded 622592 of 4234757 bytes (14.7%,    6.3s remaining) ...done. (4 seconds, 0 min)\n"
     ]
    },
    {
     "name": "stdout",
     "output_type": "stream",
     "text": [
      "Downloading data from https://ndownloader.figshare.com/files/6848271 ...\n"
     ]
    },
    {
     "name": "stderr",
     "output_type": "stream",
     "text": [
      " ...done. (1 seconds, 0 min)\n",
      "Extracting data from /Users/fenganyin/Desktop/realdata/data/COBRE/cobre/a49b4db4fc1d15e60e94f2c8ce2b540c/fmri_0040015.tsv.gz..... done.\n"
     ]
    },
    {
     "name": "stdout",
     "output_type": "stream",
     "text": [
      "Downloading data from https://ndownloader.figshare.com/files/6848208 ...\n"
     ]
    },
    {
     "name": "stderr",
     "output_type": "stream",
     "text": [
      "Downloaded 630784 of 4606288 bytes (13.7%,    6.9s remaining) ...done. (4 seconds, 0 min)\n"
     ]
    },
    {
     "name": "stdout",
     "output_type": "stream",
     "text": [
      "Downloading data from https://ndownloader.figshare.com/files/6848211 ...\n"
     ]
    },
    {
     "name": "stderr",
     "output_type": "stream",
     "text": [
      " ...done. (1 seconds, 0 min)\n",
      "Extracting data from /Users/fenganyin/Desktop/realdata/data/COBRE/cobre/3cc26e31470f08daabd476c187faf7ab/fmri_0040005.tsv.gz..... done.\n"
     ]
    },
    {
     "name": "stdout",
     "output_type": "stream",
     "text": [
      "Downloading data from https://ndownloader.figshare.com/files/6848442 ...\n"
     ]
    },
    {
     "name": "stderr",
     "output_type": "stream",
     "text": [
      "Downloaded 4227072 of 4401529 bytes (96.0%,    0.3s remaining) ...done. (9 seconds, 0 min)\n"
     ]
    },
    {
     "name": "stdout",
     "output_type": "stream",
     "text": [
      "Downloading data from https://ndownloader.figshare.com/files/6848445 ...\n"
     ]
    },
    {
     "name": "stderr",
     "output_type": "stream",
     "text": [
      " ...done. (1 seconds, 0 min)\n",
      "Extracting data from /Users/fenganyin/Desktop/realdata/data/COBRE/cobre/5d210a2285666e70c2dcc66210e477b9/fmri_0040044.tsv.gz..... done.\n"
     ]
    },
    {
     "name": "stdout",
     "output_type": "stream",
     "text": [
      "Downloading data from https://ndownloader.figshare.com/files/6848274 ...\n"
     ]
    },
    {
     "name": "stderr",
     "output_type": "stream",
     "text": [
      "Downloaded 622592 of 4607647 bytes (13.5%,    7.2s remaining) ...done. (4 seconds, 0 min)\n"
     ]
    },
    {
     "name": "stdout",
     "output_type": "stream",
     "text": [
      "Downloading data from https://ndownloader.figshare.com/files/6848277 ...\n"
     ]
    },
    {
     "name": "stderr",
     "output_type": "stream",
     "text": [
      " ...done. (1 seconds, 0 min)\n",
      "Extracting data from /Users/fenganyin/Desktop/realdata/data/COBRE/cobre/c37a040359f7136307e5541a58369578/fmri_0040016.tsv.gz..... done.\n"
     ]
    },
    {
     "name": "stdout",
     "output_type": "stream",
     "text": [
      "Downloading data from https://ndownloader.figshare.com/files/6848718 ...\n"
     ]
    },
    {
     "name": "stderr",
     "output_type": "stream",
     "text": [
      "Downloaded 581632 of 4522924 bytes (12.9%,    7.6s remaining) ...done. (4 seconds, 0 min)\n"
     ]
    },
    {
     "name": "stdout",
     "output_type": "stream",
     "text": [
      "Downloading data from https://ndownloader.figshare.com/files/6848721 ...\n"
     ]
    },
    {
     "name": "stderr",
     "output_type": "stream",
     "text": [
      " ...done. (1 seconds, 0 min)\n",
      "Extracting data from /Users/fenganyin/Desktop/realdata/data/COBRE/cobre/4acb9160c066c1620a26601ed9bad8fa/fmri_0040092.tsv.gz..... done.\n"
     ]
    },
    {
     "name": "stdout",
     "output_type": "stream",
     "text": [
      "Downloading data from https://ndownloader.figshare.com/files/6848664 ...\n"
     ]
    },
    {
     "name": "stderr",
     "output_type": "stream",
     "text": [
      "Downloaded 4325376 of 4351779 bytes (99.4%,    0.0s remaining) ...done. (4 seconds, 0 min)\n"
     ]
    },
    {
     "name": "stdout",
     "output_type": "stream",
     "text": [
      "Downloading data from https://ndownloader.figshare.com/files/6848667 ...\n"
     ]
    },
    {
     "name": "stderr",
     "output_type": "stream",
     "text": [
      " ...done. (1 seconds, 0 min)\n",
      "Extracting data from /Users/fenganyin/Desktop/realdata/data/COBRE/cobre/65e373478e617322618fcb1b6458b695/fmri_0040082.tsv.gz..... done.\n"
     ]
    },
    {
     "name": "stdout",
     "output_type": "stream",
     "text": [
      "Downloading data from https://ndownloader.figshare.com/files/6848772 ...\n"
     ]
    },
    {
     "name": "stderr",
     "output_type": "stream",
     "text": [
      "Downloaded 2859008 of 4354517 bytes (65.7%,    1.1s remaining) ...done. (4 seconds, 0 min)\n"
     ]
    },
    {
     "name": "stdout",
     "output_type": "stream",
     "text": [
      "Downloading data from https://ndownloader.figshare.com/files/6848775 ...\n"
     ]
    },
    {
     "name": "stderr",
     "output_type": "stream",
     "text": [
      " ...done. (0 seconds, 0 min)\n",
      "Extracting data from /Users/fenganyin/Desktop/realdata/data/COBRE/cobre/76d22a017c497c5b147929e2cadfe7a1/fmri_0040101.tsv.gz..... done.\n"
     ]
    },
    {
     "name": "stdout",
     "output_type": "stream",
     "text": [
      "Downloading data from https://ndownloader.figshare.com/files/6848958 ...\n"
     ]
    },
    {
     "name": "stderr",
     "output_type": "stream",
     "text": [
      "Downloaded 458752 of 4712968 bytes (9.7%,   10.9s remaining) ...done. (4 seconds, 0 min)\n"
     ]
    },
    {
     "name": "stdout",
     "output_type": "stream",
     "text": [
      "Downloading data from https://ndownloader.figshare.com/files/6848961 ...\n"
     ]
    },
    {
     "name": "stderr",
     "output_type": "stream",
     "text": [
      " ...done. (1 seconds, 0 min)\n",
      "Extracting data from /Users/fenganyin/Desktop/realdata/data/COBRE/cobre/7fc23d1d8d2a171a87acf65bef292017/fmri_0040132.tsv.gz..... done.\n"
     ]
    },
    {
     "name": "stdout",
     "output_type": "stream",
     "text": [
      "Downloading data from https://ndownloader.figshare.com/files/6848412 ...\n"
     ]
    },
    {
     "name": "stderr",
     "output_type": "stream",
     "text": [
      "Downloaded 630784 of 4419995 bytes (14.3%,    6.9s remaining) ...done. (4 seconds, 0 min)\n"
     ]
    },
    {
     "name": "stdout",
     "output_type": "stream",
     "text": [
      "Downloading data from https://ndownloader.figshare.com/files/6848415 ...\n"
     ]
    },
    {
     "name": "stderr",
     "output_type": "stream",
     "text": [
      " ...done. (1 seconds, 0 min)\n",
      "Extracting data from /Users/fenganyin/Desktop/realdata/data/COBRE/cobre/e4561a4d86d1453c5c82165b19ca12df/fmri_0040039.tsv.gz..... done.\n"
     ]
    },
    {
     "name": "stdout",
     "output_type": "stream",
     "text": [
      "Downloading data from https://ndownloader.figshare.com/files/6848598 ...\n"
     ]
    },
    {
     "name": "stderr",
     "output_type": "stream",
     "text": [
      "Downloaded 581632 of 4589027 bytes (12.7%,    7.7s remaining) ...done. (4 seconds, 0 min)\n"
     ]
    },
    {
     "name": "stdout",
     "output_type": "stream",
     "text": [
      "Downloading data from https://ndownloader.figshare.com/files/6848601 ...\n"
     ]
    },
    {
     "name": "stderr",
     "output_type": "stream",
     "text": [
      " ...done. (1 seconds, 0 min)\n",
      "Extracting data from /Users/fenganyin/Desktop/realdata/data/COBRE/cobre/66c1827f0566d7e10d707729c574e4c9/fmri_0040071.tsv.gz..... done.\n"
     ]
    },
    {
     "name": "stdout",
     "output_type": "stream",
     "text": [
      "Downloading data from https://ndownloader.figshare.com/files/6848238 ...\n"
     ]
    },
    {
     "name": "stderr",
     "output_type": "stream",
     "text": [
      "Downloaded 4014080 of 4534677 bytes (88.5%,    0.3s remaining) ...done. (5 seconds, 0 min)\n"
     ]
    },
    {
     "name": "stdout",
     "output_type": "stream",
     "text": [
      "Downloading data from https://ndownloader.figshare.com/files/6848241 ...\n"
     ]
    },
    {
     "name": "stderr",
     "output_type": "stream",
     "text": [
      " ...done. (1 seconds, 0 min)\n",
      "Extracting data from /Users/fenganyin/Desktop/realdata/data/COBRE/cobre/5ac96f6fe2ff3a366856c7519a259ae1/fmri_0040010.tsv.gz..... done.\n"
     ]
    },
    {
     "name": "stdout",
     "output_type": "stream",
     "text": [
      "Downloading data from https://ndownloader.figshare.com/files/6848748 ...\n"
     ]
    },
    {
     "name": "stderr",
     "output_type": "stream",
     "text": [
      "Downloaded 2981888 of 4487452 bytes (66.4%,    1.1s remaining) ...done. (5 seconds, 0 min)\n"
     ]
    },
    {
     "name": "stdout",
     "output_type": "stream",
     "text": [
      "Downloading data from https://ndownloader.figshare.com/files/6848751 ...\n"
     ]
    },
    {
     "name": "stderr",
     "output_type": "stream",
     "text": [
      " ...done. (1 seconds, 0 min)\n",
      "Extracting data from /Users/fenganyin/Desktop/realdata/data/COBRE/cobre/33a605d076b1ec10305d36158a019ca2/fmri_0040097.tsv.gz..... done.\n"
     ]
    },
    {
     "name": "stdout",
     "output_type": "stream",
     "text": [
      "Downloading data from https://ndownloader.figshare.com/files/6848796 ...\n"
     ]
    },
    {
     "name": "stderr",
     "output_type": "stream",
     "text": [
      "Downloaded 3162112 of 4669705 bytes (67.7%,    1.1s remaining) ...done. (5 seconds, 0 min)\n"
     ]
    },
    {
     "name": "stdout",
     "output_type": "stream",
     "text": [
      "Downloading data from https://ndownloader.figshare.com/files/6848799 ...\n"
     ]
    },
    {
     "name": "stderr",
     "output_type": "stream",
     "text": [
      " ...done. (1 seconds, 0 min)\n",
      "Extracting data from /Users/fenganyin/Desktop/realdata/data/COBRE/cobre/8af538f3408e1b1497436e7628c12cd1/fmri_0040105.tsv.gz..... done.\n"
     ]
    },
    {
     "name": "stdout",
     "output_type": "stream",
     "text": [
      "Downloading data from https://ndownloader.figshare.com/files/6849024 ...\n"
     ]
    },
    {
     "name": "stderr",
     "output_type": "stream",
     "text": [
      "Downloaded 647168 of 4686280 bytes (13.8%,    7.0s remaining) ...done. (4 seconds, 0 min)\n"
     ]
    },
    {
     "name": "stdout",
     "output_type": "stream",
     "text": [
      "Downloading data from https://ndownloader.figshare.com/files/6849027 ...\n"
     ]
    },
    {
     "name": "stderr",
     "output_type": "stream",
     "text": [
      " ...done. (1 seconds, 0 min)\n",
      "Extracting data from /Users/fenganyin/Desktop/realdata/data/COBRE/cobre/9918b97ac22971acffd50b5b20ed63a9/fmri_0040143.tsv.gz..... done.\n"
     ]
    },
    {
     "name": "stdout",
     "output_type": "stream",
     "text": [
      "Downloading data from https://ndownloader.figshare.com/files/6848214 ...\n"
     ]
    },
    {
     "name": "stderr",
     "output_type": "stream",
     "text": [
      "Downloaded 557056 of 4614678 bytes (12.1%,    7.6s remaining) ...done. (4 seconds, 0 min)\n"
     ]
    },
    {
     "name": "stdout",
     "output_type": "stream",
     "text": [
      "Downloading data from https://ndownloader.figshare.com/files/6848217 ...\n"
     ]
    },
    {
     "name": "stderr",
     "output_type": "stream",
     "text": [
      " ...done. (1 seconds, 0 min)\n",
      "Extracting data from /Users/fenganyin/Desktop/realdata/data/COBRE/cobre/22c47ad0848e42ca09a41e38a539a586/fmri_0040006.tsv.gz..... done.\n"
     ]
    },
    {
     "name": "stdout",
     "output_type": "stream",
     "text": [
      "Downloading data from https://ndownloader.figshare.com/files/6848202 ...\n"
     ]
    },
    {
     "name": "stderr",
     "output_type": "stream",
     "text": [
      "Downloaded 622592 of 4677442 bytes (13.3%,    7.3s remaining) ...done. (4 seconds, 0 min)\n"
     ]
    },
    {
     "name": "stdout",
     "output_type": "stream",
     "text": [
      "Downloading data from https://ndownloader.figshare.com/files/6848205 ...\n"
     ]
    },
    {
     "name": "stderr",
     "output_type": "stream",
     "text": [
      " ...done. (1 seconds, 0 min)\n",
      "Extracting data from /Users/fenganyin/Desktop/realdata/data/COBRE/cobre/2f46e386b49aee2ace572298b18aea2d/fmri_0040004.tsv.gz..... done.\n"
     ]
    },
    {
     "name": "stdout",
     "output_type": "stream",
     "text": [
      "Downloading data from https://ndownloader.figshare.com/files/6848562 ...\n"
     ]
    },
    {
     "name": "stderr",
     "output_type": "stream",
     "text": [
      "Downloaded 647168 of 4596847 bytes (14.1%,    6.9s remaining) ...done. (4 seconds, 0 min)\n"
     ]
    },
    {
     "name": "stdout",
     "output_type": "stream",
     "text": [
      "Downloading data from https://ndownloader.figshare.com/files/6848565 ...\n"
     ]
    },
    {
     "name": "stderr",
     "output_type": "stream",
     "text": [
      " ...done. (1 seconds, 0 min)\n",
      "Extracting data from /Users/fenganyin/Desktop/realdata/data/COBRE/cobre/316a59145109c16a527ab8d92a9789c6/fmri_0040064.tsv.gz..... done.\n"
     ]
    },
    {
     "name": "stdout",
     "output_type": "stream",
     "text": [
      "Downloading data from https://ndownloader.figshare.com/files/6848640 ...\n"
     ]
    },
    {
     "name": "stderr",
     "output_type": "stream",
     "text": [
      "Downloaded 630784 of 4485179 bytes (14.1%,    6.9s remaining) ...done. (4 seconds, 0 min)\n"
     ]
    },
    {
     "name": "stdout",
     "output_type": "stream",
     "text": [
      "Downloading data from https://ndownloader.figshare.com/files/6848643 ...\n"
     ]
    },
    {
     "name": "stderr",
     "output_type": "stream",
     "text": [
      " ...done. (1 seconds, 0 min)\n",
      "Extracting data from /Users/fenganyin/Desktop/realdata/data/COBRE/cobre/e65881d7f743bf728be584597c350fb0/fmri_0040078.tsv.gz..... done.\n"
     ]
    },
    {
     "name": "stdout",
     "output_type": "stream",
     "text": [
      "Downloading data from https://ndownloader.figshare.com/files/6848730 ...\n"
     ]
    },
    {
     "name": "stderr",
     "output_type": "stream",
     "text": [
      "Downloaded 622592 of 4436080 bytes (14.0%,    6.6s remaining) ...done. (4 seconds, 0 min)\n"
     ]
    },
    {
     "name": "stdout",
     "output_type": "stream",
     "text": [
      "Downloading data from https://ndownloader.figshare.com/files/6848733 ...\n"
     ]
    },
    {
     "name": "stderr",
     "output_type": "stream",
     "text": [
      " ...done. (1 seconds, 0 min)\n",
      "Extracting data from /Users/fenganyin/Desktop/realdata/data/COBRE/cobre/d81f30f9782ad5750682a04c0c63ad86/fmri_0040094.tsv.gz..... done.\n"
     ]
    },
    {
     "name": "stdout",
     "output_type": "stream",
     "text": [
      "Downloading data from https://ndownloader.figshare.com/files/6848670 ...\n"
     ]
    },
    {
     "name": "stderr",
     "output_type": "stream",
     "text": [
      "Downloaded 3309568 of 3902422 bytes (84.8%,    0.4s remaining) ...done. (4 seconds, 0 min)\n"
     ]
    },
    {
     "name": "stdout",
     "output_type": "stream",
     "text": [
      "Downloading data from https://ndownloader.figshare.com/files/6848673 ...\n"
     ]
    },
    {
     "name": "stderr",
     "output_type": "stream",
     "text": [
      " ...done. (1 seconds, 0 min)\n",
      "Extracting data from /Users/fenganyin/Desktop/realdata/data/COBRE/cobre/7874a5a9f7979cc31d01f73eb576e67e/fmri_0040084.tsv.gz..... done.\n"
     ]
    },
    {
     "name": "stdout",
     "output_type": "stream",
     "text": [
      "Downloading data from https://ndownloader.figshare.com/files/6848424 ...\n"
     ]
    },
    {
     "name": "stderr",
     "output_type": "stream",
     "text": [
      "Downloaded 581632 of 4343353 bytes (13.4%,    7.2s remaining) ...done. (4 seconds, 0 min)\n"
     ]
    },
    {
     "name": "stdout",
     "output_type": "stream",
     "text": [
      "Downloading data from https://ndownloader.figshare.com/files/6848427 ...\n"
     ]
    },
    {
     "name": "stderr",
     "output_type": "stream",
     "text": [
      " ...done. (1 seconds, 0 min)\n",
      "Extracting data from /Users/fenganyin/Desktop/realdata/data/COBRE/cobre/7707908b86cd00610a0da82a49cba7d1/fmri_0040041.tsv.gz..... done.\n"
     ]
    },
    {
     "name": "stdout",
     "output_type": "stream",
     "text": [
      "Downloading data from https://ndownloader.figshare.com/files/6848700 ...\n"
     ]
    },
    {
     "name": "stderr",
     "output_type": "stream",
     "text": [
      "Downloaded 2981888 of 4301164 bytes (69.3%,   20.6s remaining) ...done. (52 seconds, 0 min)\n"
     ]
    },
    {
     "name": "stdout",
     "output_type": "stream",
     "text": [
      "Downloading data from https://ndownloader.figshare.com/files/6848703 ...\n"
     ]
    },
    {
     "name": "stderr",
     "output_type": "stream",
     "text": [
      " ...done. (1 seconds, 0 min)\n",
      "Extracting data from /Users/fenganyin/Desktop/realdata/data/COBRE/cobre/70de19035ad72b43cc8384b0e59c5cf3/fmri_0040089.tsv.gz..... done.\n"
     ]
    },
    {
     "name": "stdout",
     "output_type": "stream",
     "text": [
      "Downloading data from https://ndownloader.figshare.com/files/6848418 ...\n"
     ]
    },
    {
     "name": "stderr",
     "output_type": "stream",
     "text": [
      "Downloaded 622592 of 4262891 bytes (14.6%,    6.6s remaining) ...done. (4 seconds, 0 min)\n"
     ]
    },
    {
     "name": "stdout",
     "output_type": "stream",
     "text": [
      "Downloading data from https://ndownloader.figshare.com/files/6848421 ...\n"
     ]
    },
    {
     "name": "stderr",
     "output_type": "stream",
     "text": [
      " ...done. (1 seconds, 0 min)\n",
      "Extracting data from /Users/fenganyin/Desktop/realdata/data/COBRE/cobre/9ebb1028205a5f825475866bb9288800/fmri_0040040.tsv.gz..... done.\n"
     ]
    },
    {
     "name": "stdout",
     "output_type": "stream",
     "text": [
      "Downloading data from https://ndownloader.figshare.com/files/6848346 ...\n"
     ]
    },
    {
     "name": "stderr",
     "output_type": "stream",
     "text": [
      "Downloaded 630784 of 4399794 bytes (14.3%,    6.7s remaining) ...done. (4 seconds, 0 min)\n"
     ]
    },
    {
     "name": "stdout",
     "output_type": "stream",
     "text": [
      "Downloading data from https://ndownloader.figshare.com/files/6848349 ...\n"
     ]
    },
    {
     "name": "stderr",
     "output_type": "stream",
     "text": [
      " ...done. (1 seconds, 0 min)\n",
      "Extracting data from /Users/fenganyin/Desktop/realdata/data/COBRE/cobre/3b593703b0a29043c971f3cc9a190148/fmri_0040028.tsv.gz..... done.\n"
     ]
    },
    {
     "name": "stdout",
     "output_type": "stream",
     "text": [
      "Downloading data from https://ndownloader.figshare.com/files/6848220 ...\n"
     ]
    },
    {
     "name": "stderr",
     "output_type": "stream",
     "text": [
      "Downloaded 3440640 of 4553009 bytes (75.6%,    0.7s remaining) ...done. (5 seconds, 0 min)\n"
     ]
    },
    {
     "name": "stdout",
     "output_type": "stream",
     "text": [
      "Downloading data from https://ndownloader.figshare.com/files/6848223 ...\n"
     ]
    },
    {
     "name": "stderr",
     "output_type": "stream",
     "text": [
      " ...done. (1 seconds, 0 min)\n",
      "Extracting data from /Users/fenganyin/Desktop/realdata/data/COBRE/cobre/6e6fcccace5a7d17c5f297df03e023a8/fmri_0040007.tsv.gz..... done.\n"
     ]
    },
    {
     "name": "stdout",
     "output_type": "stream",
     "text": [
      "Downloading data from https://ndownloader.figshare.com/files/6848544 ...\n"
     ]
    },
    {
     "name": "stderr",
     "output_type": "stream",
     "text": [
      "Downloaded 2367488 of 4647995 bytes (50.9%,    2.2s remaining) ...done. (5 seconds, 0 min)\n"
     ]
    },
    {
     "name": "stdout",
     "output_type": "stream",
     "text": [
      "Downloading data from https://ndownloader.figshare.com/files/6848547 ...\n"
     ]
    },
    {
     "name": "stderr",
     "output_type": "stream",
     "text": [
      " ...done. (1 seconds, 0 min)\n",
      "Extracting data from /Users/fenganyin/Desktop/realdata/data/COBRE/cobre/fdbfd280ff5322077b5eff6994660f90/fmri_0040061.tsv.gz..... done.\n"
     ]
    },
    {
     "name": "stdout",
     "output_type": "stream",
     "text": [
      "Downloading data from https://ndownloader.figshare.com/files/6848706 ...\n"
     ]
    },
    {
     "name": "stderr",
     "output_type": "stream",
     "text": [
      "Downloaded 450560 of 4595137 bytes (9.8%,   10.4s remaining) ...done. (4 seconds, 0 min)\n"
     ]
    },
    {
     "name": "stdout",
     "output_type": "stream",
     "text": [
      "Downloading data from https://ndownloader.figshare.com/files/6848709 ...\n"
     ]
    },
    {
     "name": "stderr",
     "output_type": "stream",
     "text": [
      " ...done. (0 seconds, 0 min)\n",
      "Extracting data from /Users/fenganyin/Desktop/realdata/data/COBRE/cobre/17ca77ec81f75b50b825727c4aab1df2/fmri_0040090.tsv.gz..... done.\n"
     ]
    },
    {
     "name": "stdout",
     "output_type": "stream",
     "text": [
      "Downloading data from https://ndownloader.figshare.com/files/6848844 ...\n"
     ]
    },
    {
     "name": "stderr",
     "output_type": "stream",
     "text": [
      "Downloaded 630784 of 4593987 bytes (13.7%,    7.1s remaining) ...done. (4 seconds, 0 min)\n"
     ]
    },
    {
     "name": "stdout",
     "output_type": "stream",
     "text": [
      "Downloading data from https://ndownloader.figshare.com/files/6848847 ...\n"
     ]
    },
    {
     "name": "stderr",
     "output_type": "stream",
     "text": [
      " ...done. (1 seconds, 0 min)\n",
      "Extracting data from /Users/fenganyin/Desktop/realdata/data/COBRE/cobre/76e2655b3aa1b303589dfdef904ebcff/fmri_0040113.tsv.gz..... done.\n"
     ]
    },
    {
     "name": "stdout",
     "output_type": "stream",
     "text": [
      "Downloading data from https://ndownloader.figshare.com/files/6848892 ...\n"
     ]
    },
    {
     "name": "stderr",
     "output_type": "stream",
     "text": [
      "Downloaded 606208 of 4525595 bytes (13.4%,    7.0s remaining) ...done. (4 seconds, 0 min)\n"
     ]
    },
    {
     "name": "stdout",
     "output_type": "stream",
     "text": [
      "Downloading data from https://ndownloader.figshare.com/files/6848895 ...\n"
     ]
    },
    {
     "name": "stderr",
     "output_type": "stream",
     "text": [
      " ...done. (0 seconds, 0 min)\n",
      "Extracting data from /Users/fenganyin/Desktop/realdata/data/COBRE/cobre/433e5c0cba0e8bdc641c5a8adbb3c990/fmri_0040121.tsv.gz..... done.\n"
     ]
    },
    {
     "name": "stdout",
     "output_type": "stream",
     "text": [
      "Downloading data from https://ndownloader.figshare.com/files/6848298 ...\n"
     ]
    },
    {
     "name": "stderr",
     "output_type": "stream",
     "text": [
      "Downloaded 630784 of 4551063 bytes (13.9%,    7.0s remaining) ...done. (4 seconds, 0 min)\n"
     ]
    },
    {
     "name": "stdout",
     "output_type": "stream",
     "text": [
      "Downloading data from https://ndownloader.figshare.com/files/6848301 ...\n"
     ]
    },
    {
     "name": "stderr",
     "output_type": "stream",
     "text": [
      " ...done. (1 seconds, 0 min)\n",
      "Extracting data from /Users/fenganyin/Desktop/realdata/data/COBRE/cobre/bfac74090e10957abb67237a9a6a5655/fmri_0040020.tsv.gz..... done.\n"
     ]
    },
    {
     "name": "stdout",
     "output_type": "stream",
     "text": [
      "Downloading data from https://ndownloader.figshare.com/files/6848490 ...\n"
     ]
    },
    {
     "name": "stderr",
     "output_type": "stream",
     "text": [
      "Downloaded 622592 of 4653489 bytes (13.4%,    7.2s remaining) ...done. (4 seconds, 0 min)\n"
     ]
    },
    {
     "name": "stdout",
     "output_type": "stream",
     "text": [
      "Downloading data from https://ndownloader.figshare.com/files/6848493 ...\n"
     ]
    },
    {
     "name": "stderr",
     "output_type": "stream",
     "text": [
      " ...done. (1 seconds, 0 min)\n",
      "Extracting data from /Users/fenganyin/Desktop/realdata/data/COBRE/cobre/f006ca3519f6bb28f44b9cf417d21baf/fmri_0040052.tsv.gz..... done.\n"
     ]
    },
    {
     "name": "stdout",
     "output_type": "stream",
     "text": [
      "Downloading data from https://ndownloader.figshare.com/files/6848568 ...\n"
     ]
    },
    {
     "name": "stderr",
     "output_type": "stream",
     "text": [
      "Downloaded 630784 of 4596677 bytes (13.7%,    7.1s remaining) ...done. (4 seconds, 0 min)\n"
     ]
    },
    {
     "name": "stdout",
     "output_type": "stream",
     "text": [
      "Downloading data from https://ndownloader.figshare.com/files/6848571 ...\n"
     ]
    },
    {
     "name": "stderr",
     "output_type": "stream",
     "text": [
      " ...done. (1 seconds, 0 min)\n",
      "Extracting data from /Users/fenganyin/Desktop/realdata/data/COBRE/cobre/299ca69e0ad3a861a125a7c752e83e5a/fmri_0040065.tsv.gz..... done.\n"
     ]
    },
    {
     "name": "stdout",
     "output_type": "stream",
     "text": [
      "Downloading data from https://ndownloader.figshare.com/files/6848934 ...\n"
     ]
    },
    {
     "name": "stderr",
     "output_type": "stream",
     "text": [
      "Downloaded 4521984 of 4587115 bytes (98.6%,    0.0s remaining) ...done. (4 seconds, 0 min)\n"
     ]
    },
    {
     "name": "stdout",
     "output_type": "stream",
     "text": [
      "Downloading data from https://ndownloader.figshare.com/files/6848937 ...\n"
     ]
    },
    {
     "name": "stderr",
     "output_type": "stream",
     "text": [
      " ...done. (1 seconds, 0 min)\n",
      "Extracting data from /Users/fenganyin/Desktop/realdata/data/COBRE/cobre/5eb64f00c4a989fd64422c592475ed4c/fmri_0040128.tsv.gz..... done.\n"
     ]
    },
    {
     "name": "stdout",
     "output_type": "stream",
     "text": [
      "Downloading data from https://ndownloader.figshare.com/files/6848484 ...\n"
     ]
    },
    {
     "name": "stderr",
     "output_type": "stream",
     "text": [
      "Downloaded 4276224 of 4672864 bytes (91.5%,    0.9s remaining) ...done. (13 seconds, 0 min)\n"
     ]
    },
    {
     "name": "stdout",
     "output_type": "stream",
     "text": [
      "Downloading data from https://ndownloader.figshare.com/files/6848487 ...\n"
     ]
    },
    {
     "name": "stderr",
     "output_type": "stream",
     "text": [
      " ...done. (1 seconds, 0 min)\n",
      "Extracting data from /Users/fenganyin/Desktop/realdata/data/COBRE/cobre/ce31f466fadb6e22c80c0b8969b17ff8/fmri_0040051.tsv.gz..... done.\n"
     ]
    },
    {
     "name": "stdout",
     "output_type": "stream",
     "text": [
      "Downloading data from https://ndownloader.figshare.com/files/6848850 ...\n"
     ]
    },
    {
     "name": "stderr",
     "output_type": "stream",
     "text": [
      "Downloaded 630784 of 4331760 bytes (14.6%,    6.6s remaining) ...done. (4 seconds, 0 min)\n"
     ]
    },
    {
     "name": "stdout",
     "output_type": "stream",
     "text": [
      "Downloading data from https://ndownloader.figshare.com/files/6848853 ...\n"
     ]
    },
    {
     "name": "stderr",
     "output_type": "stream",
     "text": [
      " ...done. (1 seconds, 0 min)\n",
      "Extracting data from /Users/fenganyin/Desktop/realdata/data/COBRE/cobre/cff9fd15d22059a176d15190e6caf601/fmri_0040114.tsv.gz..... done.\n"
     ]
    },
    {
     "name": "stdout",
     "output_type": "stream",
     "text": [
      "Downloading data from https://ndownloader.figshare.com/files/6848940 ...\n"
     ]
    },
    {
     "name": "stderr",
     "output_type": "stream",
     "text": [
      "Downloaded 3792896 of 4518393 bytes (83.9%,    0.4s remaining) ...done. (4 seconds, 0 min)\n"
     ]
    },
    {
     "name": "stdout",
     "output_type": "stream",
     "text": [
      "Downloading data from https://ndownloader.figshare.com/files/6848943 ...\n"
     ]
    },
    {
     "name": "stderr",
     "output_type": "stream",
     "text": [
      " ...done. (1 seconds, 0 min)\n",
      "Extracting data from /Users/fenganyin/Desktop/realdata/data/COBRE/cobre/447df6e56661d38b5f894d96e38b01c2/fmri_0040129.tsv.gz..... done.\n"
     ]
    },
    {
     "name": "stdout",
     "output_type": "stream",
     "text": [
      "Downloading data from https://ndownloader.figshare.com/files/6848496 ...\n"
     ]
    },
    {
     "name": "stderr",
     "output_type": "stream",
     "text": [
      "Downloaded 581632 of 4516202 bytes (12.9%,    7.6s remaining) ...done. (4 seconds, 0 min)\n"
     ]
    },
    {
     "name": "stdout",
     "output_type": "stream",
     "text": [
      "Downloading data from https://ndownloader.figshare.com/files/6848499 ...\n"
     ]
    },
    {
     "name": "stderr",
     "output_type": "stream",
     "text": [
      " ...done. (1 seconds, 0 min)\n",
      "Extracting data from /Users/fenganyin/Desktop/realdata/data/COBRE/cobre/4c7d2fca87218d8466eecbacf3eab588/fmri_0040053.tsv.gz..... done.\n"
     ]
    },
    {
     "name": "stdout",
     "output_type": "stream",
     "text": [
      "Downloading data from https://ndownloader.figshare.com/files/6848586 ...\n"
     ]
    },
    {
     "name": "stderr",
     "output_type": "stream",
     "text": [
      "Downloaded 614400 of 4595254 bytes (13.4%,    7.3s remaining) ...done. (4 seconds, 0 min)\n"
     ]
    },
    {
     "name": "stdout",
     "output_type": "stream",
     "text": [
      "Downloading data from https://ndownloader.figshare.com/files/6848589 ...\n"
     ]
    },
    {
     "name": "stderr",
     "output_type": "stream",
     "text": [
      " ...done. (1 seconds, 0 min)\n",
      "Extracting data from /Users/fenganyin/Desktop/realdata/data/COBRE/cobre/7c77d9be9410f1827a5bfd2a9d55f421/fmri_0040068.tsv.gz..... done.\n"
     ]
    },
    {
     "name": "stdout",
     "output_type": "stream",
     "text": [
      "Downloading data from https://ndownloader.figshare.com/files/6848712 ...\n"
     ]
    },
    {
     "name": "stderr",
     "output_type": "stream",
     "text": [
      "Downloaded 2580480 of 4556172 bytes (56.6%,    1.7s remaining) ...done. (5 seconds, 0 min)\n"
     ]
    },
    {
     "name": "stdout",
     "output_type": "stream",
     "text": [
      "Downloading data from https://ndownloader.figshare.com/files/6848715 ...\n"
     ]
    },
    {
     "name": "stderr",
     "output_type": "stream",
     "text": [
      " ...done. (1 seconds, 0 min)\n",
      "Extracting data from /Users/fenganyin/Desktop/realdata/data/COBRE/cobre/aea7a57b01069fb5564e61dc1f42530c/fmri_0040091.tsv.gz..... done.\n"
     ]
    },
    {
     "name": "stdout",
     "output_type": "stream",
     "text": [
      "Downloading data from https://ndownloader.figshare.com/files/6848976 ...\n"
     ]
    },
    {
     "name": "stderr",
     "output_type": "stream",
     "text": [
      "Downloaded 3080192 of 4624452 bytes (66.6%,    1.1s remaining) ...done. (5 seconds, 0 min)\n"
     ]
    },
    {
     "name": "stdout",
     "output_type": "stream",
     "text": [
      "Downloading data from https://ndownloader.figshare.com/files/6848979 ...\n"
     ]
    },
    {
     "name": "stderr",
     "output_type": "stream",
     "text": [
      " ...done. (1 seconds, 0 min)\n",
      "Extracting data from /Users/fenganyin/Desktop/realdata/data/COBRE/cobre/98a2d5d55994201cf5ca899f41edb483/fmri_0040135.tsv.gz..... done.\n"
     ]
    },
    {
     "name": "stdout",
     "output_type": "stream",
     "text": [
      "Downloading data from https://ndownloader.figshare.com/files/6848724 ...\n"
     ]
    },
    {
     "name": "stderr",
     "output_type": "stream",
     "text": [
      "Downloaded 581632 of 4533894 bytes (12.8%,    8.1s remaining) ...done. (4 seconds, 0 min)\n"
     ]
    },
    {
     "name": "stdout",
     "output_type": "stream",
     "text": [
      "Downloading data from https://ndownloader.figshare.com/files/6848727 ...\n"
     ]
    },
    {
     "name": "stderr",
     "output_type": "stream",
     "text": [
      " ...done. (1 seconds, 0 min)\n",
      "Extracting data from /Users/fenganyin/Desktop/realdata/data/COBRE/cobre/8ac369f55252247ed042bfbdbdaf8832/fmri_0040093.tsv.gz..... done.\n"
     ]
    },
    {
     "name": "stdout",
     "output_type": "stream",
     "text": [
      "Downloading data from https://ndownloader.figshare.com/files/6848394 ...\n"
     ]
    },
    {
     "name": "stderr",
     "output_type": "stream",
     "text": [
      "Downloaded 3244032 of 4566244 bytes (71.0%,    0.9s remaining) ...done. (5 seconds, 0 min)\n"
     ]
    },
    {
     "name": "stdout",
     "output_type": "stream",
     "text": [
      "Downloading data from https://ndownloader.figshare.com/files/6848397 ...\n"
     ]
    },
    {
     "name": "stderr",
     "output_type": "stream",
     "text": [
      " ...done. (1 seconds, 0 min)\n",
      "Extracting data from /Users/fenganyin/Desktop/realdata/data/COBRE/cobre/d22a0250adab29b895fcd9e986961ac6/fmri_0040036.tsv.gz..... done.\n"
     ]
    },
    {
     "name": "stdout",
     "output_type": "stream",
     "text": [
      "Downloading data from https://ndownloader.figshare.com/files/6848790 ...\n"
     ]
    },
    {
     "name": "stderr",
     "output_type": "stream",
     "text": [
      "Downloaded 4317184 of 4566556 bytes (94.5%,    0.1s remaining) ...done. (4 seconds, 0 min)\n"
     ]
    },
    {
     "name": "stdout",
     "output_type": "stream",
     "text": [
      "Downloading data from https://ndownloader.figshare.com/files/6848793 ...\n"
     ]
    },
    {
     "name": "stderr",
     "output_type": "stream",
     "text": [
      " ...done. (1 seconds, 0 min)\n",
      "Extracting data from /Users/fenganyin/Desktop/realdata/data/COBRE/cobre/386c9d2e3df1d7f9be222929c539a85e/fmri_0040104.tsv.gz..... done.\n"
     ]
    },
    {
     "name": "stdout",
     "output_type": "stream",
     "text": [
      "Downloading data from https://ndownloader.figshare.com/files/6848886 ...\n"
     ]
    },
    {
     "name": "stderr",
     "output_type": "stream",
     "text": [
      "Downloaded 3293184 of 4335464 bytes (76.0%,    1.2s remaining) ...done. (7 seconds, 0 min)\n"
     ]
    },
    {
     "name": "stdout",
     "output_type": "stream",
     "text": [
      "Downloading data from https://ndownloader.figshare.com/files/6848889 ...\n"
     ]
    },
    {
     "name": "stderr",
     "output_type": "stream",
     "text": [
      " ...done. (1 seconds, 0 min)\n",
      "Extracting data from /Users/fenganyin/Desktop/realdata/data/COBRE/cobre/5dc5e3b270269cba3966fa31588b7257/fmri_0040120.tsv.gz..... done.\n"
     ]
    },
    {
     "name": "stdout",
     "output_type": "stream",
     "text": [
      "Downloading data from https://ndownloader.figshare.com/files/6848928 ...\n"
     ]
    },
    {
     "name": "stderr",
     "output_type": "stream",
     "text": [
      "Downloaded 3907584 of 4358576 bytes (89.7%,    0.2s remaining) ...done. (5 seconds, 0 min)\n"
     ]
    },
    {
     "name": "stdout",
     "output_type": "stream",
     "text": [
      "Downloading data from https://ndownloader.figshare.com/files/6848931 ...\n"
     ]
    },
    {
     "name": "stderr",
     "output_type": "stream",
     "text": [
      " ...done. (1 seconds, 0 min)\n",
      "Extracting data from /Users/fenganyin/Desktop/realdata/data/COBRE/cobre/b316555cbb1737d7e894b988e9780e64/fmri_0040127.tsv.gz..... done.\n"
     ]
    },
    {
     "name": "stdout",
     "output_type": "stream",
     "text": [
      "Downloading data from https://ndownloader.figshare.com/files/6848514 ...\n"
     ]
    },
    {
     "name": "stderr",
     "output_type": "stream",
     "text": [
      "Downloaded 540672 of 4639453 bytes (11.7%,    7.6s remaining) ...done. (4 seconds, 0 min)\n"
     ]
    },
    {
     "name": "stdout",
     "output_type": "stream",
     "text": [
      "Downloading data from https://ndownloader.figshare.com/files/6848517 ...\n"
     ]
    },
    {
     "name": "stderr",
     "output_type": "stream",
     "text": [
      " ...done. (1 seconds, 0 min)\n",
      "Extracting data from /Users/fenganyin/Desktop/realdata/data/COBRE/cobre/b54127146bebc0a1577663db77da54e7/fmri_0040056.tsv.gz..... done.\n"
     ]
    },
    {
     "name": "stdout",
     "output_type": "stream",
     "text": [
      "Downloading data from https://ndownloader.figshare.com/files/6848526 ...\n"
     ]
    },
    {
     "name": "stderr",
     "output_type": "stream",
     "text": [
      "Downloaded 442368 of 4526132 bytes (9.8%,    9.7s remaining) ...done. (4 seconds, 0 min)\n"
     ]
    },
    {
     "name": "stdout",
     "output_type": "stream",
     "text": [
      "Downloading data from https://ndownloader.figshare.com/files/6848529 ...\n"
     ]
    },
    {
     "name": "stderr",
     "output_type": "stream",
     "text": [
      " ...done. (1 seconds, 0 min)\n",
      "Extracting data from /Users/fenganyin/Desktop/realdata/data/COBRE/cobre/d266bff0ab2e5630aa19b5281c47dcc2/fmri_0040058.tsv.gz..... done.\n"
     ]
    },
    {
     "name": "stdout",
     "output_type": "stream",
     "text": [
      "Downloading data from https://ndownloader.figshare.com/files/6848688 ...\n"
     ]
    },
    {
     "name": "stderr",
     "output_type": "stream",
     "text": [
      "Downloaded 4128768 of 4250059 bytes (97.1%,    0.1s remaining) ...done. (4 seconds, 0 min)\n"
     ]
    },
    {
     "name": "stdout",
     "output_type": "stream",
     "text": [
      "Downloading data from https://ndownloader.figshare.com/files/6848691 ...\n"
     ]
    },
    {
     "name": "stderr",
     "output_type": "stream",
     "text": [
      " ...done. (1 seconds, 0 min)\n",
      "Extracting data from /Users/fenganyin/Desktop/realdata/data/COBRE/cobre/dc0b143affa421c69fedc2926b7eeca9/fmri_0040087.tsv.gz..... done.\n"
     ]
    },
    {
     "name": "stdout",
     "output_type": "stream",
     "text": [
      "Downloading data from https://ndownloader.figshare.com/files/6848856 ...\n"
     ]
    },
    {
     "name": "stderr",
     "output_type": "stream",
     "text": [
      "Downloaded 606208 of 4361922 bytes (13.9%,    6.7s remaining) ...done. (4 seconds, 0 min)\n"
     ]
    },
    {
     "name": "stdout",
     "output_type": "stream",
     "text": [
      "Downloading data from https://ndownloader.figshare.com/files/6848859 ...\n"
     ]
    },
    {
     "name": "stderr",
     "output_type": "stream",
     "text": [
      " ...done. (0 seconds, 0 min)\n",
      "Extracting data from /Users/fenganyin/Desktop/realdata/data/COBRE/cobre/5a9e6ef1c95ae6b0568f859a5cf27ec9/fmri_0040115.tsv.gz..... done.\n"
     ]
    },
    {
     "name": "stdout",
     "output_type": "stream",
     "text": [
      "Downloading data from https://ndownloader.figshare.com/files/6848994 ...\n"
     ]
    },
    {
     "name": "stderr",
     "output_type": "stream",
     "text": [
      "Downloaded 622592 of 4597734 bytes (13.5%,    6.9s remaining) ...done. (4 seconds, 0 min)\n"
     ]
    },
    {
     "name": "stdout",
     "output_type": "stream",
     "text": [
      "Downloading data from https://ndownloader.figshare.com/files/6848997 ...\n"
     ]
    },
    {
     "name": "stderr",
     "output_type": "stream",
     "text": [
      " ...done. (1 seconds, 0 min)\n",
      "Extracting data from /Users/fenganyin/Desktop/realdata/data/COBRE/cobre/b82db541e4f9a5e408d9ad43343175de/fmri_0040138.tsv.gz..... done.\n"
     ]
    },
    {
     "name": "stdout",
     "output_type": "stream",
     "text": [
      "Downloading data from https://ndownloader.figshare.com/files/6849000 ...\n"
     ]
    },
    {
     "name": "stderr",
     "output_type": "stream",
     "text": [
      "Downloaded 622592 of 4447040 bytes (14.0%,    6.9s remaining) ...done. (4 seconds, 0 min)\n"
     ]
    },
    {
     "name": "stdout",
     "output_type": "stream",
     "text": [
      "Downloading data from https://ndownloader.figshare.com/files/6849003 ...\n"
     ]
    },
    {
     "name": "stderr",
     "output_type": "stream",
     "text": [
      " ...done. (1 seconds, 0 min)\n",
      "Extracting data from /Users/fenganyin/Desktop/realdata/data/COBRE/cobre/add86cccd2ec37880b3e555251501f43/fmri_0040139.tsv.gz..... done.\n"
     ]
    },
    {
     "name": "stdout",
     "output_type": "stream",
     "text": [
      "Downloading data from https://ndownloader.figshare.com/files/6848280 ...\n"
     ]
    },
    {
     "name": "stderr",
     "output_type": "stream",
     "text": [
      "Downloaded 598016 of 4318414 bytes (13.8%,    6.7s remaining) ...done. (4 seconds, 0 min)\n"
     ]
    },
    {
     "name": "stdout",
     "output_type": "stream",
     "text": [
      "Downloading data from https://ndownloader.figshare.com/files/6848283 ...\n"
     ]
    },
    {
     "name": "stderr",
     "output_type": "stream",
     "text": [
      " ...done. (1 seconds, 0 min)\n",
      "Extracting data from /Users/fenganyin/Desktop/realdata/data/COBRE/cobre/b70d55395685d07aa8fdffc94edc71da/fmri_0040017.tsv.gz..... done.\n"
     ]
    },
    {
     "name": "stdout",
     "output_type": "stream",
     "text": [
      "Downloading data from https://ndownloader.figshare.com/files/6848388 ...\n"
     ]
    },
    {
     "name": "stderr",
     "output_type": "stream",
     "text": [
      "Downloaded 638976 of 4407131 bytes (14.5%,    6.4s remaining) ...done. (4 seconds, 0 min)\n"
     ]
    },
    {
     "name": "stdout",
     "output_type": "stream",
     "text": [
      "Downloading data from https://ndownloader.figshare.com/files/6848391 ...\n"
     ]
    },
    {
     "name": "stderr",
     "output_type": "stream",
     "text": [
      " ...done. (1 seconds, 0 min)\n",
      "Extracting data from /Users/fenganyin/Desktop/realdata/data/COBRE/cobre/353ecb8a3fa22bfea3957c8bc90a8290/fmri_0040035.tsv.gz..... done.\n"
     ]
    },
    {
     "name": "stdout",
     "output_type": "stream",
     "text": [
      "Downloading data from https://ndownloader.figshare.com/files/6848448 ...\n"
     ]
    },
    {
     "name": "stderr",
     "output_type": "stream",
     "text": [
      "Downloaded 458752 of 4126071 bytes (11.1%,    8.5s remaining) ...done. (4 seconds, 0 min)\n"
     ]
    },
    {
     "name": "stdout",
     "output_type": "stream",
     "text": [
      "Downloading data from https://ndownloader.figshare.com/files/6848451 ...\n"
     ]
    },
    {
     "name": "stderr",
     "output_type": "stream",
     "text": [
      " ...done. (1 seconds, 0 min)\n",
      "Extracting data from /Users/fenganyin/Desktop/realdata/data/COBRE/cobre/32b47fdf5040a6cf341e306058d1d040/fmri_0040045.tsv.gz..... done.\n"
     ]
    },
    {
     "name": "stdout",
     "output_type": "stream",
     "text": [
      "Downloading data from https://ndownloader.figshare.com/files/6848508 ...\n"
     ]
    },
    {
     "name": "stderr",
     "output_type": "stream",
     "text": [
      "Downloaded 647168 of 4535546 bytes (14.3%,    6.7s remaining) ...done. (4 seconds, 0 min)\n"
     ]
    },
    {
     "name": "stdout",
     "output_type": "stream",
     "text": [
      "Downloading data from https://ndownloader.figshare.com/files/6848511 ...\n"
     ]
    },
    {
     "name": "stderr",
     "output_type": "stream",
     "text": [
      " ...done. (1 seconds, 0 min)\n",
      "Extracting data from /Users/fenganyin/Desktop/realdata/data/COBRE/cobre/e5dc1faa428abfd54acfffa1c1091732/fmri_0040055.tsv.gz..... done.\n"
     ]
    },
    {
     "name": "stdout",
     "output_type": "stream",
     "text": [
      "Downloading data from https://ndownloader.figshare.com/files/6848262 ...\n"
     ]
    },
    {
     "name": "stderr",
     "output_type": "stream",
     "text": [
      "Downloaded 630784 of 4240132 bytes (14.9%,    6.2s remaining) ...done. (4 seconds, 0 min)\n"
     ]
    },
    {
     "name": "stdout",
     "output_type": "stream",
     "text": [
      "Downloading data from https://ndownloader.figshare.com/files/6848265 ...\n"
     ]
    },
    {
     "name": "stderr",
     "output_type": "stream",
     "text": [
      " ...done. (1 seconds, 0 min)\n",
      "Extracting data from /Users/fenganyin/Desktop/realdata/data/COBRE/cobre/0b613ec379333f48f6d60632e7fe449e/fmri_0040014.tsv.gz..... done.\n"
     ]
    },
    {
     "name": "stdout",
     "output_type": "stream",
     "text": [
      "Downloading data from https://ndownloader.figshare.com/files/6848376 ...\n"
     ]
    },
    {
     "name": "stderr",
     "output_type": "stream",
     "text": [
      "Downloaded 630784 of 4530982 bytes (13.9%,    6.9s remaining) ...done. (4 seconds, 0 min)\n"
     ]
    },
    {
     "name": "stdout",
     "output_type": "stream",
     "text": [
      "Downloading data from https://ndownloader.figshare.com/files/6848379 ...\n"
     ]
    },
    {
     "name": "stderr",
     "output_type": "stream",
     "text": [
      " ...done. (1 seconds, 0 min)\n",
      "Extracting data from /Users/fenganyin/Desktop/realdata/data/COBRE/cobre/f16c0a0e779562038bc1d80a48174aa6/fmri_0040033.tsv.gz..... done.\n"
     ]
    },
    {
     "name": "stdout",
     "output_type": "stream",
     "text": [
      "Downloading data from https://ndownloader.figshare.com/files/6848466 ...\n"
     ]
    },
    {
     "name": "stderr",
     "output_type": "stream",
     "text": [
      "Downloaded 622592 of 4415380 bytes (14.1%,    7.0s remaining) ...done. (4 seconds, 0 min)\n"
     ]
    },
    {
     "name": "stdout",
     "output_type": "stream",
     "text": [
      "Downloading data from https://ndownloader.figshare.com/files/6848469 ...\n"
     ]
    },
    {
     "name": "stderr",
     "output_type": "stream",
     "text": [
      " ...done. (1 seconds, 0 min)\n",
      "Extracting data from /Users/fenganyin/Desktop/realdata/data/COBRE/cobre/f1cf4fc950e390b644c4756f1d7571ed/fmri_0040048.tsv.gz..... done.\n"
     ]
    },
    {
     "name": "stdout",
     "output_type": "stream",
     "text": [
      "Downloading data from https://ndownloader.figshare.com/files/6848580 ...\n"
     ]
    },
    {
     "name": "stderr",
     "output_type": "stream",
     "text": [
      "Downloaded 557056 of 4675739 bytes (11.9%,    8.9s remaining) ...done. (4 seconds, 0 min)\n"
     ]
    },
    {
     "name": "stdout",
     "output_type": "stream",
     "text": [
      "Downloading data from https://ndownloader.figshare.com/files/6848583 ...\n"
     ]
    },
    {
     "name": "stderr",
     "output_type": "stream",
     "text": [
      " ...done. (1 seconds, 0 min)\n",
      "Extracting data from /Users/fenganyin/Desktop/realdata/data/COBRE/cobre/0a13ad695794bd882eb610537ed8834c/fmri_0040067.tsv.gz..... done.\n"
     ]
    },
    {
     "name": "stdout",
     "output_type": "stream",
     "text": [
      "Downloading data from https://ndownloader.figshare.com/files/6848808 ...\n"
     ]
    },
    {
     "name": "stderr",
     "output_type": "stream",
     "text": [
      "Downloaded 622592 of 4541587 bytes (13.7%,    7.1s remaining) ...done. (4 seconds, 0 min)\n"
     ]
    },
    {
     "name": "stdout",
     "output_type": "stream",
     "text": [
      "Downloading data from https://ndownloader.figshare.com/files/6848811 ...\n"
     ]
    },
    {
     "name": "stderr",
     "output_type": "stream",
     "text": [
      " ...done. (1 seconds, 0 min)\n",
      "Extracting data from /Users/fenganyin/Desktop/realdata/data/COBRE/cobre/51cf21fec93eda9d261ba6e60772b3b3/fmri_0040107.tsv.gz..... done.\n"
     ]
    },
    {
     "name": "stdout",
     "output_type": "stream",
     "text": [
      "Downloading data from https://ndownloader.figshare.com/files/6848256 ...\n"
     ]
    },
    {
     "name": "stderr",
     "output_type": "stream",
     "text": [
      "Downloaded 3997696 of 4316661 bytes (92.6%,    0.2s remaining) ...done. (4 seconds, 0 min)\n"
     ]
    },
    {
     "name": "stdout",
     "output_type": "stream",
     "text": [
      "Downloading data from https://ndownloader.figshare.com/files/6848259 ...\n"
     ]
    },
    {
     "name": "stderr",
     "output_type": "stream",
     "text": [
      " ...done. (1 seconds, 0 min)\n",
      "Extracting data from /Users/fenganyin/Desktop/realdata/data/COBRE/cobre/1fb653a5f34e2668fc3f6b7f9a0e7fdf/fmri_0040013.tsv.gz..... done.\n"
     ]
    },
    {
     "name": "stdout",
     "output_type": "stream",
     "text": [
      "Downloading data from https://ndownloader.figshare.com/files/6848616 ...\n"
     ]
    },
    {
     "name": "stderr",
     "output_type": "stream",
     "text": [
      "Downloaded 4210688 of 4538631 bytes (92.8%,    0.2s remaining) ...done. (4 seconds, 0 min)\n"
     ]
    },
    {
     "name": "stdout",
     "output_type": "stream",
     "text": [
      "Downloading data from https://ndownloader.figshare.com/files/6848619 ...\n"
     ]
    },
    {
     "name": "stderr",
     "output_type": "stream",
     "text": [
      " ...done. (1 seconds, 0 min)\n",
      "Extracting data from /Users/fenganyin/Desktop/realdata/data/COBRE/cobre/3458e174c96ff3708392fa25271e0a42/fmri_0040074.tsv.gz..... done.\n"
     ]
    },
    {
     "name": "stdout",
     "output_type": "stream",
     "text": [
      "Downloading data from https://ndownloader.figshare.com/files/6848874 ...\n"
     ]
    },
    {
     "name": "stderr",
     "output_type": "stream",
     "text": [
      "Downloaded 2801664 of 4654182 bytes (60.2%,    1.5s remaining) ...done. (5 seconds, 0 min)\n"
     ]
    },
    {
     "name": "stdout",
     "output_type": "stream",
     "text": [
      "Downloading data from https://ndownloader.figshare.com/files/6848877 ...\n"
     ]
    },
    {
     "name": "stderr",
     "output_type": "stream",
     "text": [
      " ...done. (1 seconds, 0 min)\n",
      "Extracting data from /Users/fenganyin/Desktop/realdata/data/COBRE/cobre/fd51da8a572a93da7d704e4e6d8380de/fmri_0040118.tsv.gz..... done.\n"
     ]
    },
    {
     "name": "stdout",
     "output_type": "stream",
     "text": [
      "Downloading data from https://ndownloader.figshare.com/files/6849048 ...\n"
     ]
    },
    {
     "name": "stderr",
     "output_type": "stream",
     "text": [
      "Downloaded 3891200 of 4732662 bytes (82.2%,    0.5s remaining) ...done. (5 seconds, 0 min)\n"
     ]
    },
    {
     "name": "stdout",
     "output_type": "stream",
     "text": [
      "Downloading data from https://ndownloader.figshare.com/files/6849051 ...\n"
     ]
    },
    {
     "name": "stderr",
     "output_type": "stream",
     "text": [
      " ...done. (1 seconds, 0 min)\n",
      "Extracting data from /Users/fenganyin/Desktop/realdata/data/COBRE/cobre/fc6b1216887a29eac3e7628292ff1923/fmri_0040147.tsv.gz..... done.\n"
     ]
    },
    {
     "name": "stdout",
     "output_type": "stream",
     "text": [
      "Downloading data from https://ndownloader.figshare.com/files/6848910 ...\n"
     ]
    },
    {
     "name": "stderr",
     "output_type": "stream",
     "text": [
      "Downloaded 630784 of 4511976 bytes (14.0%,    6.9s remaining) ...done. (4 seconds, 0 min)\n"
     ]
    },
    {
     "name": "stdout",
     "output_type": "stream",
     "text": [
      "Downloading data from https://ndownloader.figshare.com/files/6848913 ...\n"
     ]
    },
    {
     "name": "stderr",
     "output_type": "stream",
     "text": [
      " ...done. (1 seconds, 0 min)\n",
      "Extracting data from /Users/fenganyin/Desktop/realdata/data/COBRE/cobre/2219daeb72e9bcf0927820da7526c1d5/fmri_0040124.tsv.gz..... done.\n"
     ]
    },
    {
     "name": "stdout",
     "output_type": "stream",
     "text": [
      "Downloading data from https://ndownloader.figshare.com/files/6849012 ...\n"
     ]
    },
    {
     "name": "stderr",
     "output_type": "stream",
     "text": [
      "Downloaded 3948544 of 4507888 bytes (87.6%,    0.3s remaining) ...done. (5 seconds, 0 min)\n"
     ]
    },
    {
     "name": "stdout",
     "output_type": "stream",
     "text": [
      "Downloading data from https://ndownloader.figshare.com/files/6849015 ...\n"
     ]
    },
    {
     "name": "stderr",
     "output_type": "stream",
     "text": [
      " ...done. (1 seconds, 0 min)\n",
      "Extracting data from /Users/fenganyin/Desktop/realdata/data/COBRE/cobre/3051fbde06e5148f55676302829cf31d/fmri_0040141.tsv.gz..... done.\n"
     ]
    },
    {
     "name": "stdout",
     "output_type": "stream",
     "text": [
      "Downloading data from https://ndownloader.figshare.com/files/6848478 ...\n"
     ]
    },
    {
     "name": "stderr",
     "output_type": "stream",
     "text": [
      "Downloaded 3235840 of 4430995 bytes (73.0%,    0.8s remaining) ...done. (5 seconds, 0 min)\n"
     ]
    },
    {
     "name": "stdout",
     "output_type": "stream",
     "text": [
      "Downloading data from https://ndownloader.figshare.com/files/6848481 ...\n"
     ]
    },
    {
     "name": "stderr",
     "output_type": "stream",
     "text": [
      " ...done. (1 seconds, 0 min)\n",
      "Extracting data from /Users/fenganyin/Desktop/realdata/data/COBRE/cobre/7bdf63b853c93eaf64b8f09aa60f673d/fmri_0040050.tsv.gz..... done.\n"
     ]
    },
    {
     "name": "stdout",
     "output_type": "stream",
     "text": [
      "Downloading data from https://ndownloader.figshare.com/files/6848520 ...\n"
     ]
    },
    {
     "name": "stderr",
     "output_type": "stream",
     "text": [
      "Downloaded 630784 of 4363787 bytes (14.5%,    6.7s remaining) ...done. (4 seconds, 0 min)\n"
     ]
    },
    {
     "name": "stdout",
     "output_type": "stream",
     "text": [
      "Downloading data from https://ndownloader.figshare.com/files/6848523 ...\n"
     ]
    },
    {
     "name": "stderr",
     "output_type": "stream",
     "text": [
      " ...done. (1 seconds, 0 min)\n",
      "Extracting data from /Users/fenganyin/Desktop/realdata/data/COBRE/cobre/3e28795f5120be4512aa09e6a7cb98f3/fmri_0040057.tsv.gz..... done.\n"
     ]
    },
    {
     "name": "stdout",
     "output_type": "stream",
     "text": [
      "Downloading data from https://ndownloader.figshare.com/files/6848556 ...\n"
     ]
    },
    {
     "name": "stderr",
     "output_type": "stream",
     "text": [
      "Downloaded 622592 of 4656081 bytes (13.4%,    7.3s remaining) ...done. (4 seconds, 0 min)\n"
     ]
    },
    {
     "name": "stdout",
     "output_type": "stream",
     "text": [
      "Downloading data from https://ndownloader.figshare.com/files/6848559 ...\n"
     ]
    },
    {
     "name": "stderr",
     "output_type": "stream",
     "text": [
      " ...done. (1 seconds, 0 min)\n",
      "Extracting data from /Users/fenganyin/Desktop/realdata/data/COBRE/cobre/05458d776a3c6f8fbcfd8bae19ce6ce8/fmri_0040063.tsv.gz..... done.\n"
     ]
    },
    {
     "name": "stdout",
     "output_type": "stream",
     "text": [
      "Downloading data from https://ndownloader.figshare.com/files/6848436 ...\n"
     ]
    },
    {
     "name": "stderr",
     "output_type": "stream",
     "text": [
      "Downloaded 3391488 of 4780012 bytes (71.0%,    1.0s remaining) ...done. (5 seconds, 0 min)\n"
     ]
    },
    {
     "name": "stdout",
     "output_type": "stream",
     "text": [
      "Downloading data from https://ndownloader.figshare.com/files/6848439 ...\n"
     ]
    },
    {
     "name": "stderr",
     "output_type": "stream",
     "text": [
      " ...done. (1 seconds, 0 min)\n",
      "Extracting data from /Users/fenganyin/Desktop/realdata/data/COBRE/cobre/96489eca6fef4a2ed308a6e7b16c04bb/fmri_0040043.tsv.gz..... done.\n"
     ]
    },
    {
     "name": "stdout",
     "output_type": "stream",
     "text": [
      "Downloading data from https://ndownloader.figshare.com/files/6848982 ...\n"
     ]
    },
    {
     "name": "stderr",
     "output_type": "stream",
     "text": [
      "Downloaded 3850240 of 4263927 bytes (90.3%,    5.5s remaining) ...done. (54 seconds, 0 min)\n"
     ]
    },
    {
     "name": "stdout",
     "output_type": "stream",
     "text": [
      "Downloading data from https://ndownloader.figshare.com/files/6848985 ...\n"
     ]
    },
    {
     "name": "stderr",
     "output_type": "stream",
     "text": [
      " ...done. (1 seconds, 0 min)\n",
      "Extracting data from /Users/fenganyin/Desktop/realdata/data/COBRE/cobre/d7267ae2d66935a22adc343a26562d59/fmri_0040136.tsv.gz..... done.\n"
     ]
    },
    {
     "name": "stdout",
     "output_type": "stream",
     "text": [
      "Downloading data from https://ndownloader.figshare.com/files/6849042 ...\n"
     ]
    },
    {
     "name": "stderr",
     "output_type": "stream",
     "text": [
      "Downloaded 4489216 of 4634643 bytes (96.9%,    0.1s remaining) ...done. (4 seconds, 0 min)\n"
     ]
    },
    {
     "name": "stdout",
     "output_type": "stream",
     "text": [
      "Downloading data from https://ndownloader.figshare.com/files/6849045 ...\n"
     ]
    },
    {
     "name": "stderr",
     "output_type": "stream",
     "text": [
      " ...done. (1 seconds, 0 min)\n",
      "Extracting data from /Users/fenganyin/Desktop/realdata/data/COBRE/cobre/3281888247af6caa04615124e14c654e/fmri_0040146.tsv.gz..... done.\n"
     ]
    },
    {
     "name": "stdout",
     "output_type": "stream",
     "text": [
      "Downloading data from https://ndownloader.figshare.com/files/6848736 ...\n"
     ]
    },
    {
     "name": "stderr",
     "output_type": "stream",
     "text": [
      "Downloaded 3940352 of 4573061 bytes (86.2%,    0.3s remaining) ...done. (4 seconds, 0 min)\n"
     ]
    },
    {
     "name": "stdout",
     "output_type": "stream",
     "text": [
      "Downloading data from https://ndownloader.figshare.com/files/6848739 ...\n"
     ]
    },
    {
     "name": "stderr",
     "output_type": "stream",
     "text": [
      " ...done. (1 seconds, 0 min)\n",
      "Extracting data from /Users/fenganyin/Desktop/realdata/data/COBRE/cobre/a4080a2306a6a90fceda43ba1e3e9a53/fmri_0040095.tsv.gz..... done.\n"
     ]
    },
    {
     "name": "stdout",
     "output_type": "stream",
     "text": [
      "Downloading data from https://ndownloader.figshare.com/files/6848778 ...\n"
     ]
    },
    {
     "name": "stderr",
     "output_type": "stream",
     "text": [
      "Downloaded 3940352 of 4499658 bytes (87.6%,    0.3s remaining) ...done. (5 seconds, 0 min)\n"
     ]
    },
    {
     "name": "stdout",
     "output_type": "stream",
     "text": [
      "Downloading data from https://ndownloader.figshare.com/files/6848781 ...\n"
     ]
    },
    {
     "name": "stderr",
     "output_type": "stream",
     "text": [
      " ...done. (1 seconds, 0 min)\n",
      "Extracting data from /Users/fenganyin/Desktop/realdata/data/COBRE/cobre/1a9608467cb5e039612d04d3a262a8da/fmri_0040102.tsv.gz..... done.\n"
     ]
    },
    {
     "name": "stdout",
     "output_type": "stream",
     "text": [
      "Downloading data from https://ndownloader.figshare.com/files/6848322 ...\n"
     ]
    },
    {
     "name": "stderr",
     "output_type": "stream",
     "text": [
      "Downloaded 581632 of 4524258 bytes (12.9%,    7.4s remaining) ...done. (4 seconds, 0 min)\n"
     ]
    },
    {
     "name": "stdout",
     "output_type": "stream",
     "text": [
      "Downloading data from https://ndownloader.figshare.com/files/6848325 ...\n"
     ]
    },
    {
     "name": "stderr",
     "output_type": "stream",
     "text": [
      " ...done. (1 seconds, 0 min)\n",
      "Extracting data from /Users/fenganyin/Desktop/realdata/data/COBRE/cobre/4de055e8bb1c5c1bdc4c3354f4776db5/fmri_0040024.tsv.gz..... done.\n"
     ]
    },
    {
     "name": "stdout",
     "output_type": "stream",
     "text": [
      "Downloading data from https://ndownloader.figshare.com/files/6848970 ...\n"
     ]
    },
    {
     "name": "stderr",
     "output_type": "stream",
     "text": [
      "Downloaded 630784 of 4461010 bytes (14.1%,    6.8s remaining) ...done. (4 seconds, 0 min)\n"
     ]
    },
    {
     "name": "stdout",
     "output_type": "stream",
     "text": [
      "Downloading data from https://ndownloader.figshare.com/files/6848973 ...\n"
     ]
    },
    {
     "name": "stderr",
     "output_type": "stream",
     "text": [
      " ...done. (1 seconds, 0 min)\n",
      "Extracting data from /Users/fenganyin/Desktop/realdata/data/COBRE/cobre/ab2a9793115c71d7ce094faac266ed93/fmri_0040134.tsv.gz..... done.\n"
     ]
    },
    {
     "name": "stdout",
     "output_type": "stream",
     "text": [
      "Downloading data from https://ndownloader.figshare.com/files/6848358 ...\n"
     ]
    },
    {
     "name": "stderr",
     "output_type": "stream",
     "text": [
      "Downloaded 2768896 of 4448033 bytes (62.2%,    1.4s remaining) ...done. (5 seconds, 0 min)\n"
     ]
    },
    {
     "name": "stdout",
     "output_type": "stream",
     "text": [
      "Downloading data from https://ndownloader.figshare.com/files/6848361 ...\n"
     ]
    },
    {
     "name": "stderr",
     "output_type": "stream",
     "text": [
      " ...done. (1 seconds, 0 min)\n",
      "Extracting data from /Users/fenganyin/Desktop/realdata/data/COBRE/cobre/76454a9c807ed8aaa0ea18e4e0d58e0d/fmri_0040030.tsv.gz..... done.\n"
     ]
    },
    {
     "name": "stdout",
     "output_type": "stream",
     "text": [
      "Downloading data from https://ndownloader.figshare.com/files/6848364 ...\n"
     ]
    },
    {
     "name": "stderr",
     "output_type": "stream",
     "text": [
      "Downloaded 458752 of 4527341 bytes (10.1%,    9.9s remaining) ...done. (4 seconds, 0 min)\n"
     ]
    },
    {
     "name": "stdout",
     "output_type": "stream",
     "text": [
      "Downloading data from https://ndownloader.figshare.com/files/6848367 ...\n"
     ]
    },
    {
     "name": "stderr",
     "output_type": "stream",
     "text": [
      " ...done. (1 seconds, 0 min)\n",
      "Extracting data from /Users/fenganyin/Desktop/realdata/data/COBRE/cobre/7802b7540d4af1f2c38f670d851ac6bf/fmri_0040031.tsv.gz..... done.\n"
     ]
    },
    {
     "name": "stdout",
     "output_type": "stream",
     "text": [
      "Downloading data from https://ndownloader.figshare.com/files/6848292 ...\n"
     ]
    },
    {
     "name": "stderr",
     "output_type": "stream",
     "text": [
      "Downloaded 3194880 of 4715263 bytes (67.8%,    1.1s remaining) ...done. (5 seconds, 0 min)\n"
     ]
    },
    {
     "name": "stdout",
     "output_type": "stream",
     "text": [
      "Downloading data from https://ndownloader.figshare.com/files/6848295 ...\n"
     ]
    },
    {
     "name": "stderr",
     "output_type": "stream",
     "text": [
      " ...done. (1 seconds, 0 min)\n",
      "Extracting data from /Users/fenganyin/Desktop/realdata/data/COBRE/cobre/b8086ca73891f2a3c7860a151bf7fc6d/fmri_0040019.tsv.gz..... done.\n"
     ]
    },
    {
     "name": "stdout",
     "output_type": "stream",
     "text": [
      "Downloading data from https://ndownloader.figshare.com/files/6848334 ...\n"
     ]
    },
    {
     "name": "stderr",
     "output_type": "stream",
     "text": [
      "Downloaded 614400 of 4503502 bytes (13.6%,    7.1s remaining) ...done. (4 seconds, 0 min)\n"
     ]
    },
    {
     "name": "stdout",
     "output_type": "stream",
     "text": [
      "Downloading data from https://ndownloader.figshare.com/files/6848337 ...\n"
     ]
    },
    {
     "name": "stderr",
     "output_type": "stream",
     "text": [
      " ...done. (1 seconds, 0 min)\n",
      "Extracting data from /Users/fenganyin/Desktop/realdata/data/COBRE/cobre/5595cf821720fd513e28f773a0326b81/fmri_0040026.tsv.gz..... done.\n"
     ]
    },
    {
     "name": "stdout",
     "output_type": "stream",
     "text": [
      "Downloading data from https://ndownloader.figshare.com/files/6848880 ...\n"
     ]
    },
    {
     "name": "stderr",
     "output_type": "stream",
     "text": [
      "Downloaded 622592 of 4373892 bytes (14.2%,    6.8s remaining) ...done. (4 seconds, 0 min)\n"
     ]
    },
    {
     "name": "stdout",
     "output_type": "stream",
     "text": [
      "Downloading data from https://ndownloader.figshare.com/files/6848883 ...\n"
     ]
    },
    {
     "name": "stderr",
     "output_type": "stream",
     "text": [
      " ...done. (1 seconds, 0 min)\n",
      "Extracting data from /Users/fenganyin/Desktop/realdata/data/COBRE/cobre/65680433eec49f74a40b9c90b635a886/fmri_0040119.tsv.gz..... done.\n"
     ]
    },
    {
     "name": "stdout",
     "output_type": "stream",
     "text": [
      "Downloading data from https://ndownloader.figshare.com/files/6848286 ...\n"
     ]
    },
    {
     "name": "stderr",
     "output_type": "stream",
     "text": [
      "Downloaded 4030464 of 4562442 bytes (88.3%,    0.3s remaining) ...done. (5 seconds, 0 min)\n"
     ]
    },
    {
     "name": "stdout",
     "output_type": "stream",
     "text": [
      "Downloading data from https://ndownloader.figshare.com/files/6848289 ...\n"
     ]
    },
    {
     "name": "stderr",
     "output_type": "stream",
     "text": [
      " ...done. (1 seconds, 0 min)\n",
      "Extracting data from /Users/fenganyin/Desktop/realdata/data/COBRE/cobre/15fa0b569d31f9615f4d6cae22c52117/fmri_0040018.tsv.gz..... done.\n"
     ]
    },
    {
     "name": "stdout",
     "output_type": "stream",
     "text": [
      "Downloading data from https://ndownloader.figshare.com/files/6848862 ...\n"
     ]
    },
    {
     "name": "stderr",
     "output_type": "stream",
     "text": [
      "Downloaded 3981312 of 4586293 bytes (86.8%,    0.3s remaining) ...done. (5 seconds, 0 min)\n"
     ]
    },
    {
     "name": "stdout",
     "output_type": "stream",
     "text": [
      "Downloading data from https://ndownloader.figshare.com/files/6848865 ...\n"
     ]
    },
    {
     "name": "stderr",
     "output_type": "stream",
     "text": [
      " ...done. (1 seconds, 0 min)\n",
      "Extracting data from /Users/fenganyin/Desktop/realdata/data/COBRE/cobre/3f32a4ac9d612349bbbb73c3ee75c107/fmri_0040116.tsv.gz..... done.\n"
     ]
    },
    {
     "name": "stdout",
     "output_type": "stream",
     "text": [
      "Downloading data from https://ndownloader.figshare.com/files/6848946 ...\n"
     ]
    },
    {
     "name": "stderr",
     "output_type": "stream",
     "text": [
      "Downloaded 2564096 of 4515203 bytes (56.8%,    1.7s remaining) ...done. (5 seconds, 0 min)\n"
     ]
    },
    {
     "name": "stdout",
     "output_type": "stream",
     "text": [
      "Downloading data from https://ndownloader.figshare.com/files/6848949 ...\n"
     ]
    },
    {
     "name": "stderr",
     "output_type": "stream",
     "text": [
      " ...done. (1 seconds, 0 min)\n",
      "Extracting data from /Users/fenganyin/Desktop/realdata/data/COBRE/cobre/c9bee9f65ea2449097832fcf5a19bb97/fmri_0040130.tsv.gz..... done.\n"
     ]
    },
    {
     "name": "stdout",
     "output_type": "stream",
     "text": [
      "Downloading data from https://ndownloader.figshare.com/files/6848952 ...\n"
     ]
    },
    {
     "name": "stderr",
     "output_type": "stream",
     "text": [
      "Downloaded 3670016 of 4460774 bytes (82.3%,    0.5s remaining) ...done. (4 seconds, 0 min)\n"
     ]
    },
    {
     "name": "stdout",
     "output_type": "stream",
     "text": [
      "Downloading data from https://ndownloader.figshare.com/files/6848955 ...\n"
     ]
    },
    {
     "name": "stderr",
     "output_type": "stream",
     "text": [
      " ...done. (1 seconds, 0 min)\n",
      "Extracting data from /Users/fenganyin/Desktop/realdata/data/COBRE/cobre/684382e28c0fbbe89d31718317e2734b/fmri_0040131.tsv.gz..... done.\n"
     ]
    },
    {
     "name": "stdout",
     "output_type": "stream",
     "text": [
      "Downloading data from https://ndownloader.figshare.com/files/6848316 ...\n"
     ]
    },
    {
     "name": "stderr",
     "output_type": "stream",
     "text": [
      "Downloaded 3866624 of 4528051 bytes (85.4%,    0.4s remaining) ...done. (4 seconds, 0 min)\n"
     ]
    },
    {
     "name": "stdout",
     "output_type": "stream",
     "text": [
      "Downloading data from https://ndownloader.figshare.com/files/6848319 ...\n"
     ]
    },
    {
     "name": "stderr",
     "output_type": "stream",
     "text": [
      " ...done. (0 seconds, 0 min)\n",
      "Extracting data from /Users/fenganyin/Desktop/realdata/data/COBRE/cobre/ac1cdf7fb3b9387d25a908df52ad1d66/fmri_0040023.tsv.gz..... done.\n"
     ]
    },
    {
     "name": "stdout",
     "output_type": "stream",
     "text": [
      "Downloading data from https://ndownloader.figshare.com/files/6848340 ...\n"
     ]
    },
    {
     "name": "stderr",
     "output_type": "stream",
     "text": [
      "Downloaded 630784 of 4388669 bytes (14.4%,    6.6s remaining) ...done. (4 seconds, 0 min)\n"
     ]
    },
    {
     "name": "stdout",
     "output_type": "stream",
     "text": [
      "Downloading data from https://ndownloader.figshare.com/files/6848343 ...\n"
     ]
    },
    {
     "name": "stderr",
     "output_type": "stream",
     "text": [
      " ...done. (1 seconds, 0 min)\n",
      "Extracting data from /Users/fenganyin/Desktop/realdata/data/COBRE/cobre/5ef41fda8564bf964332d3bb5c6f178f/fmri_0040027.tsv.gz..... done.\n"
     ]
    },
    {
     "name": "stdout",
     "output_type": "stream",
     "text": [
      "Downloading data from https://ndownloader.figshare.com/files/6848904 ...\n"
     ]
    },
    {
     "name": "stderr",
     "output_type": "stream",
     "text": [
      "Downloaded 4087808 of 4517561 bytes (90.5%,    0.2s remaining) ...done. (4 seconds, 0 min)\n"
     ]
    },
    {
     "name": "stdout",
     "output_type": "stream",
     "text": [
      "Downloading data from https://ndownloader.figshare.com/files/6848907 ...\n"
     ]
    },
    {
     "name": "stderr",
     "output_type": "stream",
     "text": [
      " ...done. (1 seconds, 0 min)\n",
      "Extracting data from /Users/fenganyin/Desktop/realdata/data/COBRE/cobre/b7fc4019d9eabc78bb1a92a55f55d262/fmri_0040123.tsv.gz..... done.\n"
     ]
    },
    {
     "name": "stdout",
     "output_type": "stream",
     "text": [
      "Downloading data from https://ndownloader.figshare.com/files/6848916 ...\n"
     ]
    },
    {
     "name": "stderr",
     "output_type": "stream",
     "text": [
      "Downloaded 630784 of 4432653 bytes (14.2%,    6.8s remaining) ...done. (4 seconds, 0 min)\n"
     ]
    },
    {
     "name": "stdout",
     "output_type": "stream",
     "text": [
      "Downloading data from https://ndownloader.figshare.com/files/6848919 ...\n"
     ]
    },
    {
     "name": "stderr",
     "output_type": "stream",
     "text": [
      " ...done. (1 seconds, 0 min)\n",
      "Extracting data from /Users/fenganyin/Desktop/realdata/data/COBRE/cobre/a3b4301367112991b3d6ef706de2a9ef/fmri_0040125.tsv.gz..... done.\n"
     ]
    },
    {
     "name": "stdout",
     "output_type": "stream",
     "text": [
      "Downloading data from https://ndownloader.figshare.com/files/6848550 ...\n"
     ]
    },
    {
     "name": "stderr",
     "output_type": "stream",
     "text": [
      "Downloaded 589824 of 4270467 bytes (13.8%,    7.0s remaining) ...done. (4 seconds, 0 min)\n"
     ]
    },
    {
     "name": "stdout",
     "output_type": "stream",
     "text": [
      "Downloading data from https://ndownloader.figshare.com/files/6848553 ...\n"
     ]
    },
    {
     "name": "stderr",
     "output_type": "stream",
     "text": [
      " ...done. (1 seconds, 0 min)\n",
      "Extracting data from /Users/fenganyin/Desktop/realdata/data/COBRE/cobre/48cef84d830ccc4b708e606c20c56761/fmri_0040062.tsv.gz..... done.\n"
     ]
    },
    {
     "name": "stdout",
     "output_type": "stream",
     "text": [
      "Downloading data from https://ndownloader.figshare.com/files/6848502 ...\n"
     ]
    },
    {
     "name": "stderr",
     "output_type": "stream",
     "text": [
      "Downloaded 3014656 of 4488285 bytes (67.2%,    1.1s remaining) ...done. (5 seconds, 0 min)\n"
     ]
    },
    {
     "name": "stdout",
     "output_type": "stream",
     "text": [
      "Downloading data from https://ndownloader.figshare.com/files/6848505 ...\n"
     ]
    },
    {
     "name": "stderr",
     "output_type": "stream",
     "text": [
      " ...done. (1 seconds, 0 min)\n",
      "Extracting data from /Users/fenganyin/Desktop/realdata/data/COBRE/cobre/80fa1b55c99e04d0239326e471f79878/fmri_0040054.tsv.gz..... done.\n"
     ]
    },
    {
     "name": "stdout",
     "output_type": "stream",
     "text": [
      "Downloading data from https://ndownloader.figshare.com/files/6848628 ...\n"
     ]
    },
    {
     "name": "stderr",
     "output_type": "stream",
     "text": [
      "Downloaded 622592 of 4500368 bytes (13.8%,    7.0s remaining) ...done. (4 seconds, 0 min)\n"
     ]
    },
    {
     "name": "stdout",
     "output_type": "stream",
     "text": [
      "Downloading data from https://ndownloader.figshare.com/files/6848631 ...\n"
     ]
    },
    {
     "name": "stderr",
     "output_type": "stream",
     "text": [
      " ...done. (1 seconds, 0 min)\n",
      "Extracting data from /Users/fenganyin/Desktop/realdata/data/COBRE/cobre/55a4b038c00fd66969b6200a66bdf8bc/fmri_0040076.tsv.gz..... done.\n"
     ]
    },
    {
     "name": "stdout",
     "output_type": "stream",
     "text": [
      "Downloading data from https://ndownloader.figshare.com/files/6848406 ...\n"
     ]
    },
    {
     "name": "stderr",
     "output_type": "stream",
     "text": [
      "Downloaded 622592 of 4490986 bytes (13.9%,    6.8s remaining) ...done. (4 seconds, 0 min)\n"
     ]
    },
    {
     "name": "stdout",
     "output_type": "stream",
     "text": [
      "Downloading data from https://ndownloader.figshare.com/files/6848409 ...\n"
     ]
    },
    {
     "name": "stderr",
     "output_type": "stream",
     "text": [
      " ...done. (1 seconds, 0 min)\n",
      "Extracting data from /Users/fenganyin/Desktop/realdata/data/COBRE/cobre/872bb5f066fc85b420bd4ee19708cce2/fmri_0040038.tsv.gz..... done.\n"
     ]
    },
    {
     "name": "stdout",
     "output_type": "stream",
     "text": [
      "Downloading data from https://ndownloader.figshare.com/files/6849006 ...\n"
     ]
    },
    {
     "name": "stderr",
     "output_type": "stream",
     "text": [
      "Downloaded 3153920 of 4469398 bytes (70.6%,    0.9s remaining) ...done. (5 seconds, 0 min)\n"
     ]
    },
    {
     "name": "stdout",
     "output_type": "stream",
     "text": [
      "Downloading data from https://ndownloader.figshare.com/files/6849009 ...\n"
     ]
    },
    {
     "name": "stderr",
     "output_type": "stream",
     "text": [
      " ...done. (1 seconds, 0 min)\n",
      "Extracting data from /Users/fenganyin/Desktop/realdata/data/COBRE/cobre/4f6b1d4e4494ff5a65b79a421cce5cc2/fmri_0040140.tsv.gz..... done.\n"
     ]
    },
    {
     "name": "stdout",
     "output_type": "stream",
     "text": [
      "Downloading data from https://ndownloader.figshare.com/files/6849030 ...\n"
     ]
    },
    {
     "name": "stderr",
     "output_type": "stream",
     "text": [
      "Downloaded 3735552 of 4570622 bytes (81.7%,    0.5s remaining) ...done. (5 seconds, 0 min)\n"
     ]
    },
    {
     "name": "stdout",
     "output_type": "stream",
     "text": [
      "Downloading data from https://ndownloader.figshare.com/files/6849033 ...\n"
     ]
    },
    {
     "name": "stderr",
     "output_type": "stream",
     "text": [
      " ...done. (1 seconds, 0 min)\n",
      "Extracting data from /Users/fenganyin/Desktop/realdata/data/COBRE/cobre/72e1972585f10b4fbfb3fea4dd65c708/fmri_0040144.tsv.gz..... done.\n"
     ]
    },
    {
     "name": "stdout",
     "output_type": "stream",
     "text": [
      "Downloading data from https://ndownloader.figshare.com/files/6848592 ...\n"
     ]
    },
    {
     "name": "stderr",
     "output_type": "stream",
     "text": [
      "Downloaded 581632 of 4616872 bytes (12.6%,    7.3s remaining) ...done. (4 seconds, 0 min)\n"
     ]
    },
    {
     "name": "stdout",
     "output_type": "stream",
     "text": [
      "Downloading data from https://ndownloader.figshare.com/files/6848595 ...\n"
     ]
    },
    {
     "name": "stderr",
     "output_type": "stream",
     "text": [
      " ...done. (1 seconds, 0 min)\n",
      "Extracting data from /Users/fenganyin/Desktop/realdata/data/COBRE/cobre/be47f798e4acd10ae7b242401b2f7a63/fmri_0040069.tsv.gz..... done.\n"
     ]
    },
    {
     "name": "stdout",
     "output_type": "stream",
     "text": [
      "Downloading data from https://ndownloader.figshare.com/files/6848832 ...\n"
     ]
    },
    {
     "name": "stderr",
     "output_type": "stream",
     "text": [
      "Downloaded 3620864 of 4503940 bytes (80.4%,    0.6s remaining) ...done. (5 seconds, 0 min)\n"
     ]
    },
    {
     "name": "stdout",
     "output_type": "stream",
     "text": [
      "Downloading data from https://ndownloader.figshare.com/files/6848835 ...\n"
     ]
    },
    {
     "name": "stderr",
     "output_type": "stream",
     "text": [
      " ...done. (1 seconds, 0 min)\n",
      "Extracting data from /Users/fenganyin/Desktop/realdata/data/COBRE/cobre/c5d2073d953d5ce3aa84b6344c27ad31/fmri_0040111.tsv.gz..... done.\n"
     ]
    },
    {
     "name": "stdout",
     "output_type": "stream",
     "text": [
      "Downloading data from https://ndownloader.figshare.com/files/6848574 ...\n"
     ]
    },
    {
     "name": "stderr",
     "output_type": "stream",
     "text": [
      "Downloaded 2441216 of 4630617 bytes (52.7%,    2.0s remaining) ...done. (5 seconds, 0 min)\n"
     ]
    },
    {
     "name": "stdout",
     "output_type": "stream",
     "text": [
      "Downloading data from https://ndownloader.figshare.com/files/6848577 ...\n"
     ]
    },
    {
     "name": "stderr",
     "output_type": "stream",
     "text": [
      " ...done. (1 seconds, 0 min)\n",
      "Extracting data from /Users/fenganyin/Desktop/realdata/data/COBRE/cobre/b17b358bde184b3622f63cbda9c959a3/fmri_0040066.tsv.gz..... done.\n"
     ]
    },
    {
     "name": "stdout",
     "output_type": "stream",
     "text": [
      "Downloading data from https://ndownloader.figshare.com/files/6848682 ...\n"
     ]
    },
    {
     "name": "stderr",
     "output_type": "stream",
     "text": [
      "Downloaded 3268608 of 4638932 bytes (70.5%,    1.4s remaining) ...done. (6 seconds, 0 min)\n"
     ]
    },
    {
     "name": "stdout",
     "output_type": "stream",
     "text": [
      "Downloading data from https://ndownloader.figshare.com/files/6848685 ...\n"
     ]
    },
    {
     "name": "stderr",
     "output_type": "stream",
     "text": [
      " ...done. (1 seconds, 0 min)\n",
      "Extracting data from /Users/fenganyin/Desktop/realdata/data/COBRE/cobre/46a0292e04917d03a6ce9f981944d6fa/fmri_0040086.tsv.gz..... done.\n"
     ]
    },
    {
     "name": "stdout",
     "output_type": "stream",
     "text": [
      "Downloading data from https://ndownloader.figshare.com/files/6849054 ...\n"
     ]
    },
    {
     "name": "stderr",
     "output_type": "stream",
     "text": [
      " ...done. (2 seconds, 0 min)\n"
     ]
    },
    {
     "name": "stdout",
     "output_type": "stream",
     "text": [
      "Downloading data from https://ndownloader.figshare.com/files/6849057 ...\n"
     ]
    },
    {
     "name": "stderr",
     "output_type": "stream",
     "text": [
      " ...done. (0 seconds, 0 min)\n"
     ]
    }
   ],
   "source": [
    "data = datasets.fetch_cobre(n_subjects = 146, data_dir=os.getcwd() + '/data/COBRE')\n",
    "fmri_filenames = data.func\n",
    "confounders_filenames = data.confounds"
   ]
  },
  {
   "cell_type": "code",
   "execution_count": 18,
   "metadata": {},
   "outputs": [
    {
     "name": "stdout",
     "output_type": "stream",
     "text": [
      "['/Users/fenganyin/Desktop/realdata/data/COBRE/cobre/fmri_0040046.tsv', '/Users/fenganyin/Desktop/realdata/data/COBRE/cobre/fmri_0040002.tsv', '/Users/fenganyin/Desktop/realdata/data/COBRE/cobre/fmri_0040117.tsv', '/Users/fenganyin/Desktop/realdata/data/COBRE/cobre/fmri_0040145.tsv', '/Users/fenganyin/Desktop/realdata/data/COBRE/cobre/fmri_0040000.tsv', '/Users/fenganyin/Desktop/realdata/data/COBRE/cobre/fmri_0040029.tsv', '/Users/fenganyin/Desktop/realdata/data/COBRE/cobre/fmri_0040133.tsv', '/Users/fenganyin/Desktop/realdata/data/COBRE/cobre/fmri_0040021.tsv', '/Users/fenganyin/Desktop/realdata/data/COBRE/cobre/fmri_0040137.tsv', '/Users/fenganyin/Desktop/realdata/data/COBRE/cobre/fmri_0040085.tsv', '/Users/fenganyin/Desktop/realdata/data/COBRE/cobre/fmri_0040096.tsv', '/Users/fenganyin/Desktop/realdata/data/COBRE/cobre/fmri_0040122.tsv', '/Users/fenganyin/Desktop/realdata/data/COBRE/cobre/fmri_0040022.tsv', '/Users/fenganyin/Desktop/realdata/data/COBRE/cobre/fmri_0040073.tsv', '/Users/fenganyin/Desktop/realdata/data/COBRE/cobre/fmri_0040142.tsv', '/Users/fenganyin/Desktop/realdata/data/COBRE/cobre/fmri_0040037.tsv', '/Users/fenganyin/Desktop/realdata/data/COBRE/cobre/fmri_0040059.tsv', '/Users/fenganyin/Desktop/realdata/data/COBRE/cobre/fmri_0040072.tsv', '/Users/fenganyin/Desktop/realdata/data/COBRE/cobre/fmri_0040079.tsv', '/Users/fenganyin/Desktop/realdata/data/COBRE/cobre/fmri_0040080.tsv', '/Users/fenganyin/Desktop/realdata/data/COBRE/cobre/fmri_0040001.tsv', '/Users/fenganyin/Desktop/realdata/data/COBRE/cobre/fmri_0040003.tsv', '/Users/fenganyin/Desktop/realdata/data/COBRE/cobre/fmri_0040008.tsv', '/Users/fenganyin/Desktop/realdata/data/COBRE/cobre/fmri_0040011.tsv', '/Users/fenganyin/Desktop/realdata/data/COBRE/cobre/fmri_0040077.tsv', '/Users/fenganyin/Desktop/realdata/data/COBRE/cobre/fmri_0040034.tsv', '/Users/fenganyin/Desktop/realdata/data/COBRE/cobre/fmri_0040108.tsv', '/Users/fenganyin/Desktop/realdata/data/COBRE/cobre/fmri_0040009.tsv', '/Users/fenganyin/Desktop/realdata/data/COBRE/cobre/fmri_0040032.tsv', '/Users/fenganyin/Desktop/realdata/data/COBRE/cobre/fmri_0040012.tsv', '/Users/fenganyin/Desktop/realdata/data/COBRE/cobre/fmri_0040025.tsv', '/Users/fenganyin/Desktop/realdata/data/COBRE/cobre/fmri_0040088.tsv', '/Users/fenganyin/Desktop/realdata/data/COBRE/cobre/fmri_0040109.tsv', '/Users/fenganyin/Desktop/realdata/data/COBRE/cobre/fmri_0040098.tsv', '/Users/fenganyin/Desktop/realdata/data/COBRE/cobre/fmri_0040100.tsv', '/Users/fenganyin/Desktop/realdata/data/COBRE/cobre/fmri_0040047.tsv', '/Users/fenganyin/Desktop/realdata/data/COBRE/cobre/fmri_0040099.tsv', '/Users/fenganyin/Desktop/realdata/data/COBRE/cobre/fmri_0040042.tsv', '/Users/fenganyin/Desktop/realdata/data/COBRE/cobre/fmri_0040075.tsv', '/Users/fenganyin/Desktop/realdata/data/COBRE/cobre/fmri_0040103.tsv', '/Users/fenganyin/Desktop/realdata/data/COBRE/cobre/fmri_0040060.tsv', '/Users/fenganyin/Desktop/realdata/data/COBRE/cobre/fmri_0040126.tsv', '/Users/fenganyin/Desktop/realdata/data/COBRE/cobre/fmri_0040112.tsv', '/Users/fenganyin/Desktop/realdata/data/COBRE/cobre/fmri_0040081.tsv', '/Users/fenganyin/Desktop/realdata/data/COBRE/cobre/fmri_0040110.tsv', '/Users/fenganyin/Desktop/realdata/data/COBRE/cobre/fmri_0040049.tsv', '/Users/fenganyin/Desktop/realdata/data/COBRE/cobre/fmri_0040106.tsv', '/Users/fenganyin/Desktop/realdata/data/COBRE/cobre/fmri_0040015.tsv', '/Users/fenganyin/Desktop/realdata/data/COBRE/cobre/fmri_0040005.tsv', '/Users/fenganyin/Desktop/realdata/data/COBRE/cobre/fmri_0040044.tsv', '/Users/fenganyin/Desktop/realdata/data/COBRE/cobre/fmri_0040016.tsv', '/Users/fenganyin/Desktop/realdata/data/COBRE/cobre/fmri_0040092.tsv', '/Users/fenganyin/Desktop/realdata/data/COBRE/cobre/fmri_0040082.tsv', '/Users/fenganyin/Desktop/realdata/data/COBRE/cobre/fmri_0040101.tsv', '/Users/fenganyin/Desktop/realdata/data/COBRE/cobre/fmri_0040132.tsv', '/Users/fenganyin/Desktop/realdata/data/COBRE/cobre/fmri_0040039.tsv', '/Users/fenganyin/Desktop/realdata/data/COBRE/cobre/fmri_0040071.tsv', '/Users/fenganyin/Desktop/realdata/data/COBRE/cobre/fmri_0040010.tsv', '/Users/fenganyin/Desktop/realdata/data/COBRE/cobre/fmri_0040097.tsv', '/Users/fenganyin/Desktop/realdata/data/COBRE/cobre/fmri_0040105.tsv', '/Users/fenganyin/Desktop/realdata/data/COBRE/cobre/fmri_0040143.tsv', '/Users/fenganyin/Desktop/realdata/data/COBRE/cobre/fmri_0040006.tsv', '/Users/fenganyin/Desktop/realdata/data/COBRE/cobre/fmri_0040004.tsv', '/Users/fenganyin/Desktop/realdata/data/COBRE/cobre/fmri_0040064.tsv', '/Users/fenganyin/Desktop/realdata/data/COBRE/cobre/fmri_0040078.tsv', '/Users/fenganyin/Desktop/realdata/data/COBRE/cobre/fmri_0040094.tsv', '/Users/fenganyin/Desktop/realdata/data/COBRE/cobre/fmri_0040084.tsv', '/Users/fenganyin/Desktop/realdata/data/COBRE/cobre/fmri_0040041.tsv', '/Users/fenganyin/Desktop/realdata/data/COBRE/cobre/fmri_0040089.tsv', '/Users/fenganyin/Desktop/realdata/data/COBRE/cobre/fmri_0040040.tsv', '/Users/fenganyin/Desktop/realdata/data/COBRE/cobre/fmri_0040028.tsv', '/Users/fenganyin/Desktop/realdata/data/COBRE/cobre/fmri_0040007.tsv', '/Users/fenganyin/Desktop/realdata/data/COBRE/cobre/fmri_0040061.tsv', '/Users/fenganyin/Desktop/realdata/data/COBRE/cobre/fmri_0040090.tsv', '/Users/fenganyin/Desktop/realdata/data/COBRE/cobre/fmri_0040113.tsv', '/Users/fenganyin/Desktop/realdata/data/COBRE/cobre/fmri_0040121.tsv', '/Users/fenganyin/Desktop/realdata/data/COBRE/cobre/fmri_0040020.tsv', '/Users/fenganyin/Desktop/realdata/data/COBRE/cobre/fmri_0040052.tsv', '/Users/fenganyin/Desktop/realdata/data/COBRE/cobre/fmri_0040065.tsv', '/Users/fenganyin/Desktop/realdata/data/COBRE/cobre/fmri_0040128.tsv', '/Users/fenganyin/Desktop/realdata/data/COBRE/cobre/fmri_0040051.tsv', '/Users/fenganyin/Desktop/realdata/data/COBRE/cobre/fmri_0040114.tsv', '/Users/fenganyin/Desktop/realdata/data/COBRE/cobre/fmri_0040129.tsv', '/Users/fenganyin/Desktop/realdata/data/COBRE/cobre/fmri_0040053.tsv', '/Users/fenganyin/Desktop/realdata/data/COBRE/cobre/fmri_0040068.tsv', '/Users/fenganyin/Desktop/realdata/data/COBRE/cobre/fmri_0040091.tsv', '/Users/fenganyin/Desktop/realdata/data/COBRE/cobre/fmri_0040135.tsv', '/Users/fenganyin/Desktop/realdata/data/COBRE/cobre/fmri_0040093.tsv', '/Users/fenganyin/Desktop/realdata/data/COBRE/cobre/fmri_0040036.tsv', '/Users/fenganyin/Desktop/realdata/data/COBRE/cobre/fmri_0040104.tsv', '/Users/fenganyin/Desktop/realdata/data/COBRE/cobre/fmri_0040120.tsv', '/Users/fenganyin/Desktop/realdata/data/COBRE/cobre/fmri_0040127.tsv', '/Users/fenganyin/Desktop/realdata/data/COBRE/cobre/fmri_0040056.tsv', '/Users/fenganyin/Desktop/realdata/data/COBRE/cobre/fmri_0040058.tsv', '/Users/fenganyin/Desktop/realdata/data/COBRE/cobre/fmri_0040087.tsv', '/Users/fenganyin/Desktop/realdata/data/COBRE/cobre/fmri_0040115.tsv', '/Users/fenganyin/Desktop/realdata/data/COBRE/cobre/fmri_0040138.tsv', '/Users/fenganyin/Desktop/realdata/data/COBRE/cobre/fmri_0040139.tsv', '/Users/fenganyin/Desktop/realdata/data/COBRE/cobre/fmri_0040017.tsv', '/Users/fenganyin/Desktop/realdata/data/COBRE/cobre/fmri_0040035.tsv', '/Users/fenganyin/Desktop/realdata/data/COBRE/cobre/fmri_0040045.tsv', '/Users/fenganyin/Desktop/realdata/data/COBRE/cobre/fmri_0040055.tsv', '/Users/fenganyin/Desktop/realdata/data/COBRE/cobre/fmri_0040014.tsv', '/Users/fenganyin/Desktop/realdata/data/COBRE/cobre/fmri_0040033.tsv', '/Users/fenganyin/Desktop/realdata/data/COBRE/cobre/fmri_0040048.tsv', '/Users/fenganyin/Desktop/realdata/data/COBRE/cobre/fmri_0040067.tsv', '/Users/fenganyin/Desktop/realdata/data/COBRE/cobre/fmri_0040107.tsv', '/Users/fenganyin/Desktop/realdata/data/COBRE/cobre/fmri_0040013.tsv', '/Users/fenganyin/Desktop/realdata/data/COBRE/cobre/fmri_0040074.tsv', '/Users/fenganyin/Desktop/realdata/data/COBRE/cobre/fmri_0040118.tsv', '/Users/fenganyin/Desktop/realdata/data/COBRE/cobre/fmri_0040147.tsv', '/Users/fenganyin/Desktop/realdata/data/COBRE/cobre/fmri_0040124.tsv', '/Users/fenganyin/Desktop/realdata/data/COBRE/cobre/fmri_0040141.tsv', '/Users/fenganyin/Desktop/realdata/data/COBRE/cobre/fmri_0040050.tsv', '/Users/fenganyin/Desktop/realdata/data/COBRE/cobre/fmri_0040057.tsv', '/Users/fenganyin/Desktop/realdata/data/COBRE/cobre/fmri_0040063.tsv', '/Users/fenganyin/Desktop/realdata/data/COBRE/cobre/fmri_0040043.tsv', '/Users/fenganyin/Desktop/realdata/data/COBRE/cobre/fmri_0040136.tsv', '/Users/fenganyin/Desktop/realdata/data/COBRE/cobre/fmri_0040146.tsv', '/Users/fenganyin/Desktop/realdata/data/COBRE/cobre/fmri_0040095.tsv', '/Users/fenganyin/Desktop/realdata/data/COBRE/cobre/fmri_0040102.tsv', '/Users/fenganyin/Desktop/realdata/data/COBRE/cobre/fmri_0040024.tsv', '/Users/fenganyin/Desktop/realdata/data/COBRE/cobre/fmri_0040134.tsv', '/Users/fenganyin/Desktop/realdata/data/COBRE/cobre/fmri_0040030.tsv', '/Users/fenganyin/Desktop/realdata/data/COBRE/cobre/fmri_0040031.tsv', '/Users/fenganyin/Desktop/realdata/data/COBRE/cobre/fmri_0040019.tsv', '/Users/fenganyin/Desktop/realdata/data/COBRE/cobre/fmri_0040026.tsv', '/Users/fenganyin/Desktop/realdata/data/COBRE/cobre/fmri_0040119.tsv', '/Users/fenganyin/Desktop/realdata/data/COBRE/cobre/fmri_0040018.tsv', '/Users/fenganyin/Desktop/realdata/data/COBRE/cobre/fmri_0040116.tsv', '/Users/fenganyin/Desktop/realdata/data/COBRE/cobre/fmri_0040130.tsv', '/Users/fenganyin/Desktop/realdata/data/COBRE/cobre/fmri_0040131.tsv', '/Users/fenganyin/Desktop/realdata/data/COBRE/cobre/fmri_0040023.tsv', '/Users/fenganyin/Desktop/realdata/data/COBRE/cobre/fmri_0040027.tsv', '/Users/fenganyin/Desktop/realdata/data/COBRE/cobre/fmri_0040123.tsv', '/Users/fenganyin/Desktop/realdata/data/COBRE/cobre/fmri_0040125.tsv', '/Users/fenganyin/Desktop/realdata/data/COBRE/cobre/fmri_0040062.tsv', '/Users/fenganyin/Desktop/realdata/data/COBRE/cobre/fmri_0040054.tsv', '/Users/fenganyin/Desktop/realdata/data/COBRE/cobre/fmri_0040076.tsv', '/Users/fenganyin/Desktop/realdata/data/COBRE/cobre/fmri_0040038.tsv', '/Users/fenganyin/Desktop/realdata/data/COBRE/cobre/fmri_0040140.tsv', '/Users/fenganyin/Desktop/realdata/data/COBRE/cobre/fmri_0040144.tsv', '/Users/fenganyin/Desktop/realdata/data/COBRE/cobre/fmri_0040069.tsv', '/Users/fenganyin/Desktop/realdata/data/COBRE/cobre/fmri_0040111.tsv', '/Users/fenganyin/Desktop/realdata/data/COBRE/cobre/fmri_0040066.tsv', '/Users/fenganyin/Desktop/realdata/data/COBRE/cobre/fmri_0040086.tsv']\n"
     ]
    }
   ],
   "source": [
    "print(confounders_filenames)"
   ]
  },
  {
   "cell_type": "code",
   "execution_count": 19,
   "metadata": {},
   "outputs": [
    {
     "name": "stdout",
     "output_type": "stream",
     "text": [
      "['/Users/fenganyin/Desktop/realdata/data/COBRE/cobre/fmri_0040046.nii.gz', '/Users/fenganyin/Desktop/realdata/data/COBRE/cobre/fmri_0040002.nii.gz', '/Users/fenganyin/Desktop/realdata/data/COBRE/cobre/fmri_0040117.nii.gz', '/Users/fenganyin/Desktop/realdata/data/COBRE/cobre/fmri_0040145.nii.gz', '/Users/fenganyin/Desktop/realdata/data/COBRE/cobre/fmri_0040000.nii.gz', '/Users/fenganyin/Desktop/realdata/data/COBRE/cobre/fmri_0040029.nii.gz', '/Users/fenganyin/Desktop/realdata/data/COBRE/cobre/fmri_0040133.nii.gz', '/Users/fenganyin/Desktop/realdata/data/COBRE/cobre/fmri_0040021.nii.gz', '/Users/fenganyin/Desktop/realdata/data/COBRE/cobre/fmri_0040137.nii.gz', '/Users/fenganyin/Desktop/realdata/data/COBRE/cobre/fmri_0040085.nii.gz', '/Users/fenganyin/Desktop/realdata/data/COBRE/cobre/fmri_0040096.nii.gz', '/Users/fenganyin/Desktop/realdata/data/COBRE/cobre/fmri_0040122.nii.gz', '/Users/fenganyin/Desktop/realdata/data/COBRE/cobre/fmri_0040022.nii.gz', '/Users/fenganyin/Desktop/realdata/data/COBRE/cobre/fmri_0040073.nii.gz', '/Users/fenganyin/Desktop/realdata/data/COBRE/cobre/fmri_0040142.nii.gz', '/Users/fenganyin/Desktop/realdata/data/COBRE/cobre/fmri_0040037.nii.gz', '/Users/fenganyin/Desktop/realdata/data/COBRE/cobre/fmri_0040059.nii.gz', '/Users/fenganyin/Desktop/realdata/data/COBRE/cobre/fmri_0040072.nii.gz', '/Users/fenganyin/Desktop/realdata/data/COBRE/cobre/fmri_0040079.nii.gz', '/Users/fenganyin/Desktop/realdata/data/COBRE/cobre/fmri_0040080.nii.gz', '/Users/fenganyin/Desktop/realdata/data/COBRE/cobre/fmri_0040001.nii.gz', '/Users/fenganyin/Desktop/realdata/data/COBRE/cobre/fmri_0040003.nii.gz', '/Users/fenganyin/Desktop/realdata/data/COBRE/cobre/fmri_0040008.nii.gz', '/Users/fenganyin/Desktop/realdata/data/COBRE/cobre/fmri_0040011.nii.gz', '/Users/fenganyin/Desktop/realdata/data/COBRE/cobre/fmri_0040077.nii.gz', '/Users/fenganyin/Desktop/realdata/data/COBRE/cobre/fmri_0040034.nii.gz', '/Users/fenganyin/Desktop/realdata/data/COBRE/cobre/fmri_0040108.nii.gz', '/Users/fenganyin/Desktop/realdata/data/COBRE/cobre/fmri_0040009.nii.gz', '/Users/fenganyin/Desktop/realdata/data/COBRE/cobre/fmri_0040032.nii.gz', '/Users/fenganyin/Desktop/realdata/data/COBRE/cobre/fmri_0040012.nii.gz', '/Users/fenganyin/Desktop/realdata/data/COBRE/cobre/fmri_0040025.nii.gz', '/Users/fenganyin/Desktop/realdata/data/COBRE/cobre/fmri_0040088.nii.gz', '/Users/fenganyin/Desktop/realdata/data/COBRE/cobre/fmri_0040109.nii.gz', '/Users/fenganyin/Desktop/realdata/data/COBRE/cobre/fmri_0040098.nii.gz', '/Users/fenganyin/Desktop/realdata/data/COBRE/cobre/fmri_0040100.nii.gz', '/Users/fenganyin/Desktop/realdata/data/COBRE/cobre/fmri_0040047.nii.gz', '/Users/fenganyin/Desktop/realdata/data/COBRE/cobre/fmri_0040099.nii.gz', '/Users/fenganyin/Desktop/realdata/data/COBRE/cobre/fmri_0040042.nii.gz', '/Users/fenganyin/Desktop/realdata/data/COBRE/cobre/fmri_0040075.nii.gz', '/Users/fenganyin/Desktop/realdata/data/COBRE/cobre/fmri_0040103.nii.gz', '/Users/fenganyin/Desktop/realdata/data/COBRE/cobre/fmri_0040060.nii.gz', '/Users/fenganyin/Desktop/realdata/data/COBRE/cobre/fmri_0040126.nii.gz', '/Users/fenganyin/Desktop/realdata/data/COBRE/cobre/fmri_0040112.nii.gz', '/Users/fenganyin/Desktop/realdata/data/COBRE/cobre/fmri_0040081.nii.gz', '/Users/fenganyin/Desktop/realdata/data/COBRE/cobre/fmri_0040110.nii.gz', '/Users/fenganyin/Desktop/realdata/data/COBRE/cobre/fmri_0040049.nii.gz', '/Users/fenganyin/Desktop/realdata/data/COBRE/cobre/fmri_0040106.nii.gz', '/Users/fenganyin/Desktop/realdata/data/COBRE/cobre/fmri_0040015.nii.gz', '/Users/fenganyin/Desktop/realdata/data/COBRE/cobre/fmri_0040005.nii.gz', '/Users/fenganyin/Desktop/realdata/data/COBRE/cobre/fmri_0040044.nii.gz', '/Users/fenganyin/Desktop/realdata/data/COBRE/cobre/fmri_0040016.nii.gz', '/Users/fenganyin/Desktop/realdata/data/COBRE/cobre/fmri_0040092.nii.gz', '/Users/fenganyin/Desktop/realdata/data/COBRE/cobre/fmri_0040082.nii.gz', '/Users/fenganyin/Desktop/realdata/data/COBRE/cobre/fmri_0040101.nii.gz', '/Users/fenganyin/Desktop/realdata/data/COBRE/cobre/fmri_0040132.nii.gz', '/Users/fenganyin/Desktop/realdata/data/COBRE/cobre/fmri_0040039.nii.gz', '/Users/fenganyin/Desktop/realdata/data/COBRE/cobre/fmri_0040071.nii.gz', '/Users/fenganyin/Desktop/realdata/data/COBRE/cobre/fmri_0040010.nii.gz', '/Users/fenganyin/Desktop/realdata/data/COBRE/cobre/fmri_0040097.nii.gz', '/Users/fenganyin/Desktop/realdata/data/COBRE/cobre/fmri_0040105.nii.gz', '/Users/fenganyin/Desktop/realdata/data/COBRE/cobre/fmri_0040143.nii.gz', '/Users/fenganyin/Desktop/realdata/data/COBRE/cobre/fmri_0040006.nii.gz', '/Users/fenganyin/Desktop/realdata/data/COBRE/cobre/fmri_0040004.nii.gz', '/Users/fenganyin/Desktop/realdata/data/COBRE/cobre/fmri_0040064.nii.gz', '/Users/fenganyin/Desktop/realdata/data/COBRE/cobre/fmri_0040078.nii.gz', '/Users/fenganyin/Desktop/realdata/data/COBRE/cobre/fmri_0040094.nii.gz', '/Users/fenganyin/Desktop/realdata/data/COBRE/cobre/fmri_0040084.nii.gz', '/Users/fenganyin/Desktop/realdata/data/COBRE/cobre/fmri_0040041.nii.gz', '/Users/fenganyin/Desktop/realdata/data/COBRE/cobre/fmri_0040089.nii.gz', '/Users/fenganyin/Desktop/realdata/data/COBRE/cobre/fmri_0040040.nii.gz', '/Users/fenganyin/Desktop/realdata/data/COBRE/cobre/fmri_0040028.nii.gz', '/Users/fenganyin/Desktop/realdata/data/COBRE/cobre/fmri_0040007.nii.gz', '/Users/fenganyin/Desktop/realdata/data/COBRE/cobre/fmri_0040061.nii.gz', '/Users/fenganyin/Desktop/realdata/data/COBRE/cobre/fmri_0040090.nii.gz', '/Users/fenganyin/Desktop/realdata/data/COBRE/cobre/fmri_0040113.nii.gz', '/Users/fenganyin/Desktop/realdata/data/COBRE/cobre/fmri_0040121.nii.gz', '/Users/fenganyin/Desktop/realdata/data/COBRE/cobre/fmri_0040020.nii.gz', '/Users/fenganyin/Desktop/realdata/data/COBRE/cobre/fmri_0040052.nii.gz', '/Users/fenganyin/Desktop/realdata/data/COBRE/cobre/fmri_0040065.nii.gz', '/Users/fenganyin/Desktop/realdata/data/COBRE/cobre/fmri_0040128.nii.gz', '/Users/fenganyin/Desktop/realdata/data/COBRE/cobre/fmri_0040051.nii.gz', '/Users/fenganyin/Desktop/realdata/data/COBRE/cobre/fmri_0040114.nii.gz', '/Users/fenganyin/Desktop/realdata/data/COBRE/cobre/fmri_0040129.nii.gz', '/Users/fenganyin/Desktop/realdata/data/COBRE/cobre/fmri_0040053.nii.gz', '/Users/fenganyin/Desktop/realdata/data/COBRE/cobre/fmri_0040068.nii.gz', '/Users/fenganyin/Desktop/realdata/data/COBRE/cobre/fmri_0040091.nii.gz', '/Users/fenganyin/Desktop/realdata/data/COBRE/cobre/fmri_0040135.nii.gz', '/Users/fenganyin/Desktop/realdata/data/COBRE/cobre/fmri_0040093.nii.gz', '/Users/fenganyin/Desktop/realdata/data/COBRE/cobre/fmri_0040036.nii.gz', '/Users/fenganyin/Desktop/realdata/data/COBRE/cobre/fmri_0040104.nii.gz', '/Users/fenganyin/Desktop/realdata/data/COBRE/cobre/fmri_0040120.nii.gz', '/Users/fenganyin/Desktop/realdata/data/COBRE/cobre/fmri_0040127.nii.gz', '/Users/fenganyin/Desktop/realdata/data/COBRE/cobre/fmri_0040056.nii.gz', '/Users/fenganyin/Desktop/realdata/data/COBRE/cobre/fmri_0040058.nii.gz', '/Users/fenganyin/Desktop/realdata/data/COBRE/cobre/fmri_0040087.nii.gz', '/Users/fenganyin/Desktop/realdata/data/COBRE/cobre/fmri_0040115.nii.gz', '/Users/fenganyin/Desktop/realdata/data/COBRE/cobre/fmri_0040138.nii.gz', '/Users/fenganyin/Desktop/realdata/data/COBRE/cobre/fmri_0040139.nii.gz', '/Users/fenganyin/Desktop/realdata/data/COBRE/cobre/fmri_0040017.nii.gz', '/Users/fenganyin/Desktop/realdata/data/COBRE/cobre/fmri_0040035.nii.gz', '/Users/fenganyin/Desktop/realdata/data/COBRE/cobre/fmri_0040045.nii.gz', '/Users/fenganyin/Desktop/realdata/data/COBRE/cobre/fmri_0040055.nii.gz', '/Users/fenganyin/Desktop/realdata/data/COBRE/cobre/fmri_0040014.nii.gz', '/Users/fenganyin/Desktop/realdata/data/COBRE/cobre/fmri_0040033.nii.gz', '/Users/fenganyin/Desktop/realdata/data/COBRE/cobre/fmri_0040048.nii.gz', '/Users/fenganyin/Desktop/realdata/data/COBRE/cobre/fmri_0040067.nii.gz', '/Users/fenganyin/Desktop/realdata/data/COBRE/cobre/fmri_0040107.nii.gz', '/Users/fenganyin/Desktop/realdata/data/COBRE/cobre/fmri_0040013.nii.gz', '/Users/fenganyin/Desktop/realdata/data/COBRE/cobre/fmri_0040074.nii.gz', '/Users/fenganyin/Desktop/realdata/data/COBRE/cobre/fmri_0040118.nii.gz', '/Users/fenganyin/Desktop/realdata/data/COBRE/cobre/fmri_0040147.nii.gz', '/Users/fenganyin/Desktop/realdata/data/COBRE/cobre/fmri_0040124.nii.gz', '/Users/fenganyin/Desktop/realdata/data/COBRE/cobre/fmri_0040141.nii.gz', '/Users/fenganyin/Desktop/realdata/data/COBRE/cobre/fmri_0040050.nii.gz', '/Users/fenganyin/Desktop/realdata/data/COBRE/cobre/fmri_0040057.nii.gz', '/Users/fenganyin/Desktop/realdata/data/COBRE/cobre/fmri_0040063.nii.gz', '/Users/fenganyin/Desktop/realdata/data/COBRE/cobre/fmri_0040043.nii.gz', '/Users/fenganyin/Desktop/realdata/data/COBRE/cobre/fmri_0040136.nii.gz', '/Users/fenganyin/Desktop/realdata/data/COBRE/cobre/fmri_0040146.nii.gz', '/Users/fenganyin/Desktop/realdata/data/COBRE/cobre/fmri_0040095.nii.gz', '/Users/fenganyin/Desktop/realdata/data/COBRE/cobre/fmri_0040102.nii.gz', '/Users/fenganyin/Desktop/realdata/data/COBRE/cobre/fmri_0040024.nii.gz', '/Users/fenganyin/Desktop/realdata/data/COBRE/cobre/fmri_0040134.nii.gz', '/Users/fenganyin/Desktop/realdata/data/COBRE/cobre/fmri_0040030.nii.gz', '/Users/fenganyin/Desktop/realdata/data/COBRE/cobre/fmri_0040031.nii.gz', '/Users/fenganyin/Desktop/realdata/data/COBRE/cobre/fmri_0040019.nii.gz', '/Users/fenganyin/Desktop/realdata/data/COBRE/cobre/fmri_0040026.nii.gz', '/Users/fenganyin/Desktop/realdata/data/COBRE/cobre/fmri_0040119.nii.gz', '/Users/fenganyin/Desktop/realdata/data/COBRE/cobre/fmri_0040018.nii.gz', '/Users/fenganyin/Desktop/realdata/data/COBRE/cobre/fmri_0040116.nii.gz', '/Users/fenganyin/Desktop/realdata/data/COBRE/cobre/fmri_0040130.nii.gz', '/Users/fenganyin/Desktop/realdata/data/COBRE/cobre/fmri_0040131.nii.gz', '/Users/fenganyin/Desktop/realdata/data/COBRE/cobre/fmri_0040023.nii.gz', '/Users/fenganyin/Desktop/realdata/data/COBRE/cobre/fmri_0040027.nii.gz', '/Users/fenganyin/Desktop/realdata/data/COBRE/cobre/fmri_0040123.nii.gz', '/Users/fenganyin/Desktop/realdata/data/COBRE/cobre/fmri_0040125.nii.gz', '/Users/fenganyin/Desktop/realdata/data/COBRE/cobre/fmri_0040062.nii.gz', '/Users/fenganyin/Desktop/realdata/data/COBRE/cobre/fmri_0040054.nii.gz', '/Users/fenganyin/Desktop/realdata/data/COBRE/cobre/fmri_0040076.nii.gz', '/Users/fenganyin/Desktop/realdata/data/COBRE/cobre/fmri_0040038.nii.gz', '/Users/fenganyin/Desktop/realdata/data/COBRE/cobre/fmri_0040140.nii.gz', '/Users/fenganyin/Desktop/realdata/data/COBRE/cobre/fmri_0040144.nii.gz', '/Users/fenganyin/Desktop/realdata/data/COBRE/cobre/fmri_0040069.nii.gz', '/Users/fenganyin/Desktop/realdata/data/COBRE/cobre/fmri_0040111.nii.gz', '/Users/fenganyin/Desktop/realdata/data/COBRE/cobre/fmri_0040066.nii.gz', '/Users/fenganyin/Desktop/realdata/data/COBRE/cobre/fmri_0040086.nii.gz']\n"
     ]
    }
   ],
   "source": [
    "print(fmri_filenames)"
   ]
  },
  {
   "cell_type": "code",
   "execution_count": 20,
   "metadata": {},
   "outputs": [],
   "source": [
    "# save data\n",
    "nLength = len(fmri_filenames)"
   ]
  },
  {
   "cell_type": "code",
   "execution_count": 21,
   "metadata": {},
   "outputs": [
    {
     "name": "stdout",
     "output_type": "stream",
     "text": [
      "0\n",
      "[NiftiLabelsMasker.fit_transform] loading data from Nifti1Image(\n",
      "shape=(91, 109, 91),\n",
      "affine=array([[   2.,    0.,    0.,  -90.],\n",
      "       [   0.,    2.,    0., -126.],\n",
      "       [   0.,    0.,    2.,  -72.],\n",
      "       [   0.,    0.,    0.,    1.]])\n",
      ")\n",
      "Resampling labels\n",
      "[NiftiLabelsMasker.transform_single_imgs] Loading data from /Users/fenganyin/Desktop/realdata/data/COBRE/cobre/fmri_0040046.nii.gz\n",
      "[NiftiLabelsMasker.transform_single_imgs] Extracting region signals\n",
      "[NiftiLabelsMasker.transform_single_imgs] Cleaning extracted signals\n",
      "(76, 48)\n",
      "1\n",
      "[NiftiLabelsMasker.fit_transform] loading data from Nifti1Image(\n",
      "shape=(91, 109, 91),\n",
      "affine=array([[   2.,    0.,    0.,  -90.],\n",
      "       [   0.,    2.,    0., -126.],\n",
      "       [   0.,    0.,    2.,  -72.],\n",
      "       [   0.,    0.,    0.,    1.]])\n",
      ")\n",
      "[NiftiLabelsMasker.transform_single_imgs] Loading data from /Users/fenganyin/Desktop/realdata/data/COBRE/cobre/fmri_0040002.nii.gz\n",
      "[NiftiLabelsMasker.transform_single_imgs] Extracting region signals\n"
     ]
    },
    {
     "name": "stderr",
     "output_type": "stream",
     "text": [
      "/Users/fenganyin/opt/anaconda3/lib/python3.7/site-packages/ipykernel_launcher.py:10: ParserWarning: Falling back to the 'python' engine because the 'c' engine does not support regex separators (separators > 1 char and different from '\\s+' are interpreted as regex); you can avoid this warning by specifying engine='python'.\n",
      "  # Remove the CWD from sys.path while we load stuff.\n"
     ]
    },
    {
     "name": "stdout",
     "output_type": "stream",
     "text": [
      "[NiftiLabelsMasker.transform_single_imgs] Cleaning extracted signals\n",
      "(67, 48)\n",
      "2\n",
      "[NiftiLabelsMasker.fit_transform] loading data from Nifti1Image(\n",
      "shape=(91, 109, 91),\n",
      "affine=array([[   2.,    0.,    0.,  -90.],\n",
      "       [   0.,    2.,    0., -126.],\n",
      "       [   0.,    0.,    2.,  -72.],\n",
      "       [   0.,    0.,    0.,    1.]])\n",
      ")\n",
      "[NiftiLabelsMasker.transform_single_imgs] Loading data from /Users/fenganyin/Desktop/realdata/data/COBRE/cobre/fmri_0040117.nii.gz\n",
      "[NiftiLabelsMasker.transform_single_imgs] Extracting region signals\n",
      "[NiftiLabelsMasker.transform_single_imgs] Cleaning extracted signals\n",
      "(133, 48)\n",
      "3\n",
      "[NiftiLabelsMasker.fit_transform] loading data from Nifti1Image(\n",
      "shape=(91, 109, 91),\n",
      "affine=array([[   2.,    0.,    0.,  -90.],\n",
      "       [   0.,    2.,    0., -126.],\n",
      "       [   0.,    0.,    2.,  -72.],\n",
      "       [   0.,    0.,    0.,    1.]])\n",
      ")\n",
      "[NiftiLabelsMasker.transform_single_imgs] Loading data from /Users/fenganyin/Desktop/realdata/data/COBRE/cobre/fmri_0040145.nii.gz\n",
      "[NiftiLabelsMasker.transform_single_imgs] Extracting region signals\n",
      "[NiftiLabelsMasker.transform_single_imgs] Cleaning extracted signals\n",
      "(144, 48)\n",
      "4\n",
      "[NiftiLabelsMasker.fit_transform] loading data from Nifti1Image(\n",
      "shape=(91, 109, 91),\n",
      "affine=array([[   2.,    0.,    0.,  -90.],\n",
      "       [   0.,    2.,    0., -126.],\n",
      "       [   0.,    0.,    2.,  -72.],\n",
      "       [   0.,    0.,    0.,    1.]])\n",
      ")\n",
      "[NiftiLabelsMasker.transform_single_imgs] Loading data from /Users/fenganyin/Desktop/realdata/data/COBRE/cobre/fmri_0040000.nii.gz\n",
      "[NiftiLabelsMasker.transform_single_imgs] Extracting region signals\n",
      "[NiftiLabelsMasker.transform_single_imgs] Cleaning extracted signals\n",
      "(140, 48)\n",
      "5\n",
      "[NiftiLabelsMasker.fit_transform] loading data from Nifti1Image(\n",
      "shape=(91, 109, 91),\n",
      "affine=array([[   2.,    0.,    0.,  -90.],\n",
      "       [   0.,    2.,    0., -126.],\n",
      "       [   0.,    0.,    2.,  -72.],\n",
      "       [   0.,    0.,    0.,    1.]])\n",
      ")\n",
      "[NiftiLabelsMasker.transform_single_imgs] Loading data from /Users/fenganyin/Desktop/realdata/data/COBRE/cobre/fmri_0040029.nii.gz\n",
      "[NiftiLabelsMasker.transform_single_imgs] Extracting region signals\n",
      "[NiftiLabelsMasker.transform_single_imgs] Cleaning extracted signals\n",
      "(125, 48)\n",
      "6\n",
      "[NiftiLabelsMasker.fit_transform] loading data from Nifti1Image(\n",
      "shape=(91, 109, 91),\n",
      "affine=array([[   2.,    0.,    0.,  -90.],\n",
      "       [   0.,    2.,    0., -126.],\n",
      "       [   0.,    0.,    2.,  -72.],\n",
      "       [   0.,    0.,    0.,    1.]])\n",
      ")\n",
      "[NiftiLabelsMasker.transform_single_imgs] Loading data from /Users/fenganyin/Desktop/realdata/data/COBRE/cobre/fmri_0040133.nii.gz\n",
      "[NiftiLabelsMasker.transform_single_imgs] Extracting region signals\n",
      "[NiftiLabelsMasker.transform_single_imgs] Cleaning extracted signals\n",
      "(118, 48)\n",
      "7\n",
      "[NiftiLabelsMasker.fit_transform] loading data from Nifti1Image(\n",
      "shape=(91, 109, 91),\n",
      "affine=array([[   2.,    0.,    0.,  -90.],\n",
      "       [   0.,    2.,    0., -126.],\n",
      "       [   0.,    0.,    2.,  -72.],\n",
      "       [   0.,    0.,    0.,    1.]])\n",
      ")\n",
      "[NiftiLabelsMasker.transform_single_imgs] Loading data from /Users/fenganyin/Desktop/realdata/data/COBRE/cobre/fmri_0040021.nii.gz\n",
      "[NiftiLabelsMasker.transform_single_imgs] Extracting region signals\n",
      "[NiftiLabelsMasker.transform_single_imgs] Cleaning extracted signals\n",
      "(114, 48)\n",
      "8\n",
      "[NiftiLabelsMasker.fit_transform] loading data from Nifti1Image(\n",
      "shape=(91, 109, 91),\n",
      "affine=array([[   2.,    0.,    0.,  -90.],\n",
      "       [   0.,    2.,    0., -126.],\n",
      "       [   0.,    0.,    2.,  -72.],\n",
      "       [   0.,    0.,    0.,    1.]])\n",
      ")\n",
      "[NiftiLabelsMasker.transform_single_imgs] Loading data from /Users/fenganyin/Desktop/realdata/data/COBRE/cobre/fmri_0040137.nii.gz\n",
      "[NiftiLabelsMasker.transform_single_imgs] Extracting region signals\n",
      "[NiftiLabelsMasker.transform_single_imgs] Cleaning extracted signals\n",
      "(117, 48)\n",
      "9\n",
      "[NiftiLabelsMasker.fit_transform] loading data from Nifti1Image(\n",
      "shape=(91, 109, 91),\n",
      "affine=array([[   2.,    0.,    0.,  -90.],\n",
      "       [   0.,    2.,    0., -126.],\n",
      "       [   0.,    0.,    2.,  -72.],\n",
      "       [   0.,    0.,    0.,    1.]])\n",
      ")\n",
      "[NiftiLabelsMasker.transform_single_imgs] Loading data from /Users/fenganyin/Desktop/realdata/data/COBRE/cobre/fmri_0040085.nii.gz\n",
      "[NiftiLabelsMasker.transform_single_imgs] Extracting region signals\n",
      "[NiftiLabelsMasker.transform_single_imgs] Cleaning extracted signals\n",
      "(87, 48)\n",
      "10\n",
      "[NiftiLabelsMasker.fit_transform] loading data from Nifti1Image(\n",
      "shape=(91, 109, 91),\n",
      "affine=array([[   2.,    0.,    0.,  -90.],\n",
      "       [   0.,    2.,    0., -126.],\n",
      "       [   0.,    0.,    2.,  -72.],\n",
      "       [   0.,    0.,    0.,    1.]])\n",
      ")\n",
      "[NiftiLabelsMasker.transform_single_imgs] Loading data from /Users/fenganyin/Desktop/realdata/data/COBRE/cobre/fmri_0040096.nii.gz\n",
      "[NiftiLabelsMasker.transform_single_imgs] Extracting region signals\n",
      "[NiftiLabelsMasker.transform_single_imgs] Cleaning extracted signals\n",
      "(44, 48)\n",
      "11\n",
      "[NiftiLabelsMasker.fit_transform] loading data from Nifti1Image(\n",
      "shape=(91, 109, 91),\n",
      "affine=array([[   2.,    0.,    0.,  -90.],\n",
      "       [   0.,    2.,    0., -126.],\n",
      "       [   0.,    0.,    2.,  -72.],\n",
      "       [   0.,    0.,    0.,    1.]])\n",
      ")\n",
      "[NiftiLabelsMasker.transform_single_imgs] Loading data from /Users/fenganyin/Desktop/realdata/data/COBRE/cobre/fmri_0040122.nii.gz\n",
      "[NiftiLabelsMasker.transform_single_imgs] Extracting region signals\n",
      "[NiftiLabelsMasker.transform_single_imgs] Cleaning extracted signals\n",
      "(130, 48)\n",
      "12\n",
      "[NiftiLabelsMasker.fit_transform] loading data from Nifti1Image(\n",
      "shape=(91, 109, 91),\n",
      "affine=array([[   2.,    0.,    0.,  -90.],\n",
      "       [   0.,    2.,    0., -126.],\n",
      "       [   0.,    0.,    2.,  -72.],\n",
      "       [   0.,    0.,    0.,    1.]])\n",
      ")\n",
      "[NiftiLabelsMasker.transform_single_imgs] Loading data from /Users/fenganyin/Desktop/realdata/data/COBRE/cobre/fmri_0040022.nii.gz\n",
      "[NiftiLabelsMasker.transform_single_imgs] Extracting region signals\n",
      "[NiftiLabelsMasker.transform_single_imgs] Cleaning extracted signals\n",
      "(127, 48)\n",
      "13\n",
      "[NiftiLabelsMasker.fit_transform] loading data from Nifti1Image(\n",
      "shape=(91, 109, 91),\n",
      "affine=array([[   2.,    0.,    0.,  -90.],\n",
      "       [   0.,    2.,    0., -126.],\n",
      "       [   0.,    0.,    2.,  -72.],\n",
      "       [   0.,    0.,    0.,    1.]])\n",
      ")\n",
      "[NiftiLabelsMasker.transform_single_imgs] Loading data from /Users/fenganyin/Desktop/realdata/data/COBRE/cobre/fmri_0040073.nii.gz\n",
      "[NiftiLabelsMasker.transform_single_imgs] Extracting region signals\n",
      "[NiftiLabelsMasker.transform_single_imgs] Cleaning extracted signals\n",
      "(40, 48)\n",
      "14\n",
      "[NiftiLabelsMasker.fit_transform] loading data from Nifti1Image(\n",
      "shape=(91, 109, 91),\n",
      "affine=array([[   2.,    0.,    0.,  -90.],\n",
      "       [   0.,    2.,    0., -126.],\n",
      "       [   0.,    0.,    2.,  -72.],\n",
      "       [   0.,    0.,    0.,    1.]])\n",
      ")\n",
      "[NiftiLabelsMasker.transform_single_imgs] Loading data from /Users/fenganyin/Desktop/realdata/data/COBRE/cobre/fmri_0040142.nii.gz\n",
      "[NiftiLabelsMasker.transform_single_imgs] Extracting region signals\n",
      "[NiftiLabelsMasker.transform_single_imgs] Cleaning extracted signals\n",
      "(118, 48)\n",
      "15\n",
      "[NiftiLabelsMasker.fit_transform] loading data from Nifti1Image(\n",
      "shape=(91, 109, 91),\n",
      "affine=array([[   2.,    0.,    0.,  -90.],\n",
      "       [   0.,    2.,    0., -126.],\n",
      "       [   0.,    0.,    2.,  -72.],\n",
      "       [   0.,    0.,    0.,    1.]])\n",
      ")\n",
      "[NiftiLabelsMasker.transform_single_imgs] Loading data from /Users/fenganyin/Desktop/realdata/data/COBRE/cobre/fmri_0040037.nii.gz\n",
      "[NiftiLabelsMasker.transform_single_imgs] Extracting region signals\n",
      "[NiftiLabelsMasker.transform_single_imgs] Cleaning extracted signals\n",
      "(119, 48)\n",
      "16\n",
      "[NiftiLabelsMasker.fit_transform] loading data from Nifti1Image(\n",
      "shape=(91, 109, 91),\n",
      "affine=array([[   2.,    0.,    0.,  -90.],\n",
      "       [   0.,    2.,    0., -126.],\n",
      "       [   0.,    0.,    2.,  -72.],\n",
      "       [   0.,    0.,    0.,    1.]])\n",
      ")\n",
      "[NiftiLabelsMasker.transform_single_imgs] Loading data from /Users/fenganyin/Desktop/realdata/data/COBRE/cobre/fmri_0040059.nii.gz\n",
      "[NiftiLabelsMasker.transform_single_imgs] Extracting region signals\n",
      "[NiftiLabelsMasker.transform_single_imgs] Cleaning extracted signals\n",
      "(145, 48)\n",
      "17\n",
      "[NiftiLabelsMasker.fit_transform] loading data from Nifti1Image(\n",
      "shape=(91, 109, 91),\n",
      "affine=array([[   2.,    0.,    0.,  -90.],\n",
      "       [   0.,    2.,    0., -126.],\n",
      "       [   0.,    0.,    2.,  -72.],\n",
      "       [   0.,    0.,    0.,    1.]])\n",
      ")\n",
      "[NiftiLabelsMasker.transform_single_imgs] Loading data from /Users/fenganyin/Desktop/realdata/data/COBRE/cobre/fmri_0040072.nii.gz\n",
      "[NiftiLabelsMasker.transform_single_imgs] Extracting region signals\n"
     ]
    },
    {
     "name": "stdout",
     "output_type": "stream",
     "text": [
      "[NiftiLabelsMasker.transform_single_imgs] Cleaning extracted signals\n",
      "(77, 48)\n",
      "18\n",
      "[NiftiLabelsMasker.fit_transform] loading data from Nifti1Image(\n",
      "shape=(91, 109, 91),\n",
      "affine=array([[   2.,    0.,    0.,  -90.],\n",
      "       [   0.,    2.,    0., -126.],\n",
      "       [   0.,    0.,    2.,  -72.],\n",
      "       [   0.,    0.,    0.,    1.]])\n",
      ")\n",
      "[NiftiLabelsMasker.transform_single_imgs] Loading data from /Users/fenganyin/Desktop/realdata/data/COBRE/cobre/fmri_0040079.nii.gz\n",
      "[NiftiLabelsMasker.transform_single_imgs] Extracting region signals\n",
      "[NiftiLabelsMasker.transform_single_imgs] Cleaning extracted signals\n",
      "(61, 48)\n",
      "19\n",
      "[NiftiLabelsMasker.fit_transform] loading data from Nifti1Image(\n",
      "shape=(91, 109, 91),\n",
      "affine=array([[   2.,    0.,    0.,  -90.],\n",
      "       [   0.,    2.,    0., -126.],\n",
      "       [   0.,    0.,    2.,  -72.],\n",
      "       [   0.,    0.,    0.,    1.]])\n",
      ")\n",
      "[NiftiLabelsMasker.transform_single_imgs] Loading data from /Users/fenganyin/Desktop/realdata/data/COBRE/cobre/fmri_0040080.nii.gz\n",
      "[NiftiLabelsMasker.transform_single_imgs] Extracting region signals\n",
      "[NiftiLabelsMasker.transform_single_imgs] Cleaning extracted signals\n",
      "(68, 48)\n",
      "20\n",
      "[NiftiLabelsMasker.fit_transform] loading data from Nifti1Image(\n",
      "shape=(91, 109, 91),\n",
      "affine=array([[   2.,    0.,    0.,  -90.],\n",
      "       [   0.,    2.,    0., -126.],\n",
      "       [   0.,    0.,    2.,  -72.],\n",
      "       [   0.,    0.,    0.,    1.]])\n",
      ")\n",
      "[NiftiLabelsMasker.transform_single_imgs] Loading data from /Users/fenganyin/Desktop/realdata/data/COBRE/cobre/fmri_0040001.nii.gz\n",
      "[NiftiLabelsMasker.transform_single_imgs] Extracting region signals\n",
      "[NiftiLabelsMasker.transform_single_imgs] Cleaning extracted signals\n",
      "(40, 48)\n",
      "21\n",
      "[NiftiLabelsMasker.fit_transform] loading data from Nifti1Image(\n",
      "shape=(91, 109, 91),\n",
      "affine=array([[   2.,    0.,    0.,  -90.],\n",
      "       [   0.,    2.,    0., -126.],\n",
      "       [   0.,    0.,    2.,  -72.],\n",
      "       [   0.,    0.,    0.,    1.]])\n",
      ")\n",
      "[NiftiLabelsMasker.transform_single_imgs] Loading data from /Users/fenganyin/Desktop/realdata/data/COBRE/cobre/fmri_0040003.nii.gz\n",
      "[NiftiLabelsMasker.transform_single_imgs] Extracting region signals\n",
      "[NiftiLabelsMasker.transform_single_imgs] Cleaning extracted signals\n",
      "(114, 48)\n",
      "22\n",
      "[NiftiLabelsMasker.fit_transform] loading data from Nifti1Image(\n",
      "shape=(91, 109, 91),\n",
      "affine=array([[   2.,    0.,    0.,  -90.],\n",
      "       [   0.,    2.,    0., -126.],\n",
      "       [   0.,    0.,    2.,  -72.],\n",
      "       [   0.,    0.,    0.,    1.]])\n",
      ")\n",
      "[NiftiLabelsMasker.transform_single_imgs] Loading data from /Users/fenganyin/Desktop/realdata/data/COBRE/cobre/fmri_0040008.nii.gz\n",
      "[NiftiLabelsMasker.transform_single_imgs] Extracting region signals\n",
      "[NiftiLabelsMasker.transform_single_imgs] Cleaning extracted signals\n",
      "(127, 48)\n",
      "23\n",
      "[NiftiLabelsMasker.fit_transform] loading data from Nifti1Image(\n",
      "shape=(91, 109, 91),\n",
      "affine=array([[   2.,    0.,    0.,  -90.],\n",
      "       [   0.,    2.,    0., -126.],\n",
      "       [   0.,    0.,    2.,  -72.],\n",
      "       [   0.,    0.,    0.,    1.]])\n",
      ")\n",
      "[NiftiLabelsMasker.transform_single_imgs] Loading data from /Users/fenganyin/Desktop/realdata/data/COBRE/cobre/fmri_0040011.nii.gz\n",
      "[NiftiLabelsMasker.transform_single_imgs] Extracting region signals\n",
      "[NiftiLabelsMasker.transform_single_imgs] Cleaning extracted signals\n",
      "(40, 48)\n",
      "24\n",
      "[NiftiLabelsMasker.fit_transform] loading data from Nifti1Image(\n",
      "shape=(91, 109, 91),\n",
      "affine=array([[   2.,    0.,    0.,  -90.],\n",
      "       [   0.,    2.,    0., -126.],\n",
      "       [   0.,    0.,    2.,  -72.],\n",
      "       [   0.,    0.,    0.,    1.]])\n",
      ")\n",
      "[NiftiLabelsMasker.transform_single_imgs] Loading data from /Users/fenganyin/Desktop/realdata/data/COBRE/cobre/fmri_0040077.nii.gz\n",
      "[NiftiLabelsMasker.transform_single_imgs] Extracting region signals\n",
      "[NiftiLabelsMasker.transform_single_imgs] Cleaning extracted signals\n",
      "(145, 48)\n",
      "25\n",
      "[NiftiLabelsMasker.fit_transform] loading data from Nifti1Image(\n",
      "shape=(91, 109, 91),\n",
      "affine=array([[   2.,    0.,    0.,  -90.],\n",
      "       [   0.,    2.,    0., -126.],\n",
      "       [   0.,    0.,    2.,  -72.],\n",
      "       [   0.,    0.,    0.,    1.]])\n",
      ")\n",
      "[NiftiLabelsMasker.transform_single_imgs] Loading data from /Users/fenganyin/Desktop/realdata/data/COBRE/cobre/fmri_0040034.nii.gz\n",
      "[NiftiLabelsMasker.transform_single_imgs] Extracting region signals\n",
      "[NiftiLabelsMasker.transform_single_imgs] Cleaning extracted signals\n",
      "(76, 48)\n",
      "26\n",
      "[NiftiLabelsMasker.fit_transform] loading data from Nifti1Image(\n",
      "shape=(91, 109, 91),\n",
      "affine=array([[   2.,    0.,    0.,  -90.],\n",
      "       [   0.,    2.,    0., -126.],\n",
      "       [   0.,    0.,    2.,  -72.],\n",
      "       [   0.,    0.,    0.,    1.]])\n",
      ")\n",
      "[NiftiLabelsMasker.transform_single_imgs] Loading data from /Users/fenganyin/Desktop/realdata/data/COBRE/cobre/fmri_0040108.nii.gz\n",
      "[NiftiLabelsMasker.transform_single_imgs] Extracting region signals\n",
      "[NiftiLabelsMasker.transform_single_imgs] Cleaning extracted signals\n",
      "(125, 48)\n",
      "27\n",
      "[NiftiLabelsMasker.fit_transform] loading data from Nifti1Image(\n",
      "shape=(91, 109, 91),\n",
      "affine=array([[   2.,    0.,    0.,  -90.],\n",
      "       [   0.,    2.,    0., -126.],\n",
      "       [   0.,    0.,    2.,  -72.],\n",
      "       [   0.,    0.,    0.,    1.]])\n",
      ")\n",
      "[NiftiLabelsMasker.transform_single_imgs] Loading data from /Users/fenganyin/Desktop/realdata/data/COBRE/cobre/fmri_0040009.nii.gz\n",
      "[NiftiLabelsMasker.transform_single_imgs] Extracting region signals\n",
      "[NiftiLabelsMasker.transform_single_imgs] Cleaning extracted signals\n",
      "(40, 48)\n",
      "28\n",
      "[NiftiLabelsMasker.fit_transform] loading data from Nifti1Image(\n",
      "shape=(91, 109, 91),\n",
      "affine=array([[   2.,    0.,    0.,  -90.],\n",
      "       [   0.,    2.,    0., -126.],\n",
      "       [   0.,    0.,    2.,  -72.],\n",
      "       [   0.,    0.,    0.,    1.]])\n",
      ")\n",
      "[NiftiLabelsMasker.transform_single_imgs] Loading data from /Users/fenganyin/Desktop/realdata/data/COBRE/cobre/fmri_0040032.nii.gz\n",
      "[NiftiLabelsMasker.transform_single_imgs] Extracting region signals\n",
      "[NiftiLabelsMasker.transform_single_imgs] Cleaning extracted signals\n",
      "(144, 48)\n",
      "29\n",
      "[NiftiLabelsMasker.fit_transform] loading data from Nifti1Image(\n",
      "shape=(91, 109, 91),\n",
      "affine=array([[   2.,    0.,    0.,  -90.],\n",
      "       [   0.,    2.,    0., -126.],\n",
      "       [   0.,    0.,    2.,  -72.],\n",
      "       [   0.,    0.,    0.,    1.]])\n",
      ")\n",
      "[NiftiLabelsMasker.transform_single_imgs] Loading data from /Users/fenganyin/Desktop/realdata/data/COBRE/cobre/fmri_0040012.nii.gz\n",
      "[NiftiLabelsMasker.transform_single_imgs] Extracting region signals\n",
      "[NiftiLabelsMasker.transform_single_imgs] Cleaning extracted signals\n",
      "(40, 48)\n",
      "30\n",
      "[NiftiLabelsMasker.fit_transform] loading data from Nifti1Image(\n",
      "shape=(91, 109, 91),\n",
      "affine=array([[   2.,    0.,    0.,  -90.],\n",
      "       [   0.,    2.,    0., -126.],\n",
      "       [   0.,    0.,    2.,  -72.],\n",
      "       [   0.,    0.,    0.,    1.]])\n",
      ")\n",
      "[NiftiLabelsMasker.transform_single_imgs] Loading data from /Users/fenganyin/Desktop/realdata/data/COBRE/cobre/fmri_0040025.nii.gz\n",
      "[NiftiLabelsMasker.transform_single_imgs] Extracting region signals\n",
      "[NiftiLabelsMasker.transform_single_imgs] Cleaning extracted signals\n",
      "(60, 48)\n",
      "31\n",
      "[NiftiLabelsMasker.fit_transform] loading data from Nifti1Image(\n",
      "shape=(91, 109, 91),\n",
      "affine=array([[   2.,    0.,    0.,  -90.],\n",
      "       [   0.,    2.,    0., -126.],\n",
      "       [   0.,    0.,    2.,  -72.],\n",
      "       [   0.,    0.,    0.,    1.]])\n",
      ")\n",
      "[NiftiLabelsMasker.transform_single_imgs] Loading data from /Users/fenganyin/Desktop/realdata/data/COBRE/cobre/fmri_0040088.nii.gz\n",
      "[NiftiLabelsMasker.transform_single_imgs] Extracting region signals\n",
      "[NiftiLabelsMasker.transform_single_imgs] Cleaning extracted signals\n",
      "(40, 48)\n",
      "32\n",
      "[NiftiLabelsMasker.fit_transform] loading data from Nifti1Image(\n",
      "shape=(91, 109, 91),\n",
      "affine=array([[   2.,    0.,    0.,  -90.],\n",
      "       [   0.,    2.,    0., -126.],\n",
      "       [   0.,    0.,    2.,  -72.],\n",
      "       [   0.,    0.,    0.,    1.]])\n",
      ")\n",
      "[NiftiLabelsMasker.transform_single_imgs] Loading data from /Users/fenganyin/Desktop/realdata/data/COBRE/cobre/fmri_0040109.nii.gz\n",
      "[NiftiLabelsMasker.transform_single_imgs] Extracting region signals\n",
      "[NiftiLabelsMasker.transform_single_imgs] Cleaning extracted signals\n",
      "(80, 48)\n",
      "33\n",
      "[NiftiLabelsMasker.fit_transform] loading data from Nifti1Image(\n",
      "shape=(91, 109, 91),\n",
      "affine=array([[   2.,    0.,    0.,  -90.],\n",
      "       [   0.,    2.,    0., -126.],\n",
      "       [   0.,    0.,    2.,  -72.],\n",
      "       [   0.,    0.,    0.,    1.]])\n",
      ")\n",
      "[NiftiLabelsMasker.transform_single_imgs] Loading data from /Users/fenganyin/Desktop/realdata/data/COBRE/cobre/fmri_0040098.nii.gz\n",
      "[NiftiLabelsMasker.transform_single_imgs] Extracting region signals\n"
     ]
    },
    {
     "name": "stdout",
     "output_type": "stream",
     "text": [
      "[NiftiLabelsMasker.transform_single_imgs] Cleaning extracted signals\n",
      "(133, 48)\n",
      "34\n",
      "[NiftiLabelsMasker.fit_transform] loading data from Nifti1Image(\n",
      "shape=(91, 109, 91),\n",
      "affine=array([[   2.,    0.,    0.,  -90.],\n",
      "       [   0.,    2.,    0., -126.],\n",
      "       [   0.,    0.,    2.,  -72.],\n",
      "       [   0.,    0.,    0.,    1.]])\n",
      ")\n",
      "[NiftiLabelsMasker.transform_single_imgs] Loading data from /Users/fenganyin/Desktop/realdata/data/COBRE/cobre/fmri_0040100.nii.gz\n",
      "[NiftiLabelsMasker.transform_single_imgs] Extracting region signals\n",
      "[NiftiLabelsMasker.transform_single_imgs] Cleaning extracted signals\n",
      "(40, 48)\n",
      "35\n",
      "[NiftiLabelsMasker.fit_transform] loading data from Nifti1Image(\n",
      "shape=(91, 109, 91),\n",
      "affine=array([[   2.,    0.,    0.,  -90.],\n",
      "       [   0.,    2.,    0., -126.],\n",
      "       [   0.,    0.,    2.,  -72.],\n",
      "       [   0.,    0.,    0.,    1.]])\n",
      ")\n",
      "[NiftiLabelsMasker.transform_single_imgs] Loading data from /Users/fenganyin/Desktop/realdata/data/COBRE/cobre/fmri_0040047.nii.gz\n",
      "[NiftiLabelsMasker.transform_single_imgs] Extracting region signals\n",
      "[NiftiLabelsMasker.transform_single_imgs] Cleaning extracted signals\n",
      "(88, 48)\n",
      "36\n",
      "[NiftiLabelsMasker.fit_transform] loading data from Nifti1Image(\n",
      "shape=(91, 109, 91),\n",
      "affine=array([[   2.,    0.,    0.,  -90.],\n",
      "       [   0.,    2.,    0., -126.],\n",
      "       [   0.,    0.,    2.,  -72.],\n",
      "       [   0.,    0.,    0.,    1.]])\n",
      ")\n",
      "[NiftiLabelsMasker.transform_single_imgs] Loading data from /Users/fenganyin/Desktop/realdata/data/COBRE/cobre/fmri_0040099.nii.gz\n",
      "[NiftiLabelsMasker.transform_single_imgs] Extracting region signals\n",
      "[NiftiLabelsMasker.transform_single_imgs] Cleaning extracted signals\n",
      "(66, 48)\n",
      "37\n",
      "[NiftiLabelsMasker.fit_transform] loading data from Nifti1Image(\n",
      "shape=(91, 109, 91),\n",
      "affine=array([[   2.,    0.,    0.,  -90.],\n",
      "       [   0.,    2.,    0., -126.],\n",
      "       [   0.,    0.,    2.,  -72.],\n",
      "       [   0.,    0.,    0.,    1.]])\n",
      ")\n",
      "[NiftiLabelsMasker.transform_single_imgs] Loading data from /Users/fenganyin/Desktop/realdata/data/COBRE/cobre/fmri_0040042.nii.gz\n",
      "[NiftiLabelsMasker.transform_single_imgs] Extracting region signals\n",
      "[NiftiLabelsMasker.transform_single_imgs] Cleaning extracted signals\n",
      "(41, 48)\n",
      "38\n",
      "[NiftiLabelsMasker.fit_transform] loading data from Nifti1Image(\n",
      "shape=(91, 109, 91),\n",
      "affine=array([[   2.,    0.,    0.,  -90.],\n",
      "       [   0.,    2.,    0., -126.],\n",
      "       [   0.,    0.,    2.,  -72.],\n",
      "       [   0.,    0.,    0.,    1.]])\n",
      ")\n",
      "[NiftiLabelsMasker.transform_single_imgs] Loading data from /Users/fenganyin/Desktop/realdata/data/COBRE/cobre/fmri_0040075.nii.gz\n",
      "[NiftiLabelsMasker.transform_single_imgs] Extracting region signals\n",
      "[NiftiLabelsMasker.transform_single_imgs] Cleaning extracted signals\n",
      "(40, 48)\n",
      "39\n",
      "[NiftiLabelsMasker.fit_transform] loading data from Nifti1Image(\n",
      "shape=(91, 109, 91),\n",
      "affine=array([[   2.,    0.,    0.,  -90.],\n",
      "       [   0.,    2.,    0., -126.],\n",
      "       [   0.,    0.,    2.,  -72.],\n",
      "       [   0.,    0.,    0.,    1.]])\n",
      ")\n",
      "[NiftiLabelsMasker.transform_single_imgs] Loading data from /Users/fenganyin/Desktop/realdata/data/COBRE/cobre/fmri_0040103.nii.gz\n",
      "[NiftiLabelsMasker.transform_single_imgs] Extracting region signals\n",
      "[NiftiLabelsMasker.transform_single_imgs] Cleaning extracted signals\n",
      "(144, 48)\n",
      "40\n",
      "[NiftiLabelsMasker.fit_transform] loading data from Nifti1Image(\n",
      "shape=(91, 109, 91),\n",
      "affine=array([[   2.,    0.,    0.,  -90.],\n",
      "       [   0.,    2.,    0., -126.],\n",
      "       [   0.,    0.,    2.,  -72.],\n",
      "       [   0.,    0.,    0.,    1.]])\n",
      ")\n",
      "[NiftiLabelsMasker.transform_single_imgs] Loading data from /Users/fenganyin/Desktop/realdata/data/COBRE/cobre/fmri_0040060.nii.gz\n",
      "[NiftiLabelsMasker.transform_single_imgs] Extracting region signals\n",
      "[NiftiLabelsMasker.transform_single_imgs] Cleaning extracted signals\n",
      "(40, 48)\n",
      "41\n",
      "[NiftiLabelsMasker.fit_transform] loading data from Nifti1Image(\n",
      "shape=(91, 109, 91),\n",
      "affine=array([[   2.,    0.,    0.,  -90.],\n",
      "       [   0.,    2.,    0., -126.],\n",
      "       [   0.,    0.,    2.,  -72.],\n",
      "       [   0.,    0.,    0.,    1.]])\n",
      ")\n",
      "[NiftiLabelsMasker.transform_single_imgs] Loading data from /Users/fenganyin/Desktop/realdata/data/COBRE/cobre/fmri_0040126.nii.gz\n",
      "[NiftiLabelsMasker.transform_single_imgs] Extracting region signals\n",
      "[NiftiLabelsMasker.transform_single_imgs] Cleaning extracted signals\n",
      "(63, 48)\n",
      "42\n",
      "[NiftiLabelsMasker.fit_transform] loading data from Nifti1Image(\n",
      "shape=(91, 109, 91),\n",
      "affine=array([[   2.,    0.,    0.,  -90.],\n",
      "       [   0.,    2.,    0., -126.],\n",
      "       [   0.,    0.,    2.,  -72.],\n",
      "       [   0.,    0.,    0.,    1.]])\n",
      ")\n",
      "[NiftiLabelsMasker.transform_single_imgs] Loading data from /Users/fenganyin/Desktop/realdata/data/COBRE/cobre/fmri_0040112.nii.gz\n",
      "[NiftiLabelsMasker.transform_single_imgs] Extracting region signals\n",
      "[NiftiLabelsMasker.transform_single_imgs] Cleaning extracted signals\n",
      "(60, 48)\n",
      "43\n",
      "[NiftiLabelsMasker.fit_transform] loading data from Nifti1Image(\n",
      "shape=(91, 109, 91),\n",
      "affine=array([[   2.,    0.,    0.,  -90.],\n",
      "       [   0.,    2.,    0., -126.],\n",
      "       [   0.,    0.,    2.,  -72.],\n",
      "       [   0.,    0.,    0.,    1.]])\n",
      ")\n",
      "[NiftiLabelsMasker.transform_single_imgs] Loading data from /Users/fenganyin/Desktop/realdata/data/COBRE/cobre/fmri_0040081.nii.gz\n",
      "[NiftiLabelsMasker.transform_single_imgs] Extracting region signals\n",
      "[NiftiLabelsMasker.transform_single_imgs] Cleaning extracted signals\n",
      "(94, 48)\n",
      "44\n",
      "[NiftiLabelsMasker.fit_transform] loading data from Nifti1Image(\n",
      "shape=(91, 109, 91),\n",
      "affine=array([[   2.,    0.,    0.,  -90.],\n",
      "       [   0.,    2.,    0., -126.],\n",
      "       [   0.,    0.,    2.,  -72.],\n",
      "       [   0.,    0.,    0.,    1.]])\n",
      ")\n",
      "[NiftiLabelsMasker.transform_single_imgs] Loading data from /Users/fenganyin/Desktop/realdata/data/COBRE/cobre/fmri_0040110.nii.gz\n",
      "[NiftiLabelsMasker.transform_single_imgs] Extracting region signals\n",
      "[NiftiLabelsMasker.transform_single_imgs] Cleaning extracted signals\n",
      "(41, 48)\n",
      "45\n",
      "[NiftiLabelsMasker.fit_transform] loading data from Nifti1Image(\n",
      "shape=(91, 109, 91),\n",
      "affine=array([[   2.,    0.,    0.,  -90.],\n",
      "       [   0.,    2.,    0., -126.],\n",
      "       [   0.,    0.,    2.,  -72.],\n",
      "       [   0.,    0.,    0.,    1.]])\n",
      ")\n",
      "[NiftiLabelsMasker.transform_single_imgs] Loading data from /Users/fenganyin/Desktop/realdata/data/COBRE/cobre/fmri_0040049.nii.gz\n",
      "[NiftiLabelsMasker.transform_single_imgs] Extracting region signals\n",
      "[NiftiLabelsMasker.transform_single_imgs] Cleaning extracted signals\n",
      "(41, 48)\n",
      "46\n",
      "[NiftiLabelsMasker.fit_transform] loading data from Nifti1Image(\n",
      "shape=(91, 109, 91),\n",
      "affine=array([[   2.,    0.,    0.,  -90.],\n",
      "       [   0.,    2.,    0., -126.],\n",
      "       [   0.,    0.,    2.,  -72.],\n",
      "       [   0.,    0.,    0.,    1.]])\n",
      ")\n",
      "[NiftiLabelsMasker.transform_single_imgs] Loading data from /Users/fenganyin/Desktop/realdata/data/COBRE/cobre/fmri_0040106.nii.gz\n",
      "[NiftiLabelsMasker.transform_single_imgs] Extracting region signals\n",
      "[NiftiLabelsMasker.transform_single_imgs] Cleaning extracted signals\n",
      "(139, 48)\n",
      "47\n",
      "[NiftiLabelsMasker.fit_transform] loading data from Nifti1Image(\n",
      "shape=(91, 109, 91),\n",
      "affine=array([[   2.,    0.,    0.,  -90.],\n",
      "       [   0.,    2.,    0., -126.],\n",
      "       [   0.,    0.,    2.,  -72.],\n",
      "       [   0.,    0.,    0.,    1.]])\n",
      ")\n",
      "[NiftiLabelsMasker.transform_single_imgs] Loading data from /Users/fenganyin/Desktop/realdata/data/COBRE/cobre/fmri_0040015.nii.gz\n",
      "[NiftiLabelsMasker.transform_single_imgs] Extracting region signals\n",
      "[NiftiLabelsMasker.transform_single_imgs] Cleaning extracted signals\n",
      "(40, 48)\n",
      "48\n",
      "[NiftiLabelsMasker.fit_transform] loading data from Nifti1Image(\n",
      "shape=(91, 109, 91),\n",
      "affine=array([[   2.,    0.,    0.,  -90.],\n",
      "       [   0.,    2.,    0., -126.],\n",
      "       [   0.,    0.,    2.,  -72.],\n",
      "       [   0.,    0.,    0.,    1.]])\n",
      ")\n",
      "[NiftiLabelsMasker.transform_single_imgs] Loading data from /Users/fenganyin/Desktop/realdata/data/COBRE/cobre/fmri_0040005.nii.gz\n",
      "[NiftiLabelsMasker.transform_single_imgs] Extracting region signals\n",
      "[NiftiLabelsMasker.transform_single_imgs] Cleaning extracted signals\n",
      "(40, 48)\n",
      "49\n",
      "[NiftiLabelsMasker.fit_transform] loading data from Nifti1Image(\n",
      "shape=(91, 109, 91),\n",
      "affine=array([[   2.,    0.,    0.,  -90.],\n",
      "       [   0.,    2.,    0., -126.],\n",
      "       [   0.,    0.,    2.,  -72.],\n",
      "       [   0.,    0.,    0.,    1.]])\n",
      ")\n",
      "[NiftiLabelsMasker.transform_single_imgs] Loading data from /Users/fenganyin/Desktop/realdata/data/COBRE/cobre/fmri_0040044.nii.gz\n",
      "[NiftiLabelsMasker.transform_single_imgs] Extracting region signals\n"
     ]
    },
    {
     "name": "stdout",
     "output_type": "stream",
     "text": [
      "[NiftiLabelsMasker.transform_single_imgs] Cleaning extracted signals\n",
      "(41, 48)\n",
      "50\n",
      "[NiftiLabelsMasker.fit_transform] loading data from Nifti1Image(\n",
      "shape=(91, 109, 91),\n",
      "affine=array([[   2.,    0.,    0.,  -90.],\n",
      "       [   0.,    2.,    0., -126.],\n",
      "       [   0.,    0.,    2.,  -72.],\n",
      "       [   0.,    0.,    0.,    1.]])\n",
      ")\n",
      "[NiftiLabelsMasker.transform_single_imgs] Loading data from /Users/fenganyin/Desktop/realdata/data/COBRE/cobre/fmri_0040016.nii.gz\n",
      "[NiftiLabelsMasker.transform_single_imgs] Extracting region signals\n",
      "[NiftiLabelsMasker.transform_single_imgs] Cleaning extracted signals\n",
      "(40, 48)\n",
      "51\n",
      "[NiftiLabelsMasker.fit_transform] loading data from Nifti1Image(\n",
      "shape=(91, 109, 91),\n",
      "affine=array([[   2.,    0.,    0.,  -90.],\n",
      "       [   0.,    2.,    0., -126.],\n",
      "       [   0.,    0.,    2.,  -72.],\n",
      "       [   0.,    0.,    0.,    1.]])\n",
      ")\n",
      "[NiftiLabelsMasker.transform_single_imgs] Loading data from /Users/fenganyin/Desktop/realdata/data/COBRE/cobre/fmri_0040092.nii.gz\n",
      "[NiftiLabelsMasker.transform_single_imgs] Extracting region signals\n",
      "[NiftiLabelsMasker.transform_single_imgs] Cleaning extracted signals\n",
      "(67, 48)\n",
      "52\n",
      "[NiftiLabelsMasker.fit_transform] loading data from Nifti1Image(\n",
      "shape=(91, 109, 91),\n",
      "affine=array([[   2.,    0.,    0.,  -90.],\n",
      "       [   0.,    2.,    0., -126.],\n",
      "       [   0.,    0.,    2.,  -72.],\n",
      "       [   0.,    0.,    0.,    1.]])\n",
      ")\n",
      "[NiftiLabelsMasker.transform_single_imgs] Loading data from /Users/fenganyin/Desktop/realdata/data/COBRE/cobre/fmri_0040082.nii.gz\n",
      "[NiftiLabelsMasker.transform_single_imgs] Extracting region signals\n",
      "[NiftiLabelsMasker.transform_single_imgs] Cleaning extracted signals\n",
      "(42, 48)\n",
      "53\n",
      "[NiftiLabelsMasker.fit_transform] loading data from Nifti1Image(\n",
      "shape=(91, 109, 91),\n",
      "affine=array([[   2.,    0.,    0.,  -90.],\n",
      "       [   0.,    2.,    0., -126.],\n",
      "       [   0.,    0.,    2.,  -72.],\n",
      "       [   0.,    0.,    0.,    1.]])\n",
      ")\n",
      "[NiftiLabelsMasker.transform_single_imgs] Loading data from /Users/fenganyin/Desktop/realdata/data/COBRE/cobre/fmri_0040101.nii.gz\n",
      "[NiftiLabelsMasker.transform_single_imgs] Extracting region signals\n",
      "[NiftiLabelsMasker.transform_single_imgs] Cleaning extracted signals\n",
      "(43, 48)\n",
      "54\n",
      "[NiftiLabelsMasker.fit_transform] loading data from Nifti1Image(\n",
      "shape=(91, 109, 91),\n",
      "affine=array([[   2.,    0.,    0.,  -90.],\n",
      "       [   0.,    2.,    0., -126.],\n",
      "       [   0.,    0.,    2.,  -72.],\n",
      "       [   0.,    0.,    0.,    1.]])\n",
      ")\n",
      "[NiftiLabelsMasker.transform_single_imgs] Loading data from /Users/fenganyin/Desktop/realdata/data/COBRE/cobre/fmri_0040132.nii.gz\n",
      "[NiftiLabelsMasker.transform_single_imgs] Extracting region signals\n",
      "[NiftiLabelsMasker.transform_single_imgs] Cleaning extracted signals\n",
      "(88, 48)\n",
      "55\n",
      "[NiftiLabelsMasker.fit_transform] loading data from Nifti1Image(\n",
      "shape=(91, 109, 91),\n",
      "affine=array([[   2.,    0.,    0.,  -90.],\n",
      "       [   0.,    2.,    0., -126.],\n",
      "       [   0.,    0.,    2.,  -72.],\n",
      "       [   0.,    0.,    0.,    1.]])\n",
      ")\n",
      "[NiftiLabelsMasker.transform_single_imgs] Loading data from /Users/fenganyin/Desktop/realdata/data/COBRE/cobre/fmri_0040039.nii.gz\n",
      "[NiftiLabelsMasker.transform_single_imgs] Extracting region signals\n",
      "[NiftiLabelsMasker.transform_single_imgs] Cleaning extracted signals\n",
      "(40, 48)\n",
      "56\n",
      "[NiftiLabelsMasker.fit_transform] loading data from Nifti1Image(\n",
      "shape=(91, 109, 91),\n",
      "affine=array([[   2.,    0.,    0.,  -90.],\n",
      "       [   0.,    2.,    0., -126.],\n",
      "       [   0.,    0.,    2.,  -72.],\n",
      "       [   0.,    0.,    0.,    1.]])\n",
      ")\n",
      "[NiftiLabelsMasker.transform_single_imgs] Loading data from /Users/fenganyin/Desktop/realdata/data/COBRE/cobre/fmri_0040071.nii.gz\n",
      "[NiftiLabelsMasker.transform_single_imgs] Extracting region signals\n",
      "[NiftiLabelsMasker.transform_single_imgs] Cleaning extracted signals\n",
      "(41, 48)\n",
      "57\n",
      "[NiftiLabelsMasker.fit_transform] loading data from Nifti1Image(\n",
      "shape=(91, 109, 91),\n",
      "affine=array([[   2.,    0.,    0.,  -90.],\n",
      "       [   0.,    2.,    0., -126.],\n",
      "       [   0.,    0.,    2.,  -72.],\n",
      "       [   0.,    0.,    0.,    1.]])\n",
      ")\n",
      "[NiftiLabelsMasker.transform_single_imgs] Loading data from /Users/fenganyin/Desktop/realdata/data/COBRE/cobre/fmri_0040010.nii.gz\n",
      "[NiftiLabelsMasker.transform_single_imgs] Extracting region signals\n",
      "[NiftiLabelsMasker.transform_single_imgs] Cleaning extracted signals\n",
      "(121, 48)\n",
      "58\n",
      "[NiftiLabelsMasker.fit_transform] loading data from Nifti1Image(\n",
      "shape=(91, 109, 91),\n",
      "affine=array([[   2.,    0.,    0.,  -90.],\n",
      "       [   0.,    2.,    0., -126.],\n",
      "       [   0.,    0.,    2.,  -72.],\n",
      "       [   0.,    0.,    0.,    1.]])\n",
      ")\n",
      "[NiftiLabelsMasker.transform_single_imgs] Loading data from /Users/fenganyin/Desktop/realdata/data/COBRE/cobre/fmri_0040097.nii.gz\n",
      "[NiftiLabelsMasker.transform_single_imgs] Extracting region signals\n",
      "[NiftiLabelsMasker.transform_single_imgs] Cleaning extracted signals\n",
      "(40, 48)\n",
      "59\n",
      "[NiftiLabelsMasker.fit_transform] loading data from Nifti1Image(\n",
      "shape=(91, 109, 91),\n",
      "affine=array([[   2.,    0.,    0.,  -90.],\n",
      "       [   0.,    2.,    0., -126.],\n",
      "       [   0.,    0.,    2.,  -72.],\n",
      "       [   0.,    0.,    0.,    1.]])\n",
      ")\n",
      "[NiftiLabelsMasker.transform_single_imgs] Loading data from /Users/fenganyin/Desktop/realdata/data/COBRE/cobre/fmri_0040105.nii.gz\n",
      "[NiftiLabelsMasker.transform_single_imgs] Extracting region signals\n",
      "[NiftiLabelsMasker.transform_single_imgs] Cleaning extracted signals\n",
      "(43, 48)\n",
      "60\n",
      "[NiftiLabelsMasker.fit_transform] loading data from Nifti1Image(\n",
      "shape=(91, 109, 91),\n",
      "affine=array([[   2.,    0.,    0.,  -90.],\n",
      "       [   0.,    2.,    0., -126.],\n",
      "       [   0.,    0.,    2.,  -72.],\n",
      "       [   0.,    0.,    0.,    1.]])\n",
      ")\n",
      "[NiftiLabelsMasker.transform_single_imgs] Loading data from /Users/fenganyin/Desktop/realdata/data/COBRE/cobre/fmri_0040143.nii.gz\n",
      "[NiftiLabelsMasker.transform_single_imgs] Extracting region signals\n",
      "[NiftiLabelsMasker.transform_single_imgs] Cleaning extracted signals\n",
      "(41, 48)\n",
      "61\n",
      "[NiftiLabelsMasker.fit_transform] loading data from Nifti1Image(\n",
      "shape=(91, 109, 91),\n",
      "affine=array([[   2.,    0.,    0.,  -90.],\n",
      "       [   0.,    2.,    0., -126.],\n",
      "       [   0.,    0.,    2.,  -72.],\n",
      "       [   0.,    0.,    0.,    1.]])\n",
      ")\n",
      "[NiftiLabelsMasker.transform_single_imgs] Loading data from /Users/fenganyin/Desktop/realdata/data/COBRE/cobre/fmri_0040006.nii.gz\n",
      "[NiftiLabelsMasker.transform_single_imgs] Extracting region signals\n",
      "[NiftiLabelsMasker.transform_single_imgs] Cleaning extracted signals\n",
      "(87, 48)\n",
      "62\n",
      "[NiftiLabelsMasker.fit_transform] loading data from Nifti1Image(\n",
      "shape=(91, 109, 91),\n",
      "affine=array([[   2.,    0.,    0.,  -90.],\n",
      "       [   0.,    2.,    0., -126.],\n",
      "       [   0.,    0.,    2.,  -72.],\n",
      "       [   0.,    0.,    0.,    1.]])\n",
      ")\n",
      "[NiftiLabelsMasker.transform_single_imgs] Loading data from /Users/fenganyin/Desktop/realdata/data/COBRE/cobre/fmri_0040004.nii.gz\n",
      "[NiftiLabelsMasker.transform_single_imgs] Extracting region signals\n",
      "[NiftiLabelsMasker.transform_single_imgs] Cleaning extracted signals\n",
      "(129, 48)\n",
      "63\n",
      "[NiftiLabelsMasker.fit_transform] loading data from Nifti1Image(\n",
      "shape=(91, 109, 91),\n",
      "affine=array([[   2.,    0.,    0.,  -90.],\n",
      "       [   0.,    2.,    0., -126.],\n",
      "       [   0.,    0.,    2.,  -72.],\n",
      "       [   0.,    0.,    0.,    1.]])\n",
      ")\n",
      "[NiftiLabelsMasker.transform_single_imgs] Loading data from /Users/fenganyin/Desktop/realdata/data/COBRE/cobre/fmri_0040064.nii.gz\n",
      "[NiftiLabelsMasker.transform_single_imgs] Extracting region signals\n",
      "[NiftiLabelsMasker.transform_single_imgs] Cleaning extracted signals\n",
      "(88, 48)\n",
      "64\n",
      "[NiftiLabelsMasker.fit_transform] loading data from Nifti1Image(\n",
      "shape=(91, 109, 91),\n",
      "affine=array([[   2.,    0.,    0.,  -90.],\n",
      "       [   0.,    2.,    0., -126.],\n",
      "       [   0.,    0.,    2.,  -72.],\n",
      "       [   0.,    0.,    0.,    1.]])\n",
      ")\n",
      "[NiftiLabelsMasker.transform_single_imgs] Loading data from /Users/fenganyin/Desktop/realdata/data/COBRE/cobre/fmri_0040078.nii.gz\n",
      "[NiftiLabelsMasker.transform_single_imgs] Extracting region signals\n",
      "[NiftiLabelsMasker.transform_single_imgs] Cleaning extracted signals\n",
      "(125, 48)\n",
      "65\n",
      "[NiftiLabelsMasker.fit_transform] loading data from Nifti1Image(\n",
      "shape=(91, 109, 91),\n",
      "affine=array([[   2.,    0.,    0.,  -90.],\n",
      "       [   0.,    2.,    0., -126.],\n",
      "       [   0.,    0.,    2.,  -72.],\n",
      "       [   0.,    0.,    0.,    1.]])\n",
      ")\n",
      "[NiftiLabelsMasker.transform_single_imgs] Loading data from /Users/fenganyin/Desktop/realdata/data/COBRE/cobre/fmri_0040094.nii.gz\n",
      "[NiftiLabelsMasker.transform_single_imgs] Extracting region signals\n"
     ]
    },
    {
     "name": "stdout",
     "output_type": "stream",
     "text": [
      "[NiftiLabelsMasker.transform_single_imgs] Cleaning extracted signals\n",
      "(65, 48)\n",
      "66\n",
      "[NiftiLabelsMasker.fit_transform] loading data from Nifti1Image(\n",
      "shape=(91, 109, 91),\n",
      "affine=array([[   2.,    0.,    0.,  -90.],\n",
      "       [   0.,    2.,    0., -126.],\n",
      "       [   0.,    0.,    2.,  -72.],\n",
      "       [   0.,    0.,    0.,    1.]])\n",
      ")\n",
      "[NiftiLabelsMasker.transform_single_imgs] Loading data from /Users/fenganyin/Desktop/realdata/data/COBRE/cobre/fmri_0040084.nii.gz\n",
      "[NiftiLabelsMasker.transform_single_imgs] Extracting region signals\n",
      "[NiftiLabelsMasker.transform_single_imgs] Cleaning extracted signals\n",
      "(40, 48)\n",
      "67\n",
      "[NiftiLabelsMasker.fit_transform] loading data from Nifti1Image(\n",
      "shape=(91, 109, 91),\n",
      "affine=array([[   2.,    0.,    0.,  -90.],\n",
      "       [   0.,    2.,    0., -126.],\n",
      "       [   0.,    0.,    2.,  -72.],\n",
      "       [   0.,    0.,    0.,    1.]])\n",
      ")\n",
      "[NiftiLabelsMasker.transform_single_imgs] Loading data from /Users/fenganyin/Desktop/realdata/data/COBRE/cobre/fmri_0040041.nii.gz\n",
      "[NiftiLabelsMasker.transform_single_imgs] Extracting region signals\n",
      "[NiftiLabelsMasker.transform_single_imgs] Cleaning extracted signals\n",
      "(50, 48)\n",
      "68\n",
      "[NiftiLabelsMasker.fit_transform] loading data from Nifti1Image(\n",
      "shape=(91, 109, 91),\n",
      "affine=array([[   2.,    0.,    0.,  -90.],\n",
      "       [   0.,    2.,    0., -126.],\n",
      "       [   0.,    0.,    2.,  -72.],\n",
      "       [   0.,    0.,    0.,    1.]])\n",
      ")\n",
      "[NiftiLabelsMasker.transform_single_imgs] Loading data from /Users/fenganyin/Desktop/realdata/data/COBRE/cobre/fmri_0040089.nii.gz\n",
      "[NiftiLabelsMasker.transform_single_imgs] Extracting region signals\n",
      "[NiftiLabelsMasker.transform_single_imgs] Cleaning extracted signals\n",
      "(40, 48)\n",
      "69\n",
      "[NiftiLabelsMasker.fit_transform] loading data from Nifti1Image(\n",
      "shape=(91, 109, 91),\n",
      "affine=array([[   2.,    0.,    0.,  -90.],\n",
      "       [   0.,    2.,    0., -126.],\n",
      "       [   0.,    0.,    2.,  -72.],\n",
      "       [   0.,    0.,    0.,    1.]])\n",
      ")\n",
      "[NiftiLabelsMasker.transform_single_imgs] Loading data from /Users/fenganyin/Desktop/realdata/data/COBRE/cobre/fmri_0040040.nii.gz\n",
      "[NiftiLabelsMasker.transform_single_imgs] Extracting region signals\n",
      "[NiftiLabelsMasker.transform_single_imgs] Cleaning extracted signals\n",
      "(42, 48)\n",
      "70\n",
      "[NiftiLabelsMasker.fit_transform] loading data from Nifti1Image(\n",
      "shape=(91, 109, 91),\n",
      "affine=array([[   2.,    0.,    0.,  -90.],\n",
      "       [   0.,    2.,    0., -126.],\n",
      "       [   0.,    0.,    2.,  -72.],\n",
      "       [   0.,    0.,    0.,    1.]])\n",
      ")\n",
      "[NiftiLabelsMasker.transform_single_imgs] Loading data from /Users/fenganyin/Desktop/realdata/data/COBRE/cobre/fmri_0040028.nii.gz\n",
      "[NiftiLabelsMasker.transform_single_imgs] Extracting region signals\n",
      "[NiftiLabelsMasker.transform_single_imgs] Cleaning extracted signals\n",
      "(55, 48)\n",
      "71\n",
      "[NiftiLabelsMasker.fit_transform] loading data from Nifti1Image(\n",
      "shape=(91, 109, 91),\n",
      "affine=array([[   2.,    0.,    0.,  -90.],\n",
      "       [   0.,    2.,    0., -126.],\n",
      "       [   0.,    0.,    2.,  -72.],\n",
      "       [   0.,    0.,    0.,    1.]])\n",
      ")\n",
      "[NiftiLabelsMasker.transform_single_imgs] Loading data from /Users/fenganyin/Desktop/realdata/data/COBRE/cobre/fmri_0040007.nii.gz\n",
      "[NiftiLabelsMasker.transform_single_imgs] Extracting region signals\n",
      "[NiftiLabelsMasker.transform_single_imgs] Cleaning extracted signals\n",
      "(40, 48)\n",
      "72\n",
      "[NiftiLabelsMasker.fit_transform] loading data from Nifti1Image(\n",
      "shape=(91, 109, 91),\n",
      "affine=array([[   2.,    0.,    0.,  -90.],\n",
      "       [   0.,    2.,    0., -126.],\n",
      "       [   0.,    0.,    2.,  -72.],\n",
      "       [   0.,    0.,    0.,    1.]])\n",
      ")\n",
      "[NiftiLabelsMasker.transform_single_imgs] Loading data from /Users/fenganyin/Desktop/realdata/data/COBRE/cobre/fmri_0040061.nii.gz\n",
      "[NiftiLabelsMasker.transform_single_imgs] Extracting region signals\n",
      "[NiftiLabelsMasker.transform_single_imgs] Cleaning extracted signals\n",
      "(133, 48)\n",
      "73\n",
      "[NiftiLabelsMasker.fit_transform] loading data from Nifti1Image(\n",
      "shape=(91, 109, 91),\n",
      "affine=array([[   2.,    0.,    0.,  -90.],\n",
      "       [   0.,    2.,    0., -126.],\n",
      "       [   0.,    0.,    2.,  -72.],\n",
      "       [   0.,    0.,    0.,    1.]])\n",
      ")\n",
      "[NiftiLabelsMasker.transform_single_imgs] Loading data from /Users/fenganyin/Desktop/realdata/data/COBRE/cobre/fmri_0040090.nii.gz\n",
      "[NiftiLabelsMasker.transform_single_imgs] Extracting region signals\n",
      "[NiftiLabelsMasker.transform_single_imgs] Cleaning extracted signals\n",
      "(150, 48)\n",
      "74\n",
      "[NiftiLabelsMasker.fit_transform] loading data from Nifti1Image(\n",
      "shape=(91, 109, 91),\n",
      "affine=array([[   2.,    0.,    0.,  -90.],\n",
      "       [   0.,    2.,    0., -126.],\n",
      "       [   0.,    0.,    2.,  -72.],\n",
      "       [   0.,    0.,    0.,    1.]])\n",
      ")\n",
      "[NiftiLabelsMasker.transform_single_imgs] Loading data from /Users/fenganyin/Desktop/realdata/data/COBRE/cobre/fmri_0040113.nii.gz\n",
      "[NiftiLabelsMasker.transform_single_imgs] Extracting region signals\n",
      "[NiftiLabelsMasker.transform_single_imgs] Cleaning extracted signals\n",
      "(126, 48)\n",
      "75\n",
      "[NiftiLabelsMasker.fit_transform] loading data from Nifti1Image(\n",
      "shape=(91, 109, 91),\n",
      "affine=array([[   2.,    0.,    0.,  -90.],\n",
      "       [   0.,    2.,    0., -126.],\n",
      "       [   0.,    0.,    2.,  -72.],\n",
      "       [   0.,    0.,    0.,    1.]])\n",
      ")\n",
      "[NiftiLabelsMasker.transform_single_imgs] Loading data from /Users/fenganyin/Desktop/realdata/data/COBRE/cobre/fmri_0040121.nii.gz\n",
      "[NiftiLabelsMasker.transform_single_imgs] Extracting region signals\n",
      "[NiftiLabelsMasker.transform_single_imgs] Cleaning extracted signals\n",
      "(145, 48)\n",
      "76\n",
      "[NiftiLabelsMasker.fit_transform] loading data from Nifti1Image(\n",
      "shape=(91, 109, 91),\n",
      "affine=array([[   2.,    0.,    0.,  -90.],\n",
      "       [   0.,    2.,    0., -126.],\n",
      "       [   0.,    0.,    2.,  -72.],\n",
      "       [   0.,    0.,    0.,    1.]])\n",
      ")\n",
      "[NiftiLabelsMasker.transform_single_imgs] Loading data from /Users/fenganyin/Desktop/realdata/data/COBRE/cobre/fmri_0040020.nii.gz\n",
      "[NiftiLabelsMasker.transform_single_imgs] Extracting region signals\n",
      "[NiftiLabelsMasker.transform_single_imgs] Cleaning extracted signals\n",
      "(135, 48)\n",
      "77\n",
      "[NiftiLabelsMasker.fit_transform] loading data from Nifti1Image(\n",
      "shape=(91, 109, 91),\n",
      "affine=array([[   2.,    0.,    0.,  -90.],\n",
      "       [   0.,    2.,    0., -126.],\n",
      "       [   0.,    0.,    2.,  -72.],\n",
      "       [   0.,    0.,    0.,    1.]])\n",
      ")\n",
      "[NiftiLabelsMasker.transform_single_imgs] Loading data from /Users/fenganyin/Desktop/realdata/data/COBRE/cobre/fmri_0040052.nii.gz\n",
      "[NiftiLabelsMasker.transform_single_imgs] Extracting region signals\n",
      "[NiftiLabelsMasker.transform_single_imgs] Cleaning extracted signals\n",
      "(122, 48)\n",
      "78\n",
      "[NiftiLabelsMasker.fit_transform] loading data from Nifti1Image(\n",
      "shape=(91, 109, 91),\n",
      "affine=array([[   2.,    0.,    0.,  -90.],\n",
      "       [   0.,    2.,    0., -126.],\n",
      "       [   0.,    0.,    2.,  -72.],\n",
      "       [   0.,    0.,    0.,    1.]])\n",
      ")\n",
      "[NiftiLabelsMasker.transform_single_imgs] Loading data from /Users/fenganyin/Desktop/realdata/data/COBRE/cobre/fmri_0040065.nii.gz\n",
      "[NiftiLabelsMasker.transform_single_imgs] Extracting region signals\n",
      "[NiftiLabelsMasker.transform_single_imgs] Cleaning extracted signals\n",
      "(120, 48)\n",
      "79\n",
      "[NiftiLabelsMasker.fit_transform] loading data from Nifti1Image(\n",
      "shape=(91, 109, 91),\n",
      "affine=array([[   2.,    0.,    0.,  -90.],\n",
      "       [   0.,    2.,    0., -126.],\n",
      "       [   0.,    0.,    2.,  -72.],\n",
      "       [   0.,    0.,    0.,    1.]])\n",
      ")\n",
      "[NiftiLabelsMasker.transform_single_imgs] Loading data from /Users/fenganyin/Desktop/realdata/data/COBRE/cobre/fmri_0040128.nii.gz\n",
      "[NiftiLabelsMasker.transform_single_imgs] Extracting region signals\n",
      "[NiftiLabelsMasker.transform_single_imgs] Cleaning extracted signals\n",
      "(40, 48)\n",
      "80\n",
      "[NiftiLabelsMasker.fit_transform] loading data from Nifti1Image(\n",
      "shape=(91, 109, 91),\n",
      "affine=array([[   2.,    0.,    0.,  -90.],\n",
      "       [   0.,    2.,    0., -126.],\n",
      "       [   0.,    0.,    2.,  -72.],\n",
      "       [   0.,    0.,    0.,    1.]])\n",
      ")\n",
      "[NiftiLabelsMasker.transform_single_imgs] Loading data from /Users/fenganyin/Desktop/realdata/data/COBRE/cobre/fmri_0040051.nii.gz\n",
      "[NiftiLabelsMasker.transform_single_imgs] Extracting region signals\n",
      "[NiftiLabelsMasker.transform_single_imgs] Cleaning extracted signals\n",
      "(145, 48)\n",
      "81\n",
      "[NiftiLabelsMasker.fit_transform] loading data from Nifti1Image(\n",
      "shape=(91, 109, 91),\n",
      "affine=array([[   2.,    0.,    0.,  -90.],\n",
      "       [   0.,    2.,    0., -126.],\n",
      "       [   0.,    0.,    2.,  -72.],\n",
      "       [   0.,    0.,    0.,    1.]])\n",
      ")\n",
      "[NiftiLabelsMasker.transform_single_imgs] Loading data from /Users/fenganyin/Desktop/realdata/data/COBRE/cobre/fmri_0040114.nii.gz\n",
      "[NiftiLabelsMasker.transform_single_imgs] Extracting region signals\n"
     ]
    },
    {
     "name": "stdout",
     "output_type": "stream",
     "text": [
      "[NiftiLabelsMasker.transform_single_imgs] Cleaning extracted signals\n",
      "(49, 48)\n",
      "82\n",
      "[NiftiLabelsMasker.fit_transform] loading data from Nifti1Image(\n",
      "shape=(91, 109, 91),\n",
      "affine=array([[   2.,    0.,    0.,  -90.],\n",
      "       [   0.,    2.,    0., -126.],\n",
      "       [   0.,    0.,    2.,  -72.],\n",
      "       [   0.,    0.,    0.,    1.]])\n",
      ")\n",
      "[NiftiLabelsMasker.transform_single_imgs] Loading data from /Users/fenganyin/Desktop/realdata/data/COBRE/cobre/fmri_0040129.nii.gz\n",
      "[NiftiLabelsMasker.transform_single_imgs] Extracting region signals\n",
      "[NiftiLabelsMasker.transform_single_imgs] Cleaning extracted signals\n",
      "(108, 48)\n",
      "83\n",
      "[NiftiLabelsMasker.fit_transform] loading data from Nifti1Image(\n",
      "shape=(91, 109, 91),\n",
      "affine=array([[   2.,    0.,    0.,  -90.],\n",
      "       [   0.,    2.,    0., -126.],\n",
      "       [   0.,    0.,    2.,  -72.],\n",
      "       [   0.,    0.,    0.,    1.]])\n",
      ")\n",
      "[NiftiLabelsMasker.transform_single_imgs] Loading data from /Users/fenganyin/Desktop/realdata/data/COBRE/cobre/fmri_0040053.nii.gz\n",
      "[NiftiLabelsMasker.transform_single_imgs] Extracting region signals\n",
      "[NiftiLabelsMasker.transform_single_imgs] Cleaning extracted signals\n",
      "(123, 48)\n",
      "84\n",
      "[NiftiLabelsMasker.fit_transform] loading data from Nifti1Image(\n",
      "shape=(91, 109, 91),\n",
      "affine=array([[   2.,    0.,    0.,  -90.],\n",
      "       [   0.,    2.,    0., -126.],\n",
      "       [   0.,    0.,    2.,  -72.],\n",
      "       [   0.,    0.,    0.,    1.]])\n",
      ")\n",
      "[NiftiLabelsMasker.transform_single_imgs] Loading data from /Users/fenganyin/Desktop/realdata/data/COBRE/cobre/fmri_0040068.nii.gz\n",
      "[NiftiLabelsMasker.transform_single_imgs] Extracting region signals\n",
      "[NiftiLabelsMasker.transform_single_imgs] Cleaning extracted signals\n",
      "(128, 48)\n",
      "85\n",
      "[NiftiLabelsMasker.fit_transform] loading data from Nifti1Image(\n",
      "shape=(91, 109, 91),\n",
      "affine=array([[   2.,    0.,    0.,  -90.],\n",
      "       [   0.,    2.,    0., -126.],\n",
      "       [   0.,    0.,    2.,  -72.],\n",
      "       [   0.,    0.,    0.,    1.]])\n",
      ")\n",
      "[NiftiLabelsMasker.transform_single_imgs] Loading data from /Users/fenganyin/Desktop/realdata/data/COBRE/cobre/fmri_0040091.nii.gz\n",
      "[NiftiLabelsMasker.transform_single_imgs] Extracting region signals\n",
      "[NiftiLabelsMasker.transform_single_imgs] Cleaning extracted signals\n",
      "(137, 48)\n",
      "86\n",
      "[NiftiLabelsMasker.fit_transform] loading data from Nifti1Image(\n",
      "shape=(91, 109, 91),\n",
      "affine=array([[   2.,    0.,    0.,  -90.],\n",
      "       [   0.,    2.,    0., -126.],\n",
      "       [   0.,    0.,    2.,  -72.],\n",
      "       [   0.,    0.,    0.,    1.]])\n",
      ")\n",
      "[NiftiLabelsMasker.transform_single_imgs] Loading data from /Users/fenganyin/Desktop/realdata/data/COBRE/cobre/fmri_0040135.nii.gz\n",
      "[NiftiLabelsMasker.transform_single_imgs] Extracting region signals\n",
      "[NiftiLabelsMasker.transform_single_imgs] Cleaning extracted signals\n",
      "(134, 48)\n",
      "87\n",
      "[NiftiLabelsMasker.fit_transform] loading data from Nifti1Image(\n",
      "shape=(91, 109, 91),\n",
      "affine=array([[   2.,    0.,    0.,  -90.],\n",
      "       [   0.,    2.,    0., -126.],\n",
      "       [   0.,    0.,    2.,  -72.],\n",
      "       [   0.,    0.,    0.,    1.]])\n",
      ")\n",
      "[NiftiLabelsMasker.transform_single_imgs] Loading data from /Users/fenganyin/Desktop/realdata/data/COBRE/cobre/fmri_0040093.nii.gz\n",
      "[NiftiLabelsMasker.transform_single_imgs] Extracting region signals\n",
      "[NiftiLabelsMasker.transform_single_imgs] Cleaning extracted signals\n",
      "(150, 48)\n",
      "88\n",
      "[NiftiLabelsMasker.fit_transform] loading data from Nifti1Image(\n",
      "shape=(91, 109, 91),\n",
      "affine=array([[   2.,    0.,    0.,  -90.],\n",
      "       [   0.,    2.,    0., -126.],\n",
      "       [   0.,    0.,    2.,  -72.],\n",
      "       [   0.,    0.,    0.,    1.]])\n",
      ")\n",
      "[NiftiLabelsMasker.transform_single_imgs] Loading data from /Users/fenganyin/Desktop/realdata/data/COBRE/cobre/fmri_0040036.nii.gz\n",
      "[NiftiLabelsMasker.transform_single_imgs] Extracting region signals\n",
      "[NiftiLabelsMasker.transform_single_imgs] Cleaning extracted signals\n",
      "(150, 48)\n",
      "89\n",
      "[NiftiLabelsMasker.fit_transform] loading data from Nifti1Image(\n",
      "shape=(91, 109, 91),\n",
      "affine=array([[   2.,    0.,    0.,  -90.],\n",
      "       [   0.,    2.,    0., -126.],\n",
      "       [   0.,    0.,    2.,  -72.],\n",
      "       [   0.,    0.,    0.,    1.]])\n",
      ")\n",
      "[NiftiLabelsMasker.transform_single_imgs] Loading data from /Users/fenganyin/Desktop/realdata/data/COBRE/cobre/fmri_0040104.nii.gz\n",
      "[NiftiLabelsMasker.transform_single_imgs] Extracting region signals\n",
      "[NiftiLabelsMasker.transform_single_imgs] Cleaning extracted signals\n",
      "(130, 48)\n",
      "90\n",
      "[NiftiLabelsMasker.fit_transform] loading data from Nifti1Image(\n",
      "shape=(91, 109, 91),\n",
      "affine=array([[   2.,    0.,    0.,  -90.],\n",
      "       [   0.,    2.,    0., -126.],\n",
      "       [   0.,    0.,    2.,  -72.],\n",
      "       [   0.,    0.,    0.,    1.]])\n",
      ")\n",
      "[NiftiLabelsMasker.transform_single_imgs] Loading data from /Users/fenganyin/Desktop/realdata/data/COBRE/cobre/fmri_0040120.nii.gz\n",
      "[NiftiLabelsMasker.transform_single_imgs] Extracting region signals\n",
      "[NiftiLabelsMasker.transform_single_imgs] Cleaning extracted signals\n",
      "(114, 48)\n",
      "91\n",
      "[NiftiLabelsMasker.fit_transform] loading data from Nifti1Image(\n",
      "shape=(91, 109, 91),\n",
      "affine=array([[   2.,    0.,    0.,  -90.],\n",
      "       [   0.,    2.,    0., -126.],\n",
      "       [   0.,    0.,    2.,  -72.],\n",
      "       [   0.,    0.,    0.,    1.]])\n",
      ")\n",
      "[NiftiLabelsMasker.transform_single_imgs] Loading data from /Users/fenganyin/Desktop/realdata/data/COBRE/cobre/fmri_0040127.nii.gz\n",
      "[NiftiLabelsMasker.transform_single_imgs] Extracting region signals\n",
      "[NiftiLabelsMasker.transform_single_imgs] Cleaning extracted signals\n",
      "(42, 48)\n",
      "92\n",
      "[NiftiLabelsMasker.fit_transform] loading data from Nifti1Image(\n",
      "shape=(91, 109, 91),\n",
      "affine=array([[   2.,    0.,    0.,  -90.],\n",
      "       [   0.,    2.,    0., -126.],\n",
      "       [   0.,    0.,    2.,  -72.],\n",
      "       [   0.,    0.,    0.,    1.]])\n",
      ")\n",
      "[NiftiLabelsMasker.transform_single_imgs] Loading data from /Users/fenganyin/Desktop/realdata/data/COBRE/cobre/fmri_0040056.nii.gz\n",
      "[NiftiLabelsMasker.transform_single_imgs] Extracting region signals\n",
      "[NiftiLabelsMasker.transform_single_imgs] Cleaning extracted signals\n",
      "(42, 48)\n",
      "93\n",
      "[NiftiLabelsMasker.fit_transform] loading data from Nifti1Image(\n",
      "shape=(91, 109, 91),\n",
      "affine=array([[   2.,    0.,    0.,  -90.],\n",
      "       [   0.,    2.,    0., -126.],\n",
      "       [   0.,    0.,    2.,  -72.],\n",
      "       [   0.,    0.,    0.,    1.]])\n",
      ")\n",
      "[NiftiLabelsMasker.transform_single_imgs] Loading data from /Users/fenganyin/Desktop/realdata/data/COBRE/cobre/fmri_0040058.nii.gz\n",
      "[NiftiLabelsMasker.transform_single_imgs] Extracting region signals\n",
      "[NiftiLabelsMasker.transform_single_imgs] Cleaning extracted signals\n",
      "(92, 48)\n",
      "94\n",
      "[NiftiLabelsMasker.fit_transform] loading data from Nifti1Image(\n",
      "shape=(91, 109, 91),\n",
      "affine=array([[   2.,    0.,    0.,  -90.],\n",
      "       [   0.,    2.,    0., -126.],\n",
      "       [   0.,    0.,    2.,  -72.],\n",
      "       [   0.,    0.,    0.,    1.]])\n",
      ")\n",
      "[NiftiLabelsMasker.transform_single_imgs] Loading data from /Users/fenganyin/Desktop/realdata/data/COBRE/cobre/fmri_0040087.nii.gz\n",
      "[NiftiLabelsMasker.transform_single_imgs] Extracting region signals\n",
      "[NiftiLabelsMasker.transform_single_imgs] Cleaning extracted signals\n",
      "(150, 48)\n",
      "95\n",
      "[NiftiLabelsMasker.fit_transform] loading data from Nifti1Image(\n",
      "shape=(91, 109, 91),\n",
      "affine=array([[   2.,    0.,    0.,  -90.],\n",
      "       [   0.,    2.,    0., -126.],\n",
      "       [   0.,    0.,    2.,  -72.],\n",
      "       [   0.,    0.,    0.,    1.]])\n",
      ")\n",
      "[NiftiLabelsMasker.transform_single_imgs] Loading data from /Users/fenganyin/Desktop/realdata/data/COBRE/cobre/fmri_0040115.nii.gz\n",
      "[NiftiLabelsMasker.transform_single_imgs] Extracting region signals\n",
      "[NiftiLabelsMasker.transform_single_imgs] Cleaning extracted signals\n",
      "(145, 48)\n",
      "96\n",
      "[NiftiLabelsMasker.fit_transform] loading data from Nifti1Image(\n",
      "shape=(91, 109, 91),\n",
      "affine=array([[   2.,    0.,    0.,  -90.],\n",
      "       [   0.,    2.,    0., -126.],\n",
      "       [   0.,    0.,    2.,  -72.],\n",
      "       [   0.,    0.,    0.,    1.]])\n",
      ")\n",
      "[NiftiLabelsMasker.transform_single_imgs] Loading data from /Users/fenganyin/Desktop/realdata/data/COBRE/cobre/fmri_0040138.nii.gz\n",
      "[NiftiLabelsMasker.transform_single_imgs] Extracting region signals\n",
      "[NiftiLabelsMasker.transform_single_imgs] Cleaning extracted signals\n",
      "(104, 48)\n",
      "97\n",
      "[NiftiLabelsMasker.fit_transform] loading data from Nifti1Image(\n",
      "shape=(91, 109, 91),\n",
      "affine=array([[   2.,    0.,    0.,  -90.],\n",
      "       [   0.,    2.,    0., -126.],\n",
      "       [   0.,    0.,    2.,  -72.],\n",
      "       [   0.,    0.,    0.,    1.]])\n",
      ")\n",
      "[NiftiLabelsMasker.transform_single_imgs] Loading data from /Users/fenganyin/Desktop/realdata/data/COBRE/cobre/fmri_0040139.nii.gz\n",
      "[NiftiLabelsMasker.transform_single_imgs] Extracting region signals\n"
     ]
    },
    {
     "name": "stdout",
     "output_type": "stream",
     "text": [
      "[NiftiLabelsMasker.transform_single_imgs] Cleaning extracted signals\n",
      "(150, 48)\n",
      "98\n",
      "[NiftiLabelsMasker.fit_transform] loading data from Nifti1Image(\n",
      "shape=(91, 109, 91),\n",
      "affine=array([[   2.,    0.,    0.,  -90.],\n",
      "       [   0.,    2.,    0., -126.],\n",
      "       [   0.,    0.,    2.,  -72.],\n",
      "       [   0.,    0.,    0.,    1.]])\n",
      ")\n",
      "[NiftiLabelsMasker.transform_single_imgs] Loading data from /Users/fenganyin/Desktop/realdata/data/COBRE/cobre/fmri_0040017.nii.gz\n",
      "[NiftiLabelsMasker.transform_single_imgs] Extracting region signals\n",
      "[NiftiLabelsMasker.transform_single_imgs] Cleaning extracted signals\n",
      "(73, 48)\n",
      "99\n",
      "[NiftiLabelsMasker.fit_transform] loading data from Nifti1Image(\n",
      "shape=(91, 109, 91),\n",
      "affine=array([[   2.,    0.,    0.,  -90.],\n",
      "       [   0.,    2.,    0., -126.],\n",
      "       [   0.,    0.,    2.,  -72.],\n",
      "       [   0.,    0.,    0.,    1.]])\n",
      ")\n",
      "[NiftiLabelsMasker.transform_single_imgs] Loading data from /Users/fenganyin/Desktop/realdata/data/COBRE/cobre/fmri_0040035.nii.gz\n",
      "[NiftiLabelsMasker.transform_single_imgs] Extracting region signals\n",
      "[NiftiLabelsMasker.transform_single_imgs] Cleaning extracted signals\n",
      "(125, 48)\n",
      "100\n",
      "[NiftiLabelsMasker.fit_transform] loading data from Nifti1Image(\n",
      "shape=(91, 109, 91),\n",
      "affine=array([[   2.,    0.,    0.,  -90.],\n",
      "       [   0.,    2.,    0., -126.],\n",
      "       [   0.,    0.,    2.,  -72.],\n",
      "       [   0.,    0.,    0.,    1.]])\n",
      ")\n",
      "[NiftiLabelsMasker.transform_single_imgs] Loading data from /Users/fenganyin/Desktop/realdata/data/COBRE/cobre/fmri_0040045.nii.gz\n",
      "[NiftiLabelsMasker.transform_single_imgs] Extracting region signals\n",
      "[NiftiLabelsMasker.transform_single_imgs] Cleaning extracted signals\n",
      "(139, 48)\n",
      "101\n",
      "[NiftiLabelsMasker.fit_transform] loading data from Nifti1Image(\n",
      "shape=(91, 109, 91),\n",
      "affine=array([[   2.,    0.,    0.,  -90.],\n",
      "       [   0.,    2.,    0., -126.],\n",
      "       [   0.,    0.,    2.,  -72.],\n",
      "       [   0.,    0.,    0.,    1.]])\n",
      ")\n",
      "[NiftiLabelsMasker.transform_single_imgs] Loading data from /Users/fenganyin/Desktop/realdata/data/COBRE/cobre/fmri_0040055.nii.gz\n",
      "[NiftiLabelsMasker.transform_single_imgs] Extracting region signals\n",
      "[NiftiLabelsMasker.transform_single_imgs] Cleaning extracted signals\n",
      "(106, 48)\n",
      "102\n",
      "[NiftiLabelsMasker.fit_transform] loading data from Nifti1Image(\n",
      "shape=(91, 109, 91),\n",
      "affine=array([[   2.,    0.,    0.,  -90.],\n",
      "       [   0.,    2.,    0., -126.],\n",
      "       [   0.,    0.,    2.,  -72.],\n",
      "       [   0.,    0.,    0.,    1.]])\n",
      ")\n",
      "[NiftiLabelsMasker.transform_single_imgs] Loading data from /Users/fenganyin/Desktop/realdata/data/COBRE/cobre/fmri_0040014.nii.gz\n",
      "[NiftiLabelsMasker.transform_single_imgs] Extracting region signals\n",
      "[NiftiLabelsMasker.transform_single_imgs] Cleaning extracted signals\n",
      "(80, 48)\n",
      "103\n",
      "[NiftiLabelsMasker.fit_transform] loading data from Nifti1Image(\n",
      "shape=(91, 109, 91),\n",
      "affine=array([[   2.,    0.,    0.,  -90.],\n",
      "       [   0.,    2.,    0., -126.],\n",
      "       [   0.,    0.,    2.,  -72.],\n",
      "       [   0.,    0.,    0.,    1.]])\n",
      ")\n",
      "[NiftiLabelsMasker.transform_single_imgs] Loading data from /Users/fenganyin/Desktop/realdata/data/COBRE/cobre/fmri_0040033.nii.gz\n",
      "[NiftiLabelsMasker.transform_single_imgs] Extracting region signals\n",
      "[NiftiLabelsMasker.transform_single_imgs] Cleaning extracted signals\n",
      "(150, 48)\n",
      "104\n",
      "[NiftiLabelsMasker.fit_transform] loading data from Nifti1Image(\n",
      "shape=(91, 109, 91),\n",
      "affine=array([[   2.,    0.,    0.,  -90.],\n",
      "       [   0.,    2.,    0., -126.],\n",
      "       [   0.,    0.,    2.,  -72.],\n",
      "       [   0.,    0.,    0.,    1.]])\n",
      ")\n",
      "[NiftiLabelsMasker.transform_single_imgs] Loading data from /Users/fenganyin/Desktop/realdata/data/COBRE/cobre/fmri_0040048.nii.gz\n",
      "[NiftiLabelsMasker.transform_single_imgs] Extracting region signals\n",
      "[NiftiLabelsMasker.transform_single_imgs] Cleaning extracted signals\n",
      "(123, 48)\n",
      "105\n",
      "[NiftiLabelsMasker.fit_transform] loading data from Nifti1Image(\n",
      "shape=(91, 109, 91),\n",
      "affine=array([[   2.,    0.,    0.,  -90.],\n",
      "       [   0.,    2.,    0., -126.],\n",
      "       [   0.,    0.,    2.,  -72.],\n",
      "       [   0.,    0.,    0.,    1.]])\n",
      ")\n",
      "[NiftiLabelsMasker.transform_single_imgs] Loading data from /Users/fenganyin/Desktop/realdata/data/COBRE/cobre/fmri_0040067.nii.gz\n",
      "[NiftiLabelsMasker.transform_single_imgs] Extracting region signals\n",
      "[NiftiLabelsMasker.transform_single_imgs] Cleaning extracted signals\n",
      "(150, 48)\n",
      "106\n",
      "[NiftiLabelsMasker.fit_transform] loading data from Nifti1Image(\n",
      "shape=(91, 109, 91),\n",
      "affine=array([[   2.,    0.,    0.,  -90.],\n",
      "       [   0.,    2.,    0., -126.],\n",
      "       [   0.,    0.,    2.,  -72.],\n",
      "       [   0.,    0.,    0.,    1.]])\n",
      ")\n",
      "[NiftiLabelsMasker.transform_single_imgs] Loading data from /Users/fenganyin/Desktop/realdata/data/COBRE/cobre/fmri_0040107.nii.gz\n",
      "[NiftiLabelsMasker.transform_single_imgs] Extracting region signals\n",
      "[NiftiLabelsMasker.transform_single_imgs] Cleaning extracted signals\n",
      "(44, 48)\n",
      "107\n",
      "[NiftiLabelsMasker.fit_transform] loading data from Nifti1Image(\n",
      "shape=(91, 109, 91),\n",
      "affine=array([[   2.,    0.,    0.,  -90.],\n",
      "       [   0.,    2.,    0., -126.],\n",
      "       [   0.,    0.,    2.,  -72.],\n",
      "       [   0.,    0.,    0.,    1.]])\n",
      ")\n",
      "[NiftiLabelsMasker.transform_single_imgs] Loading data from /Users/fenganyin/Desktop/realdata/data/COBRE/cobre/fmri_0040013.nii.gz\n",
      "[NiftiLabelsMasker.transform_single_imgs] Extracting region signals\n",
      "[NiftiLabelsMasker.transform_single_imgs] Cleaning extracted signals\n",
      "(144, 48)\n",
      "108\n",
      "[NiftiLabelsMasker.fit_transform] loading data from Nifti1Image(\n",
      "shape=(91, 109, 91),\n",
      "affine=array([[   2.,    0.,    0.,  -90.],\n",
      "       [   0.,    2.,    0., -126.],\n",
      "       [   0.,    0.,    2.,  -72.],\n",
      "       [   0.,    0.,    0.,    1.]])\n",
      ")\n",
      "[NiftiLabelsMasker.transform_single_imgs] Loading data from /Users/fenganyin/Desktop/realdata/data/COBRE/cobre/fmri_0040074.nii.gz\n",
      "[NiftiLabelsMasker.transform_single_imgs] Extracting region signals\n",
      "[NiftiLabelsMasker.transform_single_imgs] Cleaning extracted signals\n",
      "(42, 48)\n",
      "109\n",
      "[NiftiLabelsMasker.fit_transform] loading data from Nifti1Image(\n",
      "shape=(91, 109, 91),\n",
      "affine=array([[   2.,    0.,    0.,  -90.],\n",
      "       [   0.,    2.,    0., -126.],\n",
      "       [   0.,    0.,    2.,  -72.],\n",
      "       [   0.,    0.,    0.,    1.]])\n",
      ")\n",
      "[NiftiLabelsMasker.transform_single_imgs] Loading data from /Users/fenganyin/Desktop/realdata/data/COBRE/cobre/fmri_0040118.nii.gz\n",
      "[NiftiLabelsMasker.transform_single_imgs] Extracting region signals\n",
      "[NiftiLabelsMasker.transform_single_imgs] Cleaning extracted signals\n",
      "(134, 48)\n",
      "110\n",
      "[NiftiLabelsMasker.fit_transform] loading data from Nifti1Image(\n",
      "shape=(91, 109, 91),\n",
      "affine=array([[   2.,    0.,    0.,  -90.],\n",
      "       [   0.,    2.,    0., -126.],\n",
      "       [   0.,    0.,    2.,  -72.],\n",
      "       [   0.,    0.,    0.,    1.]])\n",
      ")\n",
      "[NiftiLabelsMasker.transform_single_imgs] Loading data from /Users/fenganyin/Desktop/realdata/data/COBRE/cobre/fmri_0040147.nii.gz\n",
      "[NiftiLabelsMasker.transform_single_imgs] Extracting region signals\n",
      "[NiftiLabelsMasker.transform_single_imgs] Cleaning extracted signals\n",
      "(118, 48)\n",
      "111\n",
      "[NiftiLabelsMasker.fit_transform] loading data from Nifti1Image(\n",
      "shape=(91, 109, 91),\n",
      "affine=array([[   2.,    0.,    0.,  -90.],\n",
      "       [   0.,    2.,    0., -126.],\n",
      "       [   0.,    0.,    2.,  -72.],\n",
      "       [   0.,    0.,    0.,    1.]])\n",
      ")\n",
      "[NiftiLabelsMasker.transform_single_imgs] Loading data from /Users/fenganyin/Desktop/realdata/data/COBRE/cobre/fmri_0040124.nii.gz\n",
      "[NiftiLabelsMasker.transform_single_imgs] Extracting region signals\n",
      "[NiftiLabelsMasker.transform_single_imgs] Cleaning extracted signals\n",
      "(131, 48)\n",
      "112\n",
      "[NiftiLabelsMasker.fit_transform] loading data from Nifti1Image(\n",
      "shape=(91, 109, 91),\n",
      "affine=array([[   2.,    0.,    0.,  -90.],\n",
      "       [   0.,    2.,    0., -126.],\n",
      "       [   0.,    0.,    2.,  -72.],\n",
      "       [   0.,    0.,    0.,    1.]])\n",
      ")\n",
      "[NiftiLabelsMasker.transform_single_imgs] Loading data from /Users/fenganyin/Desktop/realdata/data/COBRE/cobre/fmri_0040141.nii.gz\n",
      "[NiftiLabelsMasker.transform_single_imgs] Extracting region signals\n",
      "[NiftiLabelsMasker.transform_single_imgs] Cleaning extracted signals\n",
      "(102, 48)\n",
      "113\n",
      "[NiftiLabelsMasker.fit_transform] loading data from Nifti1Image(\n",
      "shape=(91, 109, 91),\n",
      "affine=array([[   2.,    0.,    0.,  -90.],\n",
      "       [   0.,    2.,    0., -126.],\n",
      "       [   0.,    0.,    2.,  -72.],\n",
      "       [   0.,    0.,    0.,    1.]])\n",
      ")\n",
      "[NiftiLabelsMasker.transform_single_imgs] Loading data from /Users/fenganyin/Desktop/realdata/data/COBRE/cobre/fmri_0040050.nii.gz\n",
      "[NiftiLabelsMasker.transform_single_imgs] Extracting region signals\n"
     ]
    },
    {
     "name": "stdout",
     "output_type": "stream",
     "text": [
      "[NiftiLabelsMasker.transform_single_imgs] Cleaning extracted signals\n",
      "(133, 48)\n",
      "114\n",
      "[NiftiLabelsMasker.fit_transform] loading data from Nifti1Image(\n",
      "shape=(91, 109, 91),\n",
      "affine=array([[   2.,    0.,    0.,  -90.],\n",
      "       [   0.,    2.,    0., -126.],\n",
      "       [   0.,    0.,    2.,  -72.],\n",
      "       [   0.,    0.,    0.,    1.]])\n",
      ")\n",
      "[NiftiLabelsMasker.transform_single_imgs] Loading data from /Users/fenganyin/Desktop/realdata/data/COBRE/cobre/fmri_0040057.nii.gz\n",
      "[NiftiLabelsMasker.transform_single_imgs] Extracting region signals\n",
      "[NiftiLabelsMasker.transform_single_imgs] Cleaning extracted signals\n",
      "(84, 48)\n",
      "115\n",
      "[NiftiLabelsMasker.fit_transform] loading data from Nifti1Image(\n",
      "shape=(91, 109, 91),\n",
      "affine=array([[   2.,    0.,    0.,  -90.],\n",
      "       [   0.,    2.,    0., -126.],\n",
      "       [   0.,    0.,    2.,  -72.],\n",
      "       [   0.,    0.,    0.,    1.]])\n",
      ")\n",
      "[NiftiLabelsMasker.transform_single_imgs] Loading data from /Users/fenganyin/Desktop/realdata/data/COBRE/cobre/fmri_0040063.nii.gz\n",
      "[NiftiLabelsMasker.transform_single_imgs] Extracting region signals\n",
      "[NiftiLabelsMasker.transform_single_imgs] Cleaning extracted signals\n",
      "(150, 48)\n",
      "116\n",
      "[NiftiLabelsMasker.fit_transform] loading data from Nifti1Image(\n",
      "shape=(91, 109, 91),\n",
      "affine=array([[   2.,    0.,    0.,  -90.],\n",
      "       [   0.,    2.,    0., -126.],\n",
      "       [   0.,    0.,    2.,  -72.],\n",
      "       [   0.,    0.,    0.,    1.]])\n",
      ")\n",
      "[NiftiLabelsMasker.transform_single_imgs] Loading data from /Users/fenganyin/Desktop/realdata/data/COBRE/cobre/fmri_0040043.nii.gz\n",
      "[NiftiLabelsMasker.transform_single_imgs] Extracting region signals\n",
      "[NiftiLabelsMasker.transform_single_imgs] Cleaning extracted signals\n",
      "(150, 48)\n",
      "117\n",
      "[NiftiLabelsMasker.fit_transform] loading data from Nifti1Image(\n",
      "shape=(91, 109, 91),\n",
      "affine=array([[   2.,    0.,    0.,  -90.],\n",
      "       [   0.,    2.,    0., -126.],\n",
      "       [   0.,    0.,    2.,  -72.],\n",
      "       [   0.,    0.,    0.,    1.]])\n",
      ")\n",
      "[NiftiLabelsMasker.transform_single_imgs] Loading data from /Users/fenganyin/Desktop/realdata/data/COBRE/cobre/fmri_0040136.nii.gz\n",
      "[NiftiLabelsMasker.transform_single_imgs] Extracting region signals\n",
      "[NiftiLabelsMasker.transform_single_imgs] Cleaning extracted signals\n",
      "(40, 48)\n",
      "118\n",
      "[NiftiLabelsMasker.fit_transform] loading data from Nifti1Image(\n",
      "shape=(91, 109, 91),\n",
      "affine=array([[   2.,    0.,    0.,  -90.],\n",
      "       [   0.,    2.,    0., -126.],\n",
      "       [   0.,    0.,    2.,  -72.],\n",
      "       [   0.,    0.,    0.,    1.]])\n",
      ")\n",
      "[NiftiLabelsMasker.transform_single_imgs] Loading data from /Users/fenganyin/Desktop/realdata/data/COBRE/cobre/fmri_0040146.nii.gz\n",
      "[NiftiLabelsMasker.transform_single_imgs] Extracting region signals\n",
      "[NiftiLabelsMasker.transform_single_imgs] Cleaning extracted signals\n",
      "(150, 48)\n",
      "119\n",
      "[NiftiLabelsMasker.fit_transform] loading data from Nifti1Image(\n",
      "shape=(91, 109, 91),\n",
      "affine=array([[   2.,    0.,    0.,  -90.],\n",
      "       [   0.,    2.,    0., -126.],\n",
      "       [   0.,    0.,    2.,  -72.],\n",
      "       [   0.,    0.,    0.,    1.]])\n",
      ")\n",
      "[NiftiLabelsMasker.transform_single_imgs] Loading data from /Users/fenganyin/Desktop/realdata/data/COBRE/cobre/fmri_0040095.nii.gz\n",
      "[NiftiLabelsMasker.transform_single_imgs] Extracting region signals\n",
      "[NiftiLabelsMasker.transform_single_imgs] Cleaning extracted signals\n",
      "(40, 48)\n",
      "120\n",
      "[NiftiLabelsMasker.fit_transform] loading data from Nifti1Image(\n",
      "shape=(91, 109, 91),\n",
      "affine=array([[   2.,    0.,    0.,  -90.],\n",
      "       [   0.,    2.,    0., -126.],\n",
      "       [   0.,    0.,    2.,  -72.],\n",
      "       [   0.,    0.,    0.,    1.]])\n",
      ")\n",
      "[NiftiLabelsMasker.transform_single_imgs] Loading data from /Users/fenganyin/Desktop/realdata/data/COBRE/cobre/fmri_0040102.nii.gz\n",
      "[NiftiLabelsMasker.transform_single_imgs] Extracting region signals\n",
      "[NiftiLabelsMasker.transform_single_imgs] Cleaning extracted signals\n",
      "(129, 48)\n",
      "121\n",
      "[NiftiLabelsMasker.fit_transform] loading data from Nifti1Image(\n",
      "shape=(91, 109, 91),\n",
      "affine=array([[   2.,    0.,    0.,  -90.],\n",
      "       [   0.,    2.,    0., -126.],\n",
      "       [   0.,    0.,    2.,  -72.],\n",
      "       [   0.,    0.,    0.,    1.]])\n",
      ")\n",
      "[NiftiLabelsMasker.transform_single_imgs] Loading data from /Users/fenganyin/Desktop/realdata/data/COBRE/cobre/fmri_0040024.nii.gz\n",
      "[NiftiLabelsMasker.transform_single_imgs] Extracting region signals\n",
      "[NiftiLabelsMasker.transform_single_imgs] Cleaning extracted signals\n",
      "(40, 48)\n",
      "122\n",
      "[NiftiLabelsMasker.fit_transform] loading data from Nifti1Image(\n",
      "shape=(91, 109, 91),\n",
      "affine=array([[   2.,    0.,    0.,  -90.],\n",
      "       [   0.,    2.,    0., -126.],\n",
      "       [   0.,    0.,    2.,  -72.],\n",
      "       [   0.,    0.,    0.,    1.]])\n",
      ")\n",
      "[NiftiLabelsMasker.transform_single_imgs] Loading data from /Users/fenganyin/Desktop/realdata/data/COBRE/cobre/fmri_0040134.nii.gz\n",
      "[NiftiLabelsMasker.transform_single_imgs] Extracting region signals\n",
      "[NiftiLabelsMasker.transform_single_imgs] Cleaning extracted signals\n",
      "(145, 48)\n",
      "123\n",
      "[NiftiLabelsMasker.fit_transform] loading data from Nifti1Image(\n",
      "shape=(91, 109, 91),\n",
      "affine=array([[   2.,    0.,    0.,  -90.],\n",
      "       [   0.,    2.,    0., -126.],\n",
      "       [   0.,    0.,    2.,  -72.],\n",
      "       [   0.,    0.,    0.,    1.]])\n",
      ")\n",
      "[NiftiLabelsMasker.transform_single_imgs] Loading data from /Users/fenganyin/Desktop/realdata/data/COBRE/cobre/fmri_0040030.nii.gz\n",
      "[NiftiLabelsMasker.transform_single_imgs] Extracting region signals\n",
      "[NiftiLabelsMasker.transform_single_imgs] Cleaning extracted signals\n",
      "(40, 48)\n",
      "124\n",
      "[NiftiLabelsMasker.fit_transform] loading data from Nifti1Image(\n",
      "shape=(91, 109, 91),\n",
      "affine=array([[   2.,    0.,    0.,  -90.],\n",
      "       [   0.,    2.,    0., -126.],\n",
      "       [   0.,    0.,    2.,  -72.],\n",
      "       [   0.,    0.,    0.,    1.]])\n",
      ")\n",
      "[NiftiLabelsMasker.transform_single_imgs] Loading data from /Users/fenganyin/Desktop/realdata/data/COBRE/cobre/fmri_0040031.nii.gz\n",
      "[NiftiLabelsMasker.transform_single_imgs] Extracting region signals\n",
      "[NiftiLabelsMasker.transform_single_imgs] Cleaning extracted signals\n",
      "(42, 48)\n",
      "125\n",
      "[NiftiLabelsMasker.fit_transform] loading data from Nifti1Image(\n",
      "shape=(91, 109, 91),\n",
      "affine=array([[   2.,    0.,    0.,  -90.],\n",
      "       [   0.,    2.,    0., -126.],\n",
      "       [   0.,    0.,    2.,  -72.],\n",
      "       [   0.,    0.,    0.,    1.]])\n",
      ")\n",
      "[NiftiLabelsMasker.transform_single_imgs] Loading data from /Users/fenganyin/Desktop/realdata/data/COBRE/cobre/fmri_0040019.nii.gz\n",
      "[NiftiLabelsMasker.transform_single_imgs] Extracting region signals\n",
      "[NiftiLabelsMasker.transform_single_imgs] Cleaning extracted signals\n",
      "(119, 48)\n",
      "126\n",
      "[NiftiLabelsMasker.fit_transform] loading data from Nifti1Image(\n",
      "shape=(91, 109, 91),\n",
      "affine=array([[   2.,    0.,    0.,  -90.],\n",
      "       [   0.,    2.,    0., -126.],\n",
      "       [   0.,    0.,    2.,  -72.],\n",
      "       [   0.,    0.,    0.,    1.]])\n",
      ")\n",
      "[NiftiLabelsMasker.transform_single_imgs] Loading data from /Users/fenganyin/Desktop/realdata/data/COBRE/cobre/fmri_0040026.nii.gz\n",
      "[NiftiLabelsMasker.transform_single_imgs] Extracting region signals\n",
      "[NiftiLabelsMasker.transform_single_imgs] Cleaning extracted signals\n",
      "(41, 48)\n",
      "127\n",
      "[NiftiLabelsMasker.fit_transform] loading data from Nifti1Image(\n",
      "shape=(91, 109, 91),\n",
      "affine=array([[   2.,    0.,    0.,  -90.],\n",
      "       [   0.,    2.,    0., -126.],\n",
      "       [   0.,    0.,    2.,  -72.],\n",
      "       [   0.,    0.,    0.,    1.]])\n",
      ")\n",
      "[NiftiLabelsMasker.transform_single_imgs] Loading data from /Users/fenganyin/Desktop/realdata/data/COBRE/cobre/fmri_0040119.nii.gz\n",
      "[NiftiLabelsMasker.transform_single_imgs] Extracting region signals\n",
      "[NiftiLabelsMasker.transform_single_imgs] Cleaning extracted signals\n",
      "(87, 48)\n",
      "128\n",
      "[NiftiLabelsMasker.fit_transform] loading data from Nifti1Image(\n",
      "shape=(91, 109, 91),\n",
      "affine=array([[   2.,    0.,    0.,  -90.],\n",
      "       [   0.,    2.,    0., -126.],\n",
      "       [   0.,    0.,    2.,  -72.],\n",
      "       [   0.,    0.,    0.,    1.]])\n",
      ")\n",
      "[NiftiLabelsMasker.transform_single_imgs] Loading data from /Users/fenganyin/Desktop/realdata/data/COBRE/cobre/fmri_0040018.nii.gz\n",
      "[NiftiLabelsMasker.transform_single_imgs] Extracting region signals\n",
      "[NiftiLabelsMasker.transform_single_imgs] Cleaning extracted signals\n",
      "(116, 48)\n",
      "129\n",
      "[NiftiLabelsMasker.fit_transform] loading data from Nifti1Image(\n",
      "shape=(91, 109, 91),\n",
      "affine=array([[   2.,    0.,    0.,  -90.],\n",
      "       [   0.,    2.,    0., -126.],\n",
      "       [   0.,    0.,    2.,  -72.],\n",
      "       [   0.,    0.,    0.,    1.]])\n",
      ")\n",
      "[NiftiLabelsMasker.transform_single_imgs] Loading data from /Users/fenganyin/Desktop/realdata/data/COBRE/cobre/fmri_0040116.nii.gz\n",
      "[NiftiLabelsMasker.transform_single_imgs] Extracting region signals\n"
     ]
    },
    {
     "name": "stdout",
     "output_type": "stream",
     "text": [
      "[NiftiLabelsMasker.transform_single_imgs] Cleaning extracted signals\n",
      "(63, 48)\n",
      "130\n",
      "[NiftiLabelsMasker.fit_transform] loading data from Nifti1Image(\n",
      "shape=(91, 109, 91),\n",
      "affine=array([[   2.,    0.,    0.,  -90.],\n",
      "       [   0.,    2.,    0., -126.],\n",
      "       [   0.,    0.,    2.,  -72.],\n",
      "       [   0.,    0.,    0.,    1.]])\n",
      ")\n",
      "[NiftiLabelsMasker.transform_single_imgs] Loading data from /Users/fenganyin/Desktop/realdata/data/COBRE/cobre/fmri_0040130.nii.gz\n",
      "[NiftiLabelsMasker.transform_single_imgs] Extracting region signals\n",
      "[NiftiLabelsMasker.transform_single_imgs] Cleaning extracted signals\n",
      "(130, 48)\n",
      "131\n",
      "[NiftiLabelsMasker.fit_transform] loading data from Nifti1Image(\n",
      "shape=(91, 109, 91),\n",
      "affine=array([[   2.,    0.,    0.,  -90.],\n",
      "       [   0.,    2.,    0., -126.],\n",
      "       [   0.,    0.,    2.,  -72.],\n",
      "       [   0.,    0.,    0.,    1.]])\n",
      ")\n",
      "[NiftiLabelsMasker.transform_single_imgs] Loading data from /Users/fenganyin/Desktop/realdata/data/COBRE/cobre/fmri_0040131.nii.gz\n",
      "[NiftiLabelsMasker.transform_single_imgs] Extracting region signals\n",
      "[NiftiLabelsMasker.transform_single_imgs] Cleaning extracted signals\n",
      "(77, 48)\n",
      "132\n",
      "[NiftiLabelsMasker.fit_transform] loading data from Nifti1Image(\n",
      "shape=(91, 109, 91),\n",
      "affine=array([[   2.,    0.,    0.,  -90.],\n",
      "       [   0.,    2.,    0., -126.],\n",
      "       [   0.,    0.,    2.,  -72.],\n",
      "       [   0.,    0.,    0.,    1.]])\n",
      ")\n",
      "[NiftiLabelsMasker.transform_single_imgs] Loading data from /Users/fenganyin/Desktop/realdata/data/COBRE/cobre/fmri_0040023.nii.gz\n",
      "[NiftiLabelsMasker.transform_single_imgs] Extracting region signals\n",
      "[NiftiLabelsMasker.transform_single_imgs] Cleaning extracted signals\n",
      "(124, 48)\n",
      "133\n",
      "[NiftiLabelsMasker.fit_transform] loading data from Nifti1Image(\n",
      "shape=(91, 109, 91),\n",
      "affine=array([[   2.,    0.,    0.,  -90.],\n",
      "       [   0.,    2.,    0., -126.],\n",
      "       [   0.,    0.,    2.,  -72.],\n",
      "       [   0.,    0.,    0.,    1.]])\n",
      ")\n",
      "[NiftiLabelsMasker.transform_single_imgs] Loading data from /Users/fenganyin/Desktop/realdata/data/COBRE/cobre/fmri_0040027.nii.gz\n",
      "[NiftiLabelsMasker.transform_single_imgs] Extracting region signals\n",
      "[NiftiLabelsMasker.transform_single_imgs] Cleaning extracted signals\n",
      "(116, 48)\n",
      "134\n",
      "[NiftiLabelsMasker.fit_transform] loading data from Nifti1Image(\n",
      "shape=(91, 109, 91),\n",
      "affine=array([[   2.,    0.,    0.,  -90.],\n",
      "       [   0.,    2.,    0., -126.],\n",
      "       [   0.,    0.,    2.,  -72.],\n",
      "       [   0.,    0.,    0.,    1.]])\n",
      ")\n",
      "[NiftiLabelsMasker.transform_single_imgs] Loading data from /Users/fenganyin/Desktop/realdata/data/COBRE/cobre/fmri_0040123.nii.gz\n",
      "[NiftiLabelsMasker.transform_single_imgs] Extracting region signals\n",
      "[NiftiLabelsMasker.transform_single_imgs] Cleaning extracted signals\n",
      "(145, 48)\n",
      "135\n",
      "[NiftiLabelsMasker.fit_transform] loading data from Nifti1Image(\n",
      "shape=(91, 109, 91),\n",
      "affine=array([[   2.,    0.,    0.,  -90.],\n",
      "       [   0.,    2.,    0., -126.],\n",
      "       [   0.,    0.,    2.,  -72.],\n",
      "       [   0.,    0.,    0.,    1.]])\n",
      ")\n",
      "[NiftiLabelsMasker.transform_single_imgs] Loading data from /Users/fenganyin/Desktop/realdata/data/COBRE/cobre/fmri_0040125.nii.gz\n",
      "[NiftiLabelsMasker.transform_single_imgs] Extracting region signals\n",
      "[NiftiLabelsMasker.transform_single_imgs] Cleaning extracted signals\n",
      "(83, 48)\n",
      "136\n",
      "[NiftiLabelsMasker.fit_transform] loading data from Nifti1Image(\n",
      "shape=(91, 109, 91),\n",
      "affine=array([[   2.,    0.,    0.,  -90.],\n",
      "       [   0.,    2.,    0., -126.],\n",
      "       [   0.,    0.,    2.,  -72.],\n",
      "       [   0.,    0.,    0.,    1.]])\n",
      ")\n",
      "[NiftiLabelsMasker.transform_single_imgs] Loading data from /Users/fenganyin/Desktop/realdata/data/COBRE/cobre/fmri_0040062.nii.gz\n",
      "[NiftiLabelsMasker.transform_single_imgs] Extracting region signals\n",
      "[NiftiLabelsMasker.transform_single_imgs] Cleaning extracted signals\n",
      "(150, 48)\n",
      "137\n",
      "[NiftiLabelsMasker.fit_transform] loading data from Nifti1Image(\n",
      "shape=(91, 109, 91),\n",
      "affine=array([[   2.,    0.,    0.,  -90.],\n",
      "       [   0.,    2.,    0., -126.],\n",
      "       [   0.,    0.,    2.,  -72.],\n",
      "       [   0.,    0.,    0.,    1.]])\n",
      ")\n",
      "[NiftiLabelsMasker.transform_single_imgs] Loading data from /Users/fenganyin/Desktop/realdata/data/COBRE/cobre/fmri_0040054.nii.gz\n",
      "[NiftiLabelsMasker.transform_single_imgs] Extracting region signals\n",
      "[NiftiLabelsMasker.transform_single_imgs] Cleaning extracted signals\n",
      "(55, 48)\n",
      "138\n",
      "[NiftiLabelsMasker.fit_transform] loading data from Nifti1Image(\n",
      "shape=(91, 109, 91),\n",
      "affine=array([[   2.,    0.,    0.,  -90.],\n",
      "       [   0.,    2.,    0., -126.],\n",
      "       [   0.,    0.,    2.,  -72.],\n",
      "       [   0.,    0.,    0.,    1.]])\n",
      ")\n",
      "[NiftiLabelsMasker.transform_single_imgs] Loading data from /Users/fenganyin/Desktop/realdata/data/COBRE/cobre/fmri_0040076.nii.gz\n",
      "[NiftiLabelsMasker.transform_single_imgs] Extracting region signals\n",
      "[NiftiLabelsMasker.transform_single_imgs] Cleaning extracted signals\n",
      "(73, 48)\n",
      "139\n",
      "[NiftiLabelsMasker.fit_transform] loading data from Nifti1Image(\n",
      "shape=(91, 109, 91),\n",
      "affine=array([[   2.,    0.,    0.,  -90.],\n",
      "       [   0.,    2.,    0., -126.],\n",
      "       [   0.,    0.,    2.,  -72.],\n",
      "       [   0.,    0.,    0.,    1.]])\n",
      ")\n",
      "[NiftiLabelsMasker.transform_single_imgs] Loading data from /Users/fenganyin/Desktop/realdata/data/COBRE/cobre/fmri_0040038.nii.gz\n",
      "[NiftiLabelsMasker.transform_single_imgs] Extracting region signals\n",
      "[NiftiLabelsMasker.transform_single_imgs] Cleaning extracted signals\n",
      "(40, 48)\n",
      "140\n",
      "[NiftiLabelsMasker.fit_transform] loading data from Nifti1Image(\n",
      "shape=(91, 109, 91),\n",
      "affine=array([[   2.,    0.,    0.,  -90.],\n",
      "       [   0.,    2.,    0., -126.],\n",
      "       [   0.,    0.,    2.,  -72.],\n",
      "       [   0.,    0.,    0.,    1.]])\n",
      ")\n",
      "[NiftiLabelsMasker.transform_single_imgs] Loading data from /Users/fenganyin/Desktop/realdata/data/COBRE/cobre/fmri_0040140.nii.gz\n",
      "[NiftiLabelsMasker.transform_single_imgs] Extracting region signals\n",
      "[NiftiLabelsMasker.transform_single_imgs] Cleaning extracted signals\n",
      "(145, 48)\n",
      "141\n",
      "[NiftiLabelsMasker.fit_transform] loading data from Nifti1Image(\n",
      "shape=(91, 109, 91),\n",
      "affine=array([[   2.,    0.,    0.,  -90.],\n",
      "       [   0.,    2.,    0., -126.],\n",
      "       [   0.,    0.,    2.,  -72.],\n",
      "       [   0.,    0.,    0.,    1.]])\n",
      ")\n",
      "[NiftiLabelsMasker.transform_single_imgs] Loading data from /Users/fenganyin/Desktop/realdata/data/COBRE/cobre/fmri_0040144.nii.gz\n",
      "[NiftiLabelsMasker.transform_single_imgs] Extracting region signals\n",
      "[NiftiLabelsMasker.transform_single_imgs] Cleaning extracted signals\n",
      "(49, 48)\n",
      "142\n",
      "[NiftiLabelsMasker.fit_transform] loading data from Nifti1Image(\n",
      "shape=(91, 109, 91),\n",
      "affine=array([[   2.,    0.,    0.,  -90.],\n",
      "       [   0.,    2.,    0., -126.],\n",
      "       [   0.,    0.,    2.,  -72.],\n",
      "       [   0.,    0.,    0.,    1.]])\n",
      ")\n",
      "[NiftiLabelsMasker.transform_single_imgs] Loading data from /Users/fenganyin/Desktop/realdata/data/COBRE/cobre/fmri_0040069.nii.gz\n",
      "[NiftiLabelsMasker.transform_single_imgs] Extracting region signals\n",
      "[NiftiLabelsMasker.transform_single_imgs] Cleaning extracted signals\n",
      "(42, 48)\n",
      "143\n",
      "[NiftiLabelsMasker.fit_transform] loading data from Nifti1Image(\n",
      "shape=(91, 109, 91),\n",
      "affine=array([[   2.,    0.,    0.,  -90.],\n",
      "       [   0.,    2.,    0., -126.],\n",
      "       [   0.,    0.,    2.,  -72.],\n",
      "       [   0.,    0.,    0.,    1.]])\n",
      ")\n",
      "[NiftiLabelsMasker.transform_single_imgs] Loading data from /Users/fenganyin/Desktop/realdata/data/COBRE/cobre/fmri_0040111.nii.gz\n",
      "[NiftiLabelsMasker.transform_single_imgs] Extracting region signals\n",
      "[NiftiLabelsMasker.transform_single_imgs] Cleaning extracted signals\n",
      "(40, 48)\n",
      "144\n",
      "[NiftiLabelsMasker.fit_transform] loading data from Nifti1Image(\n",
      "shape=(91, 109, 91),\n",
      "affine=array([[   2.,    0.,    0.,  -90.],\n",
      "       [   0.,    2.,    0., -126.],\n",
      "       [   0.,    0.,    2.,  -72.],\n",
      "       [   0.,    0.,    0.,    1.]])\n",
      ")\n",
      "[NiftiLabelsMasker.transform_single_imgs] Loading data from /Users/fenganyin/Desktop/realdata/data/COBRE/cobre/fmri_0040066.nii.gz\n",
      "[NiftiLabelsMasker.transform_single_imgs] Extracting region signals\n",
      "[NiftiLabelsMasker.transform_single_imgs] Cleaning extracted signals\n",
      "(109, 48)\n",
      "145\n",
      "[NiftiLabelsMasker.fit_transform] loading data from Nifti1Image(\n",
      "shape=(91, 109, 91),\n",
      "affine=array([[   2.,    0.,    0.,  -90.],\n",
      "       [   0.,    2.,    0., -126.],\n",
      "       [   0.,    0.,    2.,  -72.],\n",
      "       [   0.,    0.,    0.,    1.]])\n",
      ")\n",
      "[NiftiLabelsMasker.transform_single_imgs] Loading data from /Users/fenganyin/Desktop/realdata/data/COBRE/cobre/fmri_0040086.nii.gz\n",
      "[NiftiLabelsMasker.transform_single_imgs] Extracting region signals\n"
     ]
    },
    {
     "name": "stdout",
     "output_type": "stream",
     "text": [
      "[NiftiLabelsMasker.transform_single_imgs] Cleaning extracted signals\n",
      "(48, 48)\n"
     ]
    }
   ],
   "source": [
    "masker = NiftiLabelsMasker(labels_img=atlas_filename, standardize=True,verbose=5)\n",
    "# Here we go from nifti files to the signal time series in a numpy\n",
    "# array. Note how we give confounds to be regressed out during signal\n",
    "# extraction\n",
    "C = 0  # index of control\n",
    "P = 0  # index of patient\n",
    "for i in range(0, nLength):\n",
    "    print(i)\n",
    "    time_series = pd.DataFrame(masker.fit_transform(fmri_filenames[i]))\n",
    "    confounders_data = pd.read_csv(confounders_filenames[i],  sep='\\\\t')\n",
    "    boolVec = confounders_data['scrub']==0\n",
    "    s = pd.Series(boolVec, name='bools') # We filter the data by \"scrub\". This is suggested by the dataset author.\n",
    "    time_series = time_series[s.values]\n",
    "    if data.phenotypic[i][4][0:1].decode('utf-8') == 'C':\n",
    "       time_series.to_csv('data/Output/C' + '{}.csv'.format(C))\n",
    "       C = C+1\n",
    "    elif data.phenotypic[i][4][0:1].decode('utf-8') == 'P':\n",
    "       time_series.to_csv('data/Output/P' + '{}.csv'.format(P))\n",
    "       P = P+1\n",
    "    print(time_series.shape)"
   ]
  },
  {
   "cell_type": "code",
   "execution_count": 22,
   "metadata": {},
   "outputs": [],
   "source": [
    "filelist = [ f for f in glob.glob(os.getcwd() + '/data/Output/C*.csv')]\n",
    "CDat = pd.DataFrame()\n",
    "for f in filelist:\n",
    "    CDat = CDat.append(pd.read_csv(f,index_col=0), ignore_index=True)\n",
    "CDat.to_csv('data/Groupdata/Control.csv')\n",
    "\n",
    "# Combine patient (test) group\n",
    "filelist = [ f for f in glob.glob(os.getcwd() + '/data/Output/P*.csv')]\n",
    "PDat = pd.DataFrame()\n",
    "for f in filelist:\n",
    "    PDat = PDat.append(pd.read_csv(f,index_col=0), ignore_index=True)\n",
    "PDat.to_csv('data/Groupdata/Test.csv')"
   ]
  },
  {
   "cell_type": "code",
   "execution_count": 24,
   "metadata": {},
   "outputs": [
    {
     "data": {
      "text/plain": [
       "array([], shape=(0, 5), dtype=float64)"
      ]
     },
     "execution_count": 24,
     "metadata": {},
     "output_type": "execute_result"
    }
   ],
   "source": [
    "np.zeros((0,5))"
   ]
  },
  {
   "cell_type": "code",
   "execution_count": 25,
   "metadata": {},
   "outputs": [],
   "source": [
    "import random\n",
    "import numpy as np\n",
    "import time\n",
    "import os\n",
    "import pandas as pd\n",
    "import glob"
   ]
  },
  {
   "cell_type": "code",
   "execution_count": 49,
   "metadata": {},
   "outputs": [],
   "source": [
    "def MyMain(DataDir = os.getcwd() + '/data/Groupdata/', OutputDir = os.getcwd() + '/MyResult'):\n",
    "    # load data\n",
    "    X = pd.read_csv(DataDir + 'Control.csv', index_col=0).values\n",
    "    Y = pd.read_csv(DataDir + 'Test.csv', index_col=0).values\n",
    "    nx = np.size(X,0)\n",
    "    ny = np.size(Y,0)\n",
    "    if nx<ny:\n",
    "        Y = Y[random.sample(range(ny), nx), :]\n",
    "    else:\n",
    "        X = X[random.sample(range(nx), ny), :]\n",
    "    \n",
    "    # separate into training set and test set (or validation set)\n",
    "    TrainX, TestX = SplitData(X)\n",
    "    TrainY, TestY = SplitData(Y)\n",
    "    \n",
    "    # select parameter\n",
    "    SelectParam = ChooseComb(TrainX, TrainY, TestX, TestY)\n",
    "              \n",
    "    # Use the selected parameters to calculate the error\n",
    "    Result = OurApproach(TrainX, TrainY, SelectParam)\n",
    "    \n",
    "    # calculate test loss\n",
    "    testloss1, testloss2, testloss3 = Loss(TestX, TestY, Result)\n",
    "    print('objective loss', Result.ObjLoss[-1], 'selected rank', int(SelectParam[3]))\n",
    "    print('test loss', [testloss1, testloss2, testloss3])\n",
    "    # define output file and write setup of n,d,r\n",
    "    SaveFile = OutputDir + '/myLoss.txt'\n",
    "    with open(SaveFile, 'w+') as f:\n",
    "         print('Loss: [{}, {}, {}]'.format(testloss1, testloss2, testloss3), file = f)\n",
    "\n",
    "    \n",
    "    # save result to txt file\n",
    "    SS = pd.DataFrame(Result.Sparse)\n",
    "    SS.to_csv(OutputDir + '/mySparse.csv')"
   ]
  },
  {
   "cell_type": "code",
   "execution_count": 27,
   "metadata": {},
   "outputs": [],
   "source": [
    "def OurInitial(hatSigmaX, hatSigmaY, alphahat, shat, rhat, n):\n",
    "    d = np.size(hatSigmaX, 0)\n",
    "    TildeSigmaX = (n-1)/(n-d-2)*hatSigmaX\n",
    "    TildeSigmaY = (n-1)/(n-d-2)*hatSigmaY\n",
    "    Deltahat = np.linalg.inv(TildeSigmaX) - np.linalg.inv(TildeSigmaY)\n",
    "    JsDeltahat = HardTrun(Deltahat, shat)\n",
    "    S0 = PropTrun(JsDeltahat, alphahat)\n",
    "    if rhat >= 1:\n",
    "        R0 = Deltahat - S0\n",
    "        U0, r1hat = LtoU(R0, rhat, 0)\n",
    "        L0 = UtoL(U0, r1hat)\n",
    "        return S0, U0, L0, r1hat\n",
    "    else:\n",
    "        return S0, np.zeros((d, 0)), np.zeros((d,d)), 0"
   ]
  },
  {
   "cell_type": "code",
   "execution_count": 28,
   "metadata": {},
   "outputs": [],
   "source": [
    "def OurConverg(S0, U0, L0, hatSigmaX, hatSigmaY, tSparse, tLowrank, d, rhat, r1hat, betahat,\\\n",
    "               alphahat, shat, eta1, eta2, TrueError, ObjLoss, Result, maxIter, eps):\n",
    "    hatDiff = hatSigmaY - hatSigmaX\n",
    "    # Iteration\n",
    "    k = 0\n",
    "    Idend = 1\n",
    "    Lambda0 = genLambda(rhat, r1hat)\n",
    "    if rhat > 0:\n",
    "        Const = np.linalg.norm(U0,2)\n",
    "\n",
    "    TimeStart = time.time()\n",
    "    while k <= maxIter:\n",
    "        # calculate some common terms\n",
    "        Term1 = S0 + L0\n",
    "        Term2 = np.matmul(np.matmul(hatSigmaX, Term1), hatSigmaY)\n",
    "        Term3 = np.matmul(np.matmul(hatSigmaY, Term1), hatSigmaX)\n",
    "        Term4 = np.matmul(U0, Lambda0)\n",
    "        Term5 = np.matmul(Term2, Term4)\n",
    "        Term6 = np.matmul(Term3, Term4)\n",
    "        Term7 = np.matmul(hatDiff, Term4)\n",
    "        Term8 = np.matmul(U0.T, U0)\n",
    "\n",
    "        # iteration S\n",
    "        S12 = S0 - eta1 * (0.5*Term2 + 0.5*Term3 - hatDiff)\n",
    "        S13 = HardTrun(S12, shat)\n",
    "        S1 = PropTrun(S13, alphahat)\n",
    "        # iteration U\n",
    "        if rhat>0:\n",
    "            U12 = U0 - eta2 * (Term5 + Term6 - 2 * Term7) - eta2/2 * (np.matmul(U0, Term8) \\\n",
    "                           - np.matmul(np.matmul(Term4, Term8), Lambda0))\n",
    "            Incobound = 2 * Const * (betahat*rhat/d)**(1/2)\n",
    "            U1 = ProjInco(U12, Incobound)\n",
    "        else:\n",
    "            U1 = U0    \n",
    "        # calculate error\n",
    "        succeps = MaxDist(S0, U0, S1, U1, r1hat, rhat)\n",
    "        L1 = UtoL(U1, r1hat)\n",
    "        TrueError = CalTrueErr(TrueError, S1, L1, tSparse, tLowrank)\n",
    "\n",
    "        ObjLoss = LossSampCov(ObjLoss, hatSigmaX, hatSigmaY, S1, U1, L1, r1hat)\n",
    "        if ObjLoss[-1] > ObjLoss[-2]:  # if loss increase, we need decrease step size\n",
    "            eta1 = eta1/(k+1)\n",
    "            eta2 = eta2/(k+1)        \n",
    "        if succeps <= eps:\n",
    "            Idend = 0\n",
    "            break\n",
    "        \n",
    "        S0 = S1.copy()\n",
    "        U0 = U1.copy()\n",
    "        L0 = L1.copy()\n",
    "        k = k + 1\n",
    "    \n",
    "    TimeEnd = time.time()\n",
    "    # save results\n",
    "    Result.CostTime =  TimeEnd - TimeStart\n",
    "    Result.Idend = Idend\n",
    "    Result.TrueError = TrueError\n",
    "    Result.ObjLoss = ObjLoss\n",
    "    Result.Sparse = S1\n",
    "    Result.Lowrank = L1\n",
    "    Result.tSparse = tSparse\n",
    "    Result.tLowrank = tLowrank\n",
    "    Result.Iternum = len(TrueError)\n",
    "    \n",
    "    return Result"
   ]
  },
  {
   "cell_type": "code",
   "execution_count": 29,
   "metadata": {},
   "outputs": [],
   "source": [
    "def SplitData(Dat, Prob = 0.5):\n",
    "    n = np.size(Dat, 0)\n",
    "    nn = int(n * Prob)\n",
    "    a = random.sample(range(n), nn)\n",
    "    TrainDat = Dat[a,:]\n",
    "    TestDat = Dat[list(set(range(n)) - set(a)), :]\n",
    "    return TrainDat, TestDat"
   ]
  },
  {
   "cell_type": "code",
   "execution_count": 30,
   "metadata": {},
   "outputs": [],
   "source": [
    "def HardTrun(M, s):\n",
    "    d = np.size(M, 0)\n",
    "    ThresIndex = min((s - d)//2, d*(d-1)//2)\n",
    "    DiagM = np.diag(np.diag(M))\n",
    "    UOffM = np.triu(M) - DiagM\n",
    "    if ThresIndex == 0:\n",
    "        return DiagM\n",
    "    else:\n",
    "        Thres = np.sort(np.abs(np.ravel(UOffM)))[::-1][ThresIndex-1]\n",
    "        UOffM[np.abs(UOffM)<Thres] = 0\n",
    "        return UOffM + UOffM.T + DiagM"
   ]
  },
  {
   "cell_type": "code",
   "execution_count": 31,
   "metadata": {},
   "outputs": [],
   "source": [
    "def PropTrun(M, alpha):\n",
    "    d = np.size(M, 0)\n",
    "    ThresIndex = int(alpha*d)\n",
    "    DiagM = np.diag(np.diag(M))\n",
    "    if ThresIndex == 0:\n",
    "        return DiagM\n",
    "    else:\n",
    "        OffM = M - DiagM\n",
    "        ThresM = np.flip(np.sort(np.abs(OffM)),axis = 1)[:,ThresIndex-1].reshape((d,1))\n",
    "        IdM = (np.abs(OffM)>=ThresM)\n",
    "        return DiagM + OffM*IdM*IdM.T"
   ]
  },
  {
   "cell_type": "code",
   "execution_count": 32,
   "metadata": {},
   "outputs": [],
   "source": [
    "def LtoU(L, rhatThres, Id):\n",
    "    EigVal, EigVec = np.linalg.eig(L)\n",
    "    if Id == 0:\n",
    "        rhatThres = min(rhatThres, np.size(L,0))\n",
    "        ThreseigVal = np.sort(np.abs(EigVal))[::-1][rhatThres-1]\n",
    "        IdEig = (np.abs(EigVal)>=ThreseigVal)\n",
    "        EigVal = EigVal[IdEig]\n",
    "        EigVec = EigVec[:,IdEig]\n",
    "        IdEig = EigVal.argsort()[::-1]\n",
    "        EigVal = EigVal[IdEig]\n",
    "        EigVec = EigVec[:,IdEig]\n",
    "        EigVec = EigVec.real\n",
    "        U = np.matmul(EigVec, np.diag((np.abs(EigVal))**(1/2)))\n",
    "        r1 = sum(EigVal>0)\n",
    "        return U, r1\n",
    "    elif Id == 1:\n",
    "        IdEig = (np.abs(EigVal)>=rhatThres)\n",
    "        EigVal = EigVal[IdEig]\n",
    "        EigVec = EigVec[:,IdEig]\n",
    "        IdEig = EigVal.argsort()[::-1]\n",
    "        EigVal = EigVal[IdEig]\n",
    "        EigVec = EigVec[:,IdEig]\n",
    "        EigVec = EigVec.real\n",
    "        U = np.matmul(EigVec, np.diag((np.abs(EigVal))**(1/2)))\n",
    "        r = len(EigVal)\n",
    "        r1 = sum(EigVal>0)\n",
    "        return U, r, r1"
   ]
  },
  {
   "cell_type": "code",
   "execution_count": 33,
   "metadata": {},
   "outputs": [],
   "source": [
    "def genLambda(r, r1):\n",
    "    Lambda = np.concatenate((np.concatenate((np.eye(r1),np.zeros((r1,r-r1))), axis = 1),\\\n",
    "                    np.concatenate((np.zeros((r-r1,r1)),-1*np.eye(r-r1)), axis = 1)),axis = 0)\n",
    "    return Lambda"
   ]
  },
  {
   "cell_type": "code",
   "execution_count": 34,
   "metadata": {},
   "outputs": [],
   "source": [
    "def UtoL(U, r1):\n",
    "    r = np.size(U, 1)\n",
    "    Lambda = genLambda(r, r1)\n",
    "    L = np.matmul(U, np.matmul(Lambda, U.T))\n",
    "    return L"
   ]
  },
  {
   "cell_type": "code",
   "execution_count": 35,
   "metadata": {},
   "outputs": [],
   "source": [
    "class SimuResult:\n",
    "    def __init__(self): \n",
    "        self.Param = [0,0,0,0,0]  # parameter setup: betahat, alphahat, shatprob, rhat, r1hat\n",
    "        self.CostTime =  0        # cost time\n",
    "        self.Idend = 1            # indicator of convergence or not\n",
    "        self.TrueError = []       # true error iteration\n",
    "        self.ObjLoss = []         # objective loss\n",
    "        self.Sparse = np.zeros(0) # output: sparse component\n",
    "        self.Lowrank = np.zeros(0)# output: lowrank component\n",
    "        self.tSparse = np.zeros(0)  # true sparse component\n",
    "        self.tLowrank = np.zeros(0) # true lowrank component\n",
    "        self.Iternum = 0          # iteration number\n",
    "        self.Gencomb = [0,0,0]    # combination of n, d, r,\n",
    "        self.Rank = [0, 0]        # true rank and positive index of inertia"
   ]
  },
  {
   "cell_type": "code",
   "execution_count": 36,
   "metadata": {},
   "outputs": [],
   "source": [
    "def CalTrueErr(TrueError, S0, L0, tSparse, tLowrank):\n",
    "    Err1 = np.linalg.norm(S0 - tSparse, 'fro')\n",
    "    Err2 = np.linalg.norm(L0 - tLowrank,'fro')\n",
    "    Err3 = np.linalg.norm(tSparse + tLowrank - (S0 + L0), 'fro')\n",
    "    if np.linalg.norm(tLowrank) < 1e-6:\n",
    "        Scale = 1\n",
    "    else:\n",
    "        Scale = np.linalg.norm(tLowrank,2)**(1/2)\n",
    "    \n",
    "    TrueError.append([Err1, Err2, Err3/Scale])\n",
    "    return TrueError"
   ]
  },
  {
   "cell_type": "code",
   "execution_count": 37,
   "metadata": {},
   "outputs": [],
   "source": [
    "def LossSampCov(ObjLoss, hatSigmaX, hatSigmaY, S0, U0, L0, r1hat):\n",
    "    DeltaHat = S0 + L0\n",
    "    hatDiff = hatSigmaY - hatSigmaX\n",
    "    A = np.linalg.norm(np.matmul(U0[:,0:r1hat].T,  U0[:,r1hat:]),'fro')**2/2\n",
    "    B = np.matmul(DeltaHat, np.matmul(hatSigmaX, np.matmul(DeltaHat, hatSigmaY)))\n",
    "    C = np.matmul(DeltaHat, hatDiff)\n",
    "    D = 0.5 * np.trace(B) - np.trace(C) + A\n",
    "    ObjLoss.append(D)\n",
    "    return ObjLoss"
   ]
  },
  {
   "cell_type": "code",
   "execution_count": 38,
   "metadata": {},
   "outputs": [],
   "source": [
    "def ProjInco(M, B):\n",
    "    RowNorm = np.linalg.norm(M, axis = 1)\n",
    "    Idnorm = RowNorm > B\n",
    "    RowNorm[Idnorm] = B/RowNorm[Idnorm]\n",
    "    RowNorm[(1-Idnorm).astype(bool)] = 1\n",
    "    return np.matmul(np.diag(RowNorm), M)"
   ]
  },
  {
   "cell_type": "code",
   "execution_count": 39,
   "metadata": {},
   "outputs": [],
   "source": [
    "def MaxDist(S0, U0, S1, U1, r1hat, rhat):\n",
    "    if rhat == 0:\n",
    "        Scale = 1\n",
    "    else:\n",
    "        Scale = np.linalg.norm(U1, 2)**2\n",
    "            \n",
    "    D1 = np.linalg.norm(S0 - S1,'fro')**2/Scale\n",
    "    U01 = U0[:,0:r1hat]\n",
    "    U02 = U0[:,r1hat:]\n",
    "    U11 = U1[:,0:r1hat]\n",
    "    U12 = U1[:,r1hat:]\n",
    "    UU1 = np.matmul(U01.T, U11)\n",
    "    UU2 = np.matmul(U02.T, U12)\n",
    "    if r1hat > 0:\n",
    "        D21 = np.linalg.norm(U01)**2 + np.linalg.norm(U11)**2 - 2*np.linalg.norm(UU1,'nuc')\n",
    "    else:\n",
    "        D21 = 0\n",
    "    \n",
    "    if rhat - r1hat > 0:\n",
    "        D22 = np.linalg.norm(U02)**2 + np.linalg.norm(U12)**2 - 2*np.linalg.norm(UU2,'nuc')\n",
    "    else:\n",
    "        D22 = 0\n",
    "    \n",
    "    D2 = D21 + D22\n",
    "    return max(D1, D2)"
   ]
  },
  {
   "cell_type": "code",
   "execution_count": 40,
   "metadata": {},
   "outputs": [],
   "source": [
    "def Loss(TestX, TestY, Result):\n",
    "    CovTestX = np.cov(TestX,rowvar = False)\n",
    "    CovTestY = np.cov(TestY,rowvar = False)\n",
    "    DiffCov = CovTestY - CovTestX\n",
    "    DeltaHat = Result.Sparse + Result.Lowrank\n",
    "    A = np.matmul(DeltaHat, np.matmul(CovTestX, np.matmul(DeltaHat, CovTestY)))\n",
    "    B = np.matmul(DeltaHat, DiffCov)\n",
    "    Return1 = 0.5 * np.trace(A) - np.trace(B)\n",
    "    ReturnM2 = (np.matmul(CovTestX, np.matmul(DeltaHat, CovTestY)) + np.matmul(CovTestX, np.matmul(DeltaHat, CovTestY)))/2 - DiffCov\n",
    "    Return2 = np.max(np.abs(ReturnM2))\n",
    "    Return3 = np.linalg.norm(ReturnM2, 'fro')\n",
    "    return Return1, Return2, Return3"
   ]
  },
  {
   "cell_type": "code",
   "execution_count": 41,
   "metadata": {},
   "outputs": [],
   "source": [
    "def OurApproach(X,Y,SelectParam):\n",
    "    n, d = np.size(X,0), np.size(X,1)\n",
    "    hatSigmaX = np.cov(X,rowvar = False)\n",
    "    hatSigmaY = np.cov(Y,rowvar = False)\n",
    "    # run our algorithm\n",
    "    Result = OurTwoStageMethod(hatSigmaX,hatSigmaY,np.zeros((d,d)),np.zeros((d,d)),n,d,SelectParam[0],\\\n",
    "                                   SelectParam[1],SelectParam[2],int(SelectParam[3]))\n",
    "\n",
    "    return Result"
   ]
  },
  {
   "cell_type": "code",
   "execution_count": 42,
   "metadata": {},
   "outputs": [],
   "source": [
    "def ChooseComb(TrainX, TrainY, TestX, TestY, Betahat = [1,3], Alphahat = [0.1,0.3,0.5,0.8],\\\n",
    "               Shatprob = [5,10,30,35], Rhat = [42,45,48]):\n",
    "    d = np.size(TrainX,1)\n",
    "    n = np.size(TrainX,0)\n",
    "    # calculate covariance matrix for two groups\n",
    "    hatSigmaX = np.cov(TrainX,rowvar = False)\n",
    "    hatSigmaY = np.cov(TrainY,rowvar = False)\n",
    "\n",
    "    # for loop to choose combination\n",
    "    Param = np.zeros((0, 5))\n",
    "    for betahat in Betahat:\n",
    "        for alphahat in Alphahat:\n",
    "            for shatprob in Shatprob:\n",
    "                for rhat in Rhat:\n",
    "                    print('Choose Param', [betahat, alphahat, shatprob, rhat])\n",
    "                    Result = OurTwoStageMethod(hatSigmaX, hatSigmaY, np.zeros((d,d)),\\\n",
    "                                        np.zeros((d,d)), n,d, betahat, alphahat, shatprob, rhat)\n",
    "                    print('Conv', Result.Idend)\n",
    "                    \n",
    "                    if Result.Idend == 0:\n",
    "                        testloss1, testloss2, testloss3 = Loss(TestX, TestY, Result)\n",
    "                        print('Loss', [testloss1, testloss2, testloss3])\n",
    "                        Param = np.concatenate((Param, np.array([[betahat, alphahat, shatprob,\\\n",
    "                                                                  rhat, testloss1]])), axis=0) \n",
    "    \n",
    "    if len(Param) > 0:\n",
    "        SelectParam = Param[np.argmin(Param[:,4]), 0:4]\n",
    "    else:\n",
    "        SelectParam = np.array([4, 0.15, 0.3, 4])\n",
    "    \n",
    "    return SelectParam"
   ]
  },
  {
   "cell_type": "code",
   "execution_count": 43,
   "metadata": {},
   "outputs": [],
   "source": [
    "def OurTwoStageMethod(hatSigmaX, hatSigmaY, tSparse, tLowrank, n,d, betahat = 1, alphahat = 0.5,\\\n",
    "                       shatprob = 5, rhat = 2, eta1 = 0.01, maxIter = 20000, eps = 1e-5):\n",
    "    Result = SimuResult()\n",
    "    shat = int(d*(1 + shatprob))  # sparsity\n",
    "    # Run Stage-I algorithm\n",
    "    S0, U0, L0, r1hat = OurInitial(hatSigmaX,hatSigmaY,alphahat,shat,rhat,n)    \n",
    "    # save parameter we use\n",
    "    Result.Param = [betahat, alphahat, shatprob, rhat, r1hat]\n",
    "    # initialize error matrix\n",
    "    TrueError, ObjLoss = [], []\n",
    "    TrueError = CalTrueErr(TrueError, S0, L0, tSparse, tLowrank)\n",
    "    ObjLoss = LossSampCov(ObjLoss, hatSigmaX, hatSigmaY, S0, U0, L0, r1hat)\n",
    "\n",
    "    # Run Stage-II algorithm\n",
    "    # specify eta2 such that 0.2<= eta2<= 0.7\n",
    "    if rhat > 0:\n",
    "        if 3*eta1 <= np.linalg.norm(U0, 2)**2 and np.linalg.norm(U0, 2)**2 <= 5*eta1:\n",
    "            eta2 = eta1/np.linalg.norm(U0, 2)**2/10\n",
    "        else:\n",
    "            eta2 = eta1/2\n",
    "    else:\n",
    "        eta2 = 1\n",
    "    \n",
    "    Result = OurConverg(S0, U0, L0, hatSigmaX, hatSigmaY, tSparse, tLowrank, d, rhat, r1hat,\\\n",
    "                        betahat, alphahat, shat, eta1, eta2, TrueError, ObjLoss, Result, \\\n",
    "                        maxIter, eps)\n",
    "    return Result"
   ]
  },
  {
   "cell_type": "code",
   "execution_count": 44,
   "metadata": {},
   "outputs": [],
   "source": [
    "import os\n",
    "#import matplotlib as mpl\n",
    "#if os.environ.get('DISPLAY','') == '':\n",
    "#    print('no display found. Using non-interactive Agg backend')\n",
    "#    mpl.use('Agg')\n",
    "\n",
    "import numpy as np\n",
    "#import matplotlib.pyplot as plt\n",
    "import random\n",
    "import sys\n",
    "import pickle\n",
    "import time\n",
    "import re\n",
    "import pandas as pd\n",
    "import glob\n",
    "from nilearn import plotting"
   ]
  },
  {
   "cell_type": "code",
   "execution_count": 45,
   "metadata": {},
   "outputs": [
    {
     "name": "stdout",
     "output_type": "stream",
     "text": [
      "Remove result file. Done!\n"
     ]
    }
   ],
   "source": [
    "filelist = glob.glob(os.getcwd() + '/MyResult' + '/*')\n",
    "for f in filelist:\n",
    "    os.remove(f)\n",
    "print('Remove result file. Done!')"
   ]
  },
  {
   "cell_type": "code",
   "execution_count": 46,
   "metadata": {},
   "outputs": [
    {
     "data": {
      "text/plain": [
       "'/Users/fenganyin/Desktop/realdata'"
      ]
     },
     "execution_count": 46,
     "metadata": {},
     "output_type": "execute_result"
    }
   ],
   "source": [
    "os.getcwd()"
   ]
  },
  {
   "cell_type": "code",
   "execution_count": 47,
   "metadata": {},
   "outputs": [],
   "source": [
    "random.seed(2020)\n",
    "np.random.seed(2020)"
   ]
  },
  {
   "cell_type": "code",
   "execution_count": 51,
   "metadata": {},
   "outputs": [
    {
     "name": "stdout",
     "output_type": "stream",
     "text": [
      "Choose Param [1, 0.1, 5, 42]\n",
      "Conv 0\n",
      "Loss [-3.6577210887630836, 0.11822782697754149, 1.7364905561839532]\n",
      "Choose Param [1, 0.1, 5, 45]\n",
      "Conv 0\n",
      "Loss [-3.785001131401401, 0.10813688245869785, 1.5123227370439554]\n",
      "Choose Param [1, 0.1, 5, 48]\n",
      "Conv 0\n",
      "Loss [-3.787115319417028, 0.10461950460971683, 1.4761314115143431]\n",
      "Choose Param [1, 0.1, 10, 42]\n",
      "Conv 0\n",
      "Loss [-3.6518096213274545, 0.12332741817365923, 1.7194554407101468]\n",
      "Choose Param [1, 0.1, 10, 45]\n",
      "Conv 0\n",
      "Loss [-3.78166977907615, 0.10700382099552119, 1.498117272178811]\n",
      "Choose Param [1, 0.1, 10, 48]\n",
      "Conv 0\n",
      "Loss [-3.787112646726534, 0.10458785414036792, 1.4758176800533063]\n",
      "Choose Param [1, 0.1, 30, 42]\n",
      "Conv 0\n",
      "Loss [-3.6519565210513782, 0.12331399237410885, 1.7195391660908628]\n",
      "Choose Param [1, 0.1, 30, 45]\n",
      "Conv 0\n",
      "Loss [-3.78166977907615, 0.10700382099552119, 1.498117272178811]\n",
      "Choose Param [1, 0.1, 30, 48]\n",
      "Conv 0\n",
      "Loss [-3.787112646726534, 0.10458785414036792, 1.4758176800533063]\n",
      "Choose Param [1, 0.1, 35, 42]\n",
      "Conv 0\n",
      "Loss [-3.6519565210513782, 0.12331399237410885, 1.7195391660908628]\n",
      "Choose Param [1, 0.1, 35, 45]\n",
      "Conv 0\n",
      "Loss [-3.7816696203638847, 0.1070042367334901, 1.4981174399202346]\n",
      "Choose Param [1, 0.1, 35, 48]\n",
      "Conv 0\n",
      "Loss [-3.787112646726534, 0.10458785414036792, 1.4758176800533063]\n",
      "Choose Param [1, 0.3, 5, 42]\n",
      "Conv 0\n",
      "Loss [-3.6627154893758576, 0.17150566344775459, 2.351412925530382]\n",
      "Choose Param [1, 0.3, 5, 45]\n",
      "Conv 0\n",
      "Loss [-3.7876703163674925, 0.1100336299134266, 1.533547812334388]\n",
      "Choose Param [1, 0.3, 5, 48]\n",
      "Conv 0\n",
      "Loss [-3.7871747608356356, 0.10450663044884663, 1.4747436301995853]\n",
      "Choose Param [1, 0.3, 10, 42]\n",
      "Conv 0\n",
      "Loss [-3.500469330897573, 0.21035591365368833, 2.410633856838463]\n",
      "Choose Param [1, 0.3, 10, 45]\n",
      "Conv 0\n",
      "Loss [-3.787513782516146, 0.10962316569736846, 1.4826643113202151]\n",
      "Choose Param [1, 0.3, 10, 48]\n",
      "Conv 0\n",
      "Loss [-3.7871833510722794, 0.10443516859629809, 1.4745619959654634]\n",
      "Choose Param [1, 0.3, 30, 42]\n",
      "Conv 0\n",
      "Loss [-3.232108540334556, 0.19926808951307584, 2.98951359679011]\n",
      "Choose Param [1, 0.3, 30, 45]\n",
      "Conv 0\n",
      "Loss [-3.774248776301408, 0.12233901340792609, 1.5912928832225146]\n",
      "Choose Param [1, 0.3, 30, 48]\n",
      "Conv 0\n",
      "Loss [-3.7872047926589474, 0.1043990085737918, 1.4743139676776618]\n",
      "Choose Param [1, 0.3, 35, 42]\n",
      "Conv 0\n",
      "Loss [-3.2321026066593337, 0.19927346475006588, 2.989596743619703]\n",
      "Choose Param [1, 0.3, 35, 45]\n",
      "Conv 0\n",
      "Loss [-3.774248776301408, 0.12233901340792609, 1.5912928832225146]\n",
      "Choose Param [1, 0.3, 35, 48]\n",
      "Conv 0\n",
      "Loss [-3.7872047926589474, 0.1043990085737918, 1.4743139676776618]\n",
      "Choose Param [1, 0.5, 5, 42]\n",
      "Conv 0\n",
      "Loss [-3.6294612634761743, 0.1997795616566528, 2.5329626745626683]\n",
      "Choose Param [1, 0.5, 5, 45]\n",
      "Conv 0\n",
      "Loss [-3.7849525907947, 0.1376185306403156, 2.2491724408713716]\n",
      "Choose Param [1, 0.5, 5, 48]\n",
      "Conv 0\n",
      "Loss [-3.787180085864616, 0.10457187678541556, 1.4751819862631947]\n",
      "Choose Param [1, 0.5, 10, 42]\n",
      "Conv 0\n",
      "Loss [-2.722852845480741, 0.2918786694512961, 4.419883349702503]\n",
      "Choose Param [1, 0.5, 10, 45]\n",
      "Conv 0\n",
      "Loss [-3.7790076978699023, 0.10008606710862457, 1.4507544557872574]\n",
      "Choose Param [1, 0.5, 10, 48]\n",
      "Conv 0\n",
      "Loss [-3.7872016911692867, 0.1043463041572704, 1.473880453143211]\n",
      "Choose Param [1, 0.5, 30, 42]\n",
      "Conv 0\n",
      "Loss [-3.787340471408008, 0.11075136230632081, 1.5525705551046578]\n",
      "Choose Param [1, 0.5, 30, 45]\n",
      "Conv 0\n",
      "Loss [-3.7862976369097296, 0.108155522078166, 1.5113845025068726]\n",
      "Choose Param [1, 0.5, 30, 48]\n",
      "Conv 0\n",
      "Loss [-3.7872567735896823, 0.10446359133280247, 1.4745322887545007]\n",
      "Choose Param [1, 0.5, 35, 42]\n",
      "Conv 0\n",
      "Loss [-3.7873409681917662, 0.11075095623029417, 1.5525611427232489]\n",
      "Choose Param [1, 0.5, 35, 45]\n",
      "Conv 0\n",
      "Loss [-3.7862976369097296, 0.108155522078166, 1.5113845025068726]\n",
      "Choose Param [1, 0.5, 35, 48]\n",
      "Conv 0\n",
      "Loss [-3.7872567735896823, 0.10446359133280247, 1.4745322887545007]\n",
      "Choose Param [1, 0.8, 5, 42]\n",
      "Conv 0\n",
      "Loss [-3.6294612634761743, 0.1997795616566528, 2.5329626745626683]\n",
      "Choose Param [1, 0.8, 5, 45]\n",
      "Conv 0\n",
      "Loss [-3.7849525907947, 0.1376185306403156, 2.2491724408713716]\n",
      "Choose Param [1, 0.8, 5, 48]\n",
      "Conv 0\n",
      "Loss [-3.787180085864616, 0.10457187678541556, 1.4751819862631947]\n",
      "Choose Param [1, 0.8, 10, 42]\n",
      "Conv 0\n",
      "Loss [-2.722852845480741, 0.2918786694512961, 4.419883349702503]\n",
      "Choose Param [1, 0.8, 10, 45]\n",
      "Conv 0\n",
      "Loss [-3.7790076978699023, 0.10008606710862457, 1.4507544557872574]\n",
      "Choose Param [1, 0.8, 10, 48]\n",
      "Conv 0\n",
      "Loss [-3.7872016911692867, 0.1043463041572704, 1.473880453143211]\n",
      "Choose Param [1, 0.8, 30, 42]\n",
      "Conv 0\n",
      "Loss [-3.785194157246135, 0.10281318775536469, 1.4838514632061552]\n",
      "Choose Param [1, 0.8, 30, 45]\n",
      "Conv 0\n",
      "Loss [-3.786085105662461, 0.10502438631810362, 1.4847714676583503]\n",
      "Choose Param [1, 0.8, 30, 48]\n",
      "Conv 0\n",
      "Loss [-3.7872837847599055, 0.10488416989735797, 1.4779442904222806]\n",
      "Choose Param [1, 0.8, 35, 42]\n",
      "Conv 0\n",
      "Loss [-3.783744763568693, 0.11406246960415187, 1.6145367935025274]\n",
      "Choose Param [1, 0.8, 35, 45]\n",
      "Conv 0\n",
      "Loss [-3.7837917982074494, 0.11417752525302688, 1.6157794480962275]\n",
      "Choose Param [1, 0.8, 35, 48]\n",
      "Conv 0\n",
      "Loss [-3.787293187425446, 0.10515831946308346, 1.4803814842357101]\n",
      "Choose Param [3, 0.1, 5, 42]\n",
      "Conv 0\n",
      "Loss [-3.6577210887630836, 0.11822782697754149, 1.7364905561839532]\n",
      "Choose Param [3, 0.1, 5, 45]\n",
      "Conv 0\n",
      "Loss [-3.785001131401401, 0.10813688245869785, 1.5123227370439554]\n",
      "Choose Param [3, 0.1, 5, 48]\n",
      "Conv 0\n",
      "Loss [-3.787115319417028, 0.10461950460971683, 1.4761314115143431]\n",
      "Choose Param [3, 0.1, 10, 42]\n",
      "Conv 0\n",
      "Loss [-3.6518096213274545, 0.12332741817365923, 1.7194554407101468]\n",
      "Choose Param [3, 0.1, 10, 45]\n",
      "Conv 0\n",
      "Loss [-3.78166977907615, 0.10700382099552119, 1.498117272178811]\n",
      "Choose Param [3, 0.1, 10, 48]\n",
      "Conv 0\n",
      "Loss [-3.787112646726534, 0.10458785414036792, 1.4758176800533063]\n",
      "Choose Param [3, 0.1, 30, 42]\n",
      "Conv 0\n",
      "Loss [-3.6519565210513782, 0.12331399237410885, 1.7195391660908628]\n",
      "Choose Param [3, 0.1, 30, 45]\n",
      "Conv 0\n",
      "Loss [-3.78166977907615, 0.10700382099552119, 1.498117272178811]\n",
      "Choose Param [3, 0.1, 30, 48]\n",
      "Conv 0\n",
      "Loss [-3.787112646726534, 0.10458785414036792, 1.4758176800533063]\n",
      "Choose Param [3, 0.1, 35, 42]\n",
      "Conv 0\n",
      "Loss [-3.6519565210513782, 0.12331399237410885, 1.7195391660908628]\n",
      "Choose Param [3, 0.1, 35, 45]\n",
      "Conv 0\n",
      "Loss [-3.7816696203638847, 0.1070042367334901, 1.4981174399202346]\n",
      "Choose Param [3, 0.1, 35, 48]\n",
      "Conv 0\n",
      "Loss [-3.787112646726534, 0.10458785414036792, 1.4758176800533063]\n",
      "Choose Param [3, 0.3, 5, 42]\n",
      "Conv 0\n",
      "Loss [-3.6627154893758576, 0.17150566344775459, 2.351412925530382]\n",
      "Choose Param [3, 0.3, 5, 45]\n",
      "Conv 0\n",
      "Loss [-3.7876703163674925, 0.1100336299134266, 1.533547812334388]\n",
      "Choose Param [3, 0.3, 5, 48]\n",
      "Conv 0\n",
      "Loss [-3.7871747608356356, 0.10450663044884663, 1.4747436301995853]\n",
      "Choose Param [3, 0.3, 10, 42]\n",
      "Conv 0\n",
      "Loss [-3.500469330897573, 0.21035591365368833, 2.410633856838463]\n",
      "Choose Param [3, 0.3, 10, 45]\n",
      "Conv 0\n",
      "Loss [-3.787513782516146, 0.10962316569736846, 1.4826643113202151]\n",
      "Choose Param [3, 0.3, 10, 48]\n",
      "Conv 0\n",
      "Loss [-3.7871833510722794, 0.10443516859629809, 1.4745619959654634]\n",
      "Choose Param [3, 0.3, 30, 42]\n",
      "Conv 0\n",
      "Loss [-3.232108540334556, 0.19926808951307584, 2.98951359679011]\n",
      "Choose Param [3, 0.3, 30, 45]\n",
      "Conv 0\n",
      "Loss [-3.774248776301408, 0.12233901340792609, 1.5912928832225146]\n",
      "Choose Param [3, 0.3, 30, 48]\n",
      "Conv 0\n",
      "Loss [-3.7872047926589474, 0.1043990085737918, 1.4743139676776618]\n",
      "Choose Param [3, 0.3, 35, 42]\n",
      "Conv 0\n",
      "Loss [-3.2321026066593337, 0.19927346475006588, 2.989596743619703]\n",
      "Choose Param [3, 0.3, 35, 45]\n",
      "Conv 0\n",
      "Loss [-3.774248776301408, 0.12233901340792609, 1.5912928832225146]\n",
      "Choose Param [3, 0.3, 35, 48]\n",
      "Conv 0\n",
      "Loss [-3.7872047926589474, 0.1043990085737918, 1.4743139676776618]\n",
      "Choose Param [3, 0.5, 5, 42]\n",
      "Conv 0\n",
      "Loss [-3.6294612634761743, 0.1997795616566528, 2.5329626745626683]\n",
      "Choose Param [3, 0.5, 5, 45]\n",
      "Conv 0\n",
      "Loss [-3.7849525907947, 0.1376185306403156, 2.2491724408713716]\n",
      "Choose Param [3, 0.5, 5, 48]\n",
      "Conv 0\n",
      "Loss [-3.787180085864616, 0.10457187678541556, 1.4751819862631947]\n",
      "Choose Param [3, 0.5, 10, 42]\n",
      "Conv 0\n",
      "Loss [-2.722852845480741, 0.2918786694512961, 4.419883349702503]\n",
      "Choose Param [3, 0.5, 10, 45]\n",
      "Conv 0\n",
      "Loss [-3.7790076978699023, 0.10008606710862457, 1.4507544557872574]\n",
      "Choose Param [3, 0.5, 10, 48]\n",
      "Conv 0\n",
      "Loss [-3.7872016911692867, 0.1043463041572704, 1.473880453143211]\n",
      "Choose Param [3, 0.5, 30, 42]\n",
      "Conv 0\n",
      "Loss [-3.787340471408008, 0.11075136230632081, 1.5525705551046578]\n",
      "Choose Param [3, 0.5, 30, 45]\n",
      "Conv 0\n",
      "Loss [-3.7862976369097296, 0.108155522078166, 1.5113845025068726]\n",
      "Choose Param [3, 0.5, 30, 48]\n",
      "Conv 0\n",
      "Loss [-3.7872567735896823, 0.10446359133280247, 1.4745322887545007]\n",
      "Choose Param [3, 0.5, 35, 42]\n",
      "Conv 0\n",
      "Loss [-3.7873409681917662, 0.11075095623029417, 1.5525611427232489]\n",
      "Choose Param [3, 0.5, 35, 45]\n",
      "Conv 0\n",
      "Loss [-3.7862976369097296, 0.108155522078166, 1.5113845025068726]\n",
      "Choose Param [3, 0.5, 35, 48]\n",
      "Conv 0\n",
      "Loss [-3.7872567735896823, 0.10446359133280247, 1.4745322887545007]\n",
      "Choose Param [3, 0.8, 5, 42]\n"
     ]
    },
    {
     "name": "stdout",
     "output_type": "stream",
     "text": [
      "Conv 0\n",
      "Loss [-3.6294612634761743, 0.1997795616566528, 2.5329626745626683]\n",
      "Choose Param [3, 0.8, 5, 45]\n",
      "Conv 0\n",
      "Loss [-3.7849525907947, 0.1376185306403156, 2.2491724408713716]\n",
      "Choose Param [3, 0.8, 5, 48]\n",
      "Conv 0\n",
      "Loss [-3.787180085864616, 0.10457187678541556, 1.4751819862631947]\n",
      "Choose Param [3, 0.8, 10, 42]\n",
      "Conv 0\n",
      "Loss [-2.722852845480741, 0.2918786694512961, 4.419883349702503]\n",
      "Choose Param [3, 0.8, 10, 45]\n",
      "Conv 0\n",
      "Loss [-3.7790076978699023, 0.10008606710862457, 1.4507544557872574]\n",
      "Choose Param [3, 0.8, 10, 48]\n",
      "Conv 0\n",
      "Loss [-3.7872016911692867, 0.1043463041572704, 1.473880453143211]\n",
      "Choose Param [3, 0.8, 30, 42]\n",
      "Conv 0\n",
      "Loss [-3.785194157246135, 0.10281318775536469, 1.4838514632061552]\n",
      "Choose Param [3, 0.8, 30, 45]\n",
      "Conv 0\n",
      "Loss [-3.786085105662461, 0.10502438631810362, 1.4847714676583503]\n",
      "Choose Param [3, 0.8, 30, 48]\n",
      "Conv 0\n",
      "Loss [-3.7872837847599055, 0.10488416989735797, 1.4779442904222806]\n",
      "Choose Param [3, 0.8, 35, 42]\n",
      "Conv 0\n",
      "Loss [-3.783744763568693, 0.11406246960415187, 1.6145367935025274]\n",
      "Choose Param [3, 0.8, 35, 45]\n",
      "Conv 0\n",
      "Loss [-3.7837917982074494, 0.11417752525302688, 1.6157794480962275]\n",
      "Choose Param [3, 0.8, 35, 48]\n",
      "Conv 0\n",
      "Loss [-3.787293187425446, 0.10515831946308346, 1.4803814842357101]\n",
      "objective loss -5.957615793455247 selected rank 45\n",
      "test loss [-3.7876703163674925, 0.1100336299134266, 1.533547812334388]\n"
     ]
    }
   ],
   "source": [
    "MyMain()"
   ]
  },
  {
   "cell_type": "code",
   "execution_count": 52,
   "metadata": {},
   "outputs": [],
   "source": [
    "import os\n",
    "import numpy as np\n",
    "#import matplotlib.pyplot as plt\n",
    "import random\n",
    "import sys\n",
    "import pickle\n",
    "import time\n",
    "import re\n",
    "import pandas as pd\n",
    "import glob\n",
    "from nilearn import plotting"
   ]
  },
  {
   "cell_type": "code",
   "execution_count": 56,
   "metadata": {},
   "outputs": [],
   "source": [
    "# import label and coordinate\n",
    "Lab = pd.read_csv(os.getcwd() + '/data/Output/labels.csv', index_col=0)['0'].tolist()[1:]\n",
    "f = open(os.getcwd()+'/data/atlas.txt', \"r\")\n",
    "atlas = f.read().splitlines()[0]\n",
    "Coor = plotting.find_parcellation_cut_coords(labels_img=atlas_filename)\n",
    "f.close()"
   ]
  },
  {
   "cell_type": "code",
   "execution_count": 58,
   "metadata": {},
   "outputs": [],
   "source": [
    "mySparse = pd.read_csv(os.getcwd()+'/MyResult/mySparse.csv', index_col=0).values"
   ]
  },
  {
   "cell_type": "code",
   "execution_count": 60,
   "metadata": {},
   "outputs": [
    {
     "data": {
      "image/png": "[encoded data removed]",
      "text/plain": [
       "<Figure size 475.2x187.2 with 5 Axes>"
      ]
     },
     "metadata": {},
     "output_type": "display_data"
    }
   ],
   "source": [
    "# show brain\n",
    "\n",
    "# plot connectome with 80% edge strength in the connectivity\n",
    "fig = plotting.plot_connectome(mySparse, Coor,edge_threshold=\"80%\",colorbar = True)\n",
    "fig.savefig('Figures/my.png', dpi = 250)"
   ]
  },
  {
   "cell_type": "code",
   "execution_count": null,
   "metadata": {},
   "outputs": [],
   "source": []
  }
 ],
 "metadata": {
  "kernelspec": {
   "display_name": "Python 3",
   "language": "python",
   "name": "python3"
  },
  "language_info": {
   "codemirror_mode": {
    "name": "ipython",
    "version": 3
   },
   "file_extension": ".py",
   "mimetype": "text/x-python",
   "name": "python",
   "nbconvert_exporter": "python",
   "pygments_lexer": "ipython3",
   "version": "3.7.6"
  }
 },
 "nbformat": 4,
 "nbformat_minor": 4
}
